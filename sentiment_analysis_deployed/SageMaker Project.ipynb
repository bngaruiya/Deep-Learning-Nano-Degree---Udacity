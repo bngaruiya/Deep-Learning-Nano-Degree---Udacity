{
 "cells": [
  {
   "cell_type": "markdown",
   "metadata": {},
   "source": [
    "# Creating a Sentiment Analysis Web App\n",
    "## Using PyTorch and SageMaker\n",
    "\n",
    "_Deep Learning Nanodegree Program | Deployment_\n",
    "\n",
    "---\n",
    "\n",
    "Now that we have a basic understanding of how SageMaker works we will try to use it to construct a complete project from end to end. Our goal will be to have a simple web page which a user can use to enter a movie review. The web page will then send the review off to our deployed model which will predict the sentiment of the entered review.\n",
    "\n",
    "## Instructions\n",
    "\n",
    "Some template code has already been provided for you, and you will need to implement additional functionality to successfully complete this notebook. You will not need to modify the included code beyond what is requested. Sections that begin with '**TODO**' in the header indicate that you need to complete or implement some portion within them. Instructions will be provided for each section and the specifics of the implementation are marked in the code block with a `# TODO: ...` comment. Please be sure to read the instructions carefully!\n",
    "\n",
    "In addition to implementing code, there will be questions for you to answer which relate to the task and your implementation. Each section where you will answer a question is preceded by a '**Question:**' header. Carefully read each question and provide your answer below the '**Answer:**' header by editing the Markdown cell.\n",
    "\n",
    "> **Note**: Code and Markdown cells can be executed using the **Shift+Enter** keyboard shortcut. In addition, a cell can be edited by typically clicking it (double-click for Markdown cells) or by pressing **Enter** while it is highlighted.\n",
    "\n",
    "## General Outline\n",
    "\n",
    "Recall the general outline for SageMaker projects using a notebook instance.\n",
    "\n",
    "1. Download or otherwise retrieve the data.\n",
    "2. Process / Prepare the data.\n",
    "3. Upload the processed data to S3.\n",
    "4. Train a chosen model.\n",
    "5. Test the trained model (typically using a batch transform job).\n",
    "6. Deploy the trained model.\n",
    "7. Use the deployed model.\n",
    "\n",
    "For this project, you will be following the steps in the general outline with some modifications. \n",
    "\n",
    "First, you will not be testing the model in its own step. You will still be testing the model, however, you will do it by deploying your model and then using the deployed model by sending the test data to it. One of the reasons for doing this is so that you can make sure that your deployed model is working correctly before moving forward.\n",
    "\n",
    "In addition, you will deploy and use your trained model a second time. In the second iteration you will customize the way that your trained model is deployed by including some of your own code. In addition, your newly deployed model will be used in the sentiment analysis web app."
   ]
  },
  {
   "cell_type": "markdown",
   "metadata": {},
   "source": [
    "## Step 1: Downloading the data\n",
    "\n",
    "As in the XGBoost in SageMaker notebook, we will be using the [IMDb dataset](http://ai.stanford.edu/~amaas/data/sentiment/)\n",
    "\n",
    "> Maas, Andrew L., et al. [Learning Word Vectors for Sentiment Analysis](http://ai.stanford.edu/~amaas/data/sentiment/). In _Proceedings of the 49th Annual Meeting of the Association for Computational Linguistics: Human Language Technologies_. Association for Computational Linguistics, 2011."
   ]
  },
  {
   "cell_type": "code",
   "execution_count": 1,
   "metadata": {},
   "outputs": [
    {
     "name": "stdout",
     "output_type": "stream",
     "text": [
      "mkdir: cannot create directory ‘../data’: File exists\n",
      "--2019-12-27 19:04:40--  http://ai.stanford.edu/~amaas/data/sentiment/aclImdb_v1.tar.gz\n",
      "Resolving ai.stanford.edu (ai.stanford.edu)... 171.64.68.10\n",
      "Connecting to ai.stanford.edu (ai.stanford.edu)|171.64.68.10|:80... connected.\n",
      "HTTP request sent, awaiting response... 200 OK\n",
      "Length: 84125825 (80M) [application/x-gzip]\n",
      "Saving to: ‘../data/aclImdb_v1.tar.gz’\n",
      "\n",
      "../data/aclImdb_v1. 100%[===================>]  80.23M  9.65MB/s    in 16s     \n",
      "\n",
      "2019-12-27 19:04:56 (5.10 MB/s) - ‘../data/aclImdb_v1.tar.gz’ saved [84125825/84125825]\n",
      "\n"
     ]
    }
   ],
   "source": [
    "%mkdir ../data\n",
    "!wget -O ../data/aclImdb_v1.tar.gz http://ai.stanford.edu/~amaas/data/sentiment/aclImdb_v1.tar.gz\n",
    "!tar -zxf ../data/aclImdb_v1.tar.gz -C ../data"
   ]
  },
  {
   "cell_type": "markdown",
   "metadata": {},
   "source": [
    "## Step 2: Preparing and Processing the data\n",
    "\n",
    "Also, as in the XGBoost notebook, we will be doing some initial data processing. The first few steps are the same as in the XGBoost example. To begin with, we will read in each of the reviews and combine them into a single input structure. Then, we will split the dataset into a training set and a testing set."
   ]
  },
  {
   "cell_type": "code",
   "execution_count": 2,
   "metadata": {},
   "outputs": [],
   "source": [
    "import os\n",
    "import glob\n",
    "\n",
    "def read_imdb_data(data_dir='../data/aclImdb'):\n",
    "    data = {}\n",
    "    labels = {}\n",
    "    \n",
    "    for data_type in ['train', 'test']:\n",
    "        data[data_type] = {}\n",
    "        labels[data_type] = {}\n",
    "        \n",
    "        for sentiment in ['pos', 'neg']:\n",
    "            data[data_type][sentiment] = []\n",
    "            labels[data_type][sentiment] = []\n",
    "            \n",
    "            path = os.path.join(data_dir, data_type, sentiment, '*.txt')\n",
    "            files = glob.glob(path)\n",
    "            \n",
    "            for f in files:\n",
    "                with open(f) as review:\n",
    "                    data[data_type][sentiment].append(review.read())\n",
    "                    # Here we represent a positive review by '1' and a negative review by '0'\n",
    "                    labels[data_type][sentiment].append(1 if sentiment == 'pos' else 0)\n",
    "                    \n",
    "            assert len(data[data_type][sentiment]) == len(labels[data_type][sentiment]), \\\n",
    "                    \"{}/{} data size does not match labels size\".format(data_type, sentiment)\n",
    "                \n",
    "    return data, labels"
   ]
  },
  {
   "cell_type": "code",
   "execution_count": 3,
   "metadata": {},
   "outputs": [
    {
     "name": "stdout",
     "output_type": "stream",
     "text": [
      "IMDB reviews: train = 12500 pos / 12500 neg, test = 12500 pos / 12500 neg\n"
     ]
    }
   ],
   "source": [
    "data, labels = read_imdb_data()\n",
    "print(\"IMDB reviews: train = {} pos / {} neg, test = {} pos / {} neg\".format(\n",
    "            len(data['train']['pos']), len(data['train']['neg']),\n",
    "            len(data['test']['pos']), len(data['test']['neg'])))"
   ]
  },
  {
   "cell_type": "markdown",
   "metadata": {},
   "source": [
    "Now that we've read the raw training and testing data from the downloaded dataset, we will combine the positive and negative reviews and shuffle the resulting records."
   ]
  },
  {
   "cell_type": "code",
   "execution_count": 4,
   "metadata": {},
   "outputs": [],
   "source": [
    "from sklearn.utils import shuffle\n",
    "\n",
    "def prepare_imdb_data(data, labels):\n",
    "    \"\"\"Prepare training and test sets from IMDb movie reviews.\"\"\"\n",
    "    \n",
    "    #Combine positive and negative reviews and labels\n",
    "    data_train = data['train']['pos'] + data['train']['neg']\n",
    "    data_test = data['test']['pos'] + data['test']['neg']\n",
    "    labels_train = labels['train']['pos'] + labels['train']['neg']\n",
    "    labels_test = labels['test']['pos'] + labels['test']['neg']\n",
    "    \n",
    "    #Shuffle reviews and corresponding labels within training and test sets\n",
    "    data_train, labels_train = shuffle(data_train, labels_train)\n",
    "    data_test, labels_test = shuffle(data_test, labels_test)\n",
    "    \n",
    "    # Return a unified training data, test data, training labels, test labets\n",
    "    return data_train, data_test, labels_train, labels_test"
   ]
  },
  {
   "cell_type": "code",
   "execution_count": 5,
   "metadata": {},
   "outputs": [
    {
     "name": "stdout",
     "output_type": "stream",
     "text": [
      "IMDb reviews (combined): train = 25000, test = 25000\n"
     ]
    }
   ],
   "source": [
    "train_X, test_X, train_y, test_y = prepare_imdb_data(data, labels)\n",
    "print(\"IMDb reviews (combined): train = {}, test = {}\".format(len(train_X), len(test_X)))"
   ]
  },
  {
   "cell_type": "markdown",
   "metadata": {},
   "source": [
    "Now that we have our training and testing sets unified and prepared, we should do a quick check and see an example of the data our model will be trained on. This is generally a good idea as it allows you to see how each of the further processing steps affects the reviews and it also ensures that the data has been loaded correctly."
   ]
  },
  {
   "cell_type": "code",
   "execution_count": 6,
   "metadata": {},
   "outputs": [
    {
     "name": "stdout",
     "output_type": "stream",
     "text": [
      "I loathed this film. The original Phantasm had such wonderful ambiance and mystery. Like many 70s horror flicks, it looked and felt like some creepy, unfinished documentary. Phantasm II, from the late 80s, pumped up the action, but maintained this nice attention to mood. Sadly, Phantasm III is just awful. It tediously explains all of the weird happenings in the previous films, which diminishes rather than expands their power. It shamelessly degrades imagery from the first Phantasm like a cheap reenactment of the original. There are so many flying spheres in this movie that they seem more like household pests than menacing death orbs. Hundreds hang from the ceiling like Christmas balls swaying in the draft. Didn't anyone-- the prop master, the DP, the editor, the director-- notice or care that they looked so crummy? Even worse, Phantasm III presents one corny, unfunny joke after another. How different from the intensity of the first film. The original Phantasm used humor to relieve its relentless focus on death. Phantasm III uses death to set up countless cheap jokes about Reggie's horniness: several refer to the film's \"flying balls\" ha-ha, oh, I get it, balls. Maybe the crew got a kick out of these jokes, but they are on us.\n",
      "0\n"
     ]
    }
   ],
   "source": [
    "print(train_X[100])\n",
    "print(train_y[100])"
   ]
  },
  {
   "cell_type": "markdown",
   "metadata": {},
   "source": [
    "The first step in processing the reviews is to make sure that any html tags that appear should be removed. In addition we wish to tokenize our input, that way words such as *entertained* and *entertaining* are considered the same with regard to sentiment analysis."
   ]
  },
  {
   "cell_type": "code",
   "execution_count": 7,
   "metadata": {},
   "outputs": [],
   "source": [
    "import nltk\n",
    "from nltk.corpus import stopwords\n",
    "from nltk.stem.porter import *\n",
    "\n",
    "import re\n",
    "from bs4 import BeautifulSoup\n",
    "\n",
    "def review_to_words(review):\n",
    "    nltk.download(\"stopwords\", quiet=True)\n",
    "    stemmer = PorterStemmer()\n",
    "    \n",
    "    text = BeautifulSoup(review, \"html.parser\").get_text() # Remove HTML tags\n",
    "    text = re.sub(r\"[^a-zA-Z0-9]\", \" \", text.lower()) # Convert to lower case\n",
    "    words = text.split() # Split string into words\n",
    "    words = [w for w in words if w not in stopwords.words(\"english\")] # Remove stopwords\n",
    "    words = [PorterStemmer().stem(w) for w in words] # stem\n",
    "    \n",
    "    return words"
   ]
  },
  {
   "cell_type": "markdown",
   "metadata": {},
   "source": [
    "The `review_to_words` method defined above uses `BeautifulSoup` to remove any html tags that appear and uses the `nltk` package to tokenize the reviews. As a check to ensure we know how everything is working, try applying `review_to_words` to one of the reviews in the training set."
   ]
  },
  {
   "cell_type": "code",
   "execution_count": 8,
   "metadata": {},
   "outputs": [
    {
     "data": {
      "text/plain": [
       "['loath',\n",
       " 'film',\n",
       " 'origin',\n",
       " 'phantasm',\n",
       " 'wonder',\n",
       " 'ambianc',\n",
       " 'mysteri',\n",
       " 'like',\n",
       " 'mani',\n",
       " '70',\n",
       " 'horror',\n",
       " 'flick',\n",
       " 'look',\n",
       " 'felt',\n",
       " 'like',\n",
       " 'creepi',\n",
       " 'unfinish',\n",
       " 'documentari',\n",
       " 'phantasm',\n",
       " 'ii',\n",
       " 'late',\n",
       " '80',\n",
       " 'pump',\n",
       " 'action',\n",
       " 'maintain',\n",
       " 'nice',\n",
       " 'attent',\n",
       " 'mood',\n",
       " 'sadli',\n",
       " 'phantasm',\n",
       " 'iii',\n",
       " 'aw',\n",
       " 'tedious',\n",
       " 'explain',\n",
       " 'weird',\n",
       " 'happen',\n",
       " 'previou',\n",
       " 'film',\n",
       " 'diminish',\n",
       " 'rather',\n",
       " 'expand',\n",
       " 'power',\n",
       " 'shamelessli',\n",
       " 'degrad',\n",
       " 'imageri',\n",
       " 'first',\n",
       " 'phantasm',\n",
       " 'like',\n",
       " 'cheap',\n",
       " 'reenact',\n",
       " 'origin',\n",
       " 'mani',\n",
       " 'fli',\n",
       " 'sphere',\n",
       " 'movi',\n",
       " 'seem',\n",
       " 'like',\n",
       " 'household',\n",
       " 'pest',\n",
       " 'menac',\n",
       " 'death',\n",
       " 'orb',\n",
       " 'hundr',\n",
       " 'hang',\n",
       " 'ceil',\n",
       " 'like',\n",
       " 'christma',\n",
       " 'ball',\n",
       " 'sway',\n",
       " 'draft',\n",
       " 'anyon',\n",
       " 'prop',\n",
       " 'master',\n",
       " 'dp',\n",
       " 'editor',\n",
       " 'director',\n",
       " 'notic',\n",
       " 'care',\n",
       " 'look',\n",
       " 'crummi',\n",
       " 'even',\n",
       " 'wors',\n",
       " 'phantasm',\n",
       " 'iii',\n",
       " 'present',\n",
       " 'one',\n",
       " 'corni',\n",
       " 'unfunni',\n",
       " 'joke',\n",
       " 'anoth',\n",
       " 'differ',\n",
       " 'intens',\n",
       " 'first',\n",
       " 'film',\n",
       " 'origin',\n",
       " 'phantasm',\n",
       " 'use',\n",
       " 'humor',\n",
       " 'reliev',\n",
       " 'relentless',\n",
       " 'focu',\n",
       " 'death',\n",
       " 'phantasm',\n",
       " 'iii',\n",
       " 'use',\n",
       " 'death',\n",
       " 'set',\n",
       " 'countless',\n",
       " 'cheap',\n",
       " 'joke',\n",
       " 'reggi',\n",
       " 'horni',\n",
       " 'sever',\n",
       " 'refer',\n",
       " 'film',\n",
       " 'fli',\n",
       " 'ball',\n",
       " 'ha',\n",
       " 'ha',\n",
       " 'oh',\n",
       " 'get',\n",
       " 'ball',\n",
       " 'mayb',\n",
       " 'crew',\n",
       " 'got',\n",
       " 'kick',\n",
       " 'joke',\n",
       " 'us']"
      ]
     },
     "execution_count": 8,
     "metadata": {},
     "output_type": "execute_result"
    }
   ],
   "source": [
    "# TODO: Apply review_to_words to a review (train_X[100] or any other review)\n",
    "review_to_words(train_X[100])"
   ]
  },
  {
   "cell_type": "markdown",
   "metadata": {},
   "source": [
    "**Question:** Above we mentioned that `review_to_words` method removes html formatting and allows us to tokenize the words found in a review, for example, converting *entertained* and *entertaining* into *entertain* so that they are treated as though they are the same word. What else, if anything, does this method do to the input?"
   ]
  },
  {
   "cell_type": "markdown",
   "metadata": {},
   "source": [
    "**Answer:**\n",
    "    1 It removes HTML tags\n",
    "    2 It converts all the letters to lower case\n",
    "    3 It utilizes the nltk library to get rid of any stop words"
   ]
  },
  {
   "cell_type": "markdown",
   "metadata": {},
   "source": [
    "The method below applies the `review_to_words` method to each of the reviews in the training and testing datasets. In addition it caches the results. This way if you are unable to complete the notebook in the current session, you can come back without needing to process the data a second time."
   ]
  },
  {
   "cell_type": "code",
   "execution_count": 10,
   "metadata": {},
   "outputs": [],
   "source": [
    "import pickle\n",
    "\n",
    "cache_dir = os.path.join(\"../cache\", \"sentiment_analysis\")  # where to store cache files\n",
    "os.makedirs(cache_dir, exist_ok=True)  # ensure cache directory exists\n",
    "\n",
    "def preprocess_data(data_train, data_test, labels_train, labels_test,\n",
    "                    cache_dir=cache_dir, cache_file=\"preprocessed_data.pkl\"):\n",
    "    \"\"\"Convert each review to words; read from cache if available.\"\"\"\n",
    "\n",
    "    # If cache_file is not None, try to read from it first\n",
    "    cache_data = None\n",
    "    if cache_file is not None:\n",
    "        try:\n",
    "            with open(os.path.join(cache_dir, cache_file), \"rb\") as f:\n",
    "                cache_data = pickle.load(f)\n",
    "            print(\"Read preprocessed data from cache file:\", cache_file)\n",
    "        except:\n",
    "            pass  # unable to read from cache, but that's okay\n",
    "    \n",
    "    # If cache is missing, then do the heavy lifting\n",
    "    if cache_data is None:\n",
    "        # Preprocess training and test data to obtain words for each review\n",
    "        #words_train = list(map(review_to_words, data_train))\n",
    "        #words_test = list(map(review_to_words, data_test))\n",
    "        words_train = [review_to_words(review) for review in data_train]\n",
    "        words_test = [review_to_words(review) for review in data_test]\n",
    "        \n",
    "        # Write to cache file for future runs\n",
    "        if cache_file is not None:\n",
    "            cache_data = dict(words_train=words_train, words_test=words_test,\n",
    "                              labels_train=labels_train, labels_test=labels_test)\n",
    "            with open(os.path.join(cache_dir, cache_file), \"wb\") as f:\n",
    "                pickle.dump(cache_data, f)\n",
    "            print(\"Wrote preprocessed data to cache file:\", cache_file)\n",
    "    else:\n",
    "        # Unpack data loaded from cache file\n",
    "        words_train, words_test, labels_train, labels_test = (cache_data['words_train'],\n",
    "                cache_data['words_test'], cache_data['labels_train'], cache_data['labels_test'])\n",
    "    \n",
    "    return words_train, words_test, labels_train, labels_test"
   ]
  },
  {
   "cell_type": "code",
   "execution_count": 11,
   "metadata": {},
   "outputs": [
    {
     "name": "stdout",
     "output_type": "stream",
     "text": [
      "Read preprocessed data from cache file: preprocessed_data.pkl\n"
     ]
    }
   ],
   "source": [
    "# Preprocess data\n",
    "train_X, test_X, train_y, test_y = preprocess_data(train_X, test_X, train_y, test_y)"
   ]
  },
  {
   "cell_type": "markdown",
   "metadata": {},
   "source": [
    "## Transform the data\n",
    "\n",
    "In the XGBoost notebook we transformed the data from its word representation to a bag-of-words feature representation. For the model we are going to construct in this notebook we will construct a feature representation which is very similar. To start, we will represent each word as an integer. Of course, some of the words that appear in the reviews occur very infrequently and so likely don't contain much information for the purposes of sentiment analysis. The way we will deal with this problem is that we will fix the size of our working vocabulary and we will only include the words that appear most frequently. We will then combine all of the infrequent words into a single category and, in our case, we will label it as `1`.\n",
    "\n",
    "Since we will be using a recurrent neural network, it will be convenient if the length of each review is the same. To do this, we will fix a size for our reviews and then pad short reviews with the category 'no word' (which we will label `0`) and truncate long reviews."
   ]
  },
  {
   "cell_type": "markdown",
   "metadata": {},
   "source": [
    "### (TODO) Create a word dictionary\n",
    "\n",
    "To begin with, we need to construct a way to map words that appear in the reviews to integers. Here we fix the size of our vocabulary (including the 'no word' and 'infrequent' categories) to be `5000` but you may wish to change this to see how it affects the model.\n",
    "\n",
    "> **TODO:** Complete the implementation for the `build_dict()` method below. Note that even though the vocab_size is set to `5000`, we only want to construct a mapping for the most frequently appearing `4998` words. This is because we want to reserve the special labels `0` for 'no word' and `1` for 'infrequent word'."
   ]
  },
  {
   "cell_type": "code",
   "execution_count": 12,
   "metadata": {},
   "outputs": [],
   "source": [
    "import numpy as np\n",
    "from collections import Counter\n",
    "\n",
    "def build_dict(data, vocab_size = 5000):\n",
    "    \"\"\"Construct and return a dictionary mapping each of the most frequently appearing words to a unique integer.\"\"\"\n",
    "    \n",
    "    # TODO: Determine how often each word appears in `data`. Note that `data` is a list of sentences and that a\n",
    "    #       sentence is a list of words.\n",
    "    \n",
    "    word_count = Counter(np.concatenate(data, axis=0)) # A dict storing the words that appear in the reviews along with how often they occur\n",
    "    \n",
    "    # TODO: Sort the words found in `data` so that sorted_words[0] is the most frequently appearing word and\n",
    "    #       sorted_words[-1] is the least frequently appearing word.\n",
    "    \n",
    "    sorted_words = sorted(word_count, key=word_count.get, reverse=True)\n",
    "    \n",
    "    word_dict = {} # This is what we are building, a dictionary that translates words into integers\n",
    "    for idx, word in enumerate(sorted_words[:vocab_size - 2]): # The -2 is so that we save room for the 'no word'\n",
    "        word_dict[word] = idx + 2                              # 'infrequent' labels\n",
    "        \n",
    "    return word_dict"
   ]
  },
  {
   "cell_type": "code",
   "execution_count": 13,
   "metadata": {},
   "outputs": [
    {
     "name": "stdout",
     "output_type": "stream",
     "text": [
      "{'movi': 2, 'film': 3, 'one': 4, 'like': 5, 'time': 6, 'good': 7, 'make': 8, 'charact': 9, 'get': 10, 'see': 11, 'watch': 12, 'stori': 13, 'even': 14, 'would': 15, 'realli': 16, 'well': 17, 'scene': 18, 'look': 19, 'show': 20, 'much': 21, 'end': 22, 'peopl': 23, 'bad': 24, 'go': 25, 'great': 26, 'also': 27, 'first': 28, 'love': 29, 'think': 30, 'way': 31, 'act': 32, 'play': 33, 'made': 34, 'thing': 35, 'could': 36, 'know': 37, 'say': 38, 'seem': 39, 'work': 40, 'plot': 41, 'two': 42, 'actor': 43, 'year': 44, 'come': 45, 'mani': 46, 'seen': 47, 'take': 48, 'life': 49, 'want': 50, 'never': 51, 'littl': 52, 'best': 53, 'tri': 54, 'man': 55, 'ever': 56, 'give': 57, 'better': 58, 'still': 59, 'perform': 60, 'find': 61, 'feel': 62, 'part': 63, 'back': 64, 'use': 65, 'someth': 66, 'director': 67, 'actual': 68, 'interest': 69, 'lot': 70, 'real': 71, 'old': 72, 'cast': 73, 'though': 74, 'live': 75, 'star': 76, 'enjoy': 77, 'guy': 78, 'anoth': 79, 'new': 80, 'role': 81, 'noth': 82, '10': 83, 'funni': 84, 'music': 85, 'point': 86, 'start': 87, 'set': 88, 'girl': 89, 'origin': 90, 'day': 91, 'world': 92, 'everi': 93, 'believ': 94, 'turn': 95, 'quit': 96, 'us': 97, 'direct': 98, 'thought': 99, 'fact': 100, 'minut': 101, 'horror': 102, 'kill': 103, 'action': 104, 'comedi': 105, 'pretti': 106, 'young': 107, 'wonder': 108, 'happen': 109, 'around': 110, 'got': 111, 'effect': 112, 'right': 113, 'long': 114, 'howev': 115, 'big': 116, 'line': 117, 'famili': 118, 'enough': 119, 'seri': 120, 'may': 121, 'need': 122, 'fan': 123, 'bit': 124, 'script': 125, 'beauti': 126, 'person': 127, 'becom': 128, 'without': 129, 'must': 130, 'alway': 131, 'friend': 132, 'tell': 133, 'reason': 134, 'saw': 135, 'last': 136, 'final': 137, 'kid': 138, 'almost': 139, 'put': 140, 'least': 141, 'sure': 142, 'done': 143, 'whole': 144, 'place': 145, 'complet': 146, 'kind': 147, 'expect': 148, 'differ': 149, 'shot': 150, 'far': 151, 'mean': 152, 'anyth': 153, 'book': 154, 'laugh': 155, 'might': 156, 'name': 157, 'sinc': 158, 'begin': 159, '2': 160, 'probabl': 161, 'woman': 162, 'help': 163, 'entertain': 164, 'let': 165, 'screen': 166, 'call': 167, 'tv': 168, 'moment': 169, 'away': 170, 'read': 171, 'yet': 172, 'rather': 173, 'worst': 174, 'run': 175, 'fun': 176, 'lead': 177, 'hard': 178, 'audienc': 179, 'idea': 180, 'anyon': 181, 'episod': 182, 'american': 183, 'found': 184, 'appear': 185, 'bore': 186, 'especi': 187, 'although': 188, 'hope': 189, 'keep': 190, 'cours': 191, 'anim': 192, 'job': 193, 'goe': 194, 'move': 195, 'sens': 196, 'dvd': 197, 'version': 198, 'war': 199, 'money': 200, 'someon': 201, 'mind': 202, 'mayb': 203, 'problem': 204, 'true': 205, 'hous': 206, 'everyth': 207, 'nice': 208, 'second': 209, 'rate': 210, 'three': 211, 'night': 212, 'face': 213, 'follow': 214, 'recommend': 215, 'main': 216, 'product': 217, 'worth': 218, 'leav': 219, 'human': 220, 'special': 221, 'excel': 222, 'togeth': 223, 'wast': 224, 'everyon': 225, 'sound': 226, 'john': 227, 'hand': 228, '1': 229, 'father': 230, 'later': 231, 'eye': 232, 'said': 233, 'view': 234, 'instead': 235, 'review': 236, 'boy': 237, 'high': 238, 'hour': 239, 'miss': 240, 'classic': 241, 'talk': 242, 'wife': 243, 'understand': 244, 'left': 245, 'care': 246, 'black': 247, 'death': 248, 'open': 249, 'murder': 250, 'write': 251, 'half': 252, 'head': 253, 'rememb': 254, 'chang': 255, 'viewer': 256, 'fight': 257, 'gener': 258, 'surpris': 259, 'includ': 260, 'short': 261, 'die': 262, 'fall': 263, 'less': 264, 'els': 265, 'entir': 266, 'piec': 267, 'involv': 268, 'pictur': 269, 'simpli': 270, 'power': 271, 'top': 272, 'home': 273, 'total': 274, 'usual': 275, 'budget': 276, 'attempt': 277, 'suppos': 278, 'releas': 279, 'hollywood': 280, 'terribl': 281, 'song': 282, 'men': 283, 'possibl': 284, 'featur': 285, 'portray': 286, 'disappoint': 287, 'poor': 288, '3': 289, 'coupl': 290, 'camera': 291, 'stupid': 292, 'dead': 293, 'wrong': 294, 'low': 295, 'produc': 296, 'either': 297, 'video': 298, 'aw': 299, 'definit': 300, 'except': 301, 'rest': 302, 'given': 303, 'absolut': 304, 'women': 305, 'lack': 306, 'word': 307, 'writer': 308, 'titl': 309, 'talent': 310, 'decid': 311, 'full': 312, 'perfect': 313, 'along': 314, 'style': 315, 'close': 316, 'truli': 317, 'school': 318, 'emot': 319, 'save': 320, 'age': 321, 'sex': 322, 'next': 323, 'bring': 324, 'mr': 325, 'case': 326, 'killer': 327, 'heart': 328, 'comment': 329, 'sort': 330, 'creat': 331, 'perhap': 332, 'came': 333, 'brother': 334, 'sever': 335, 'joke': 336, 'art': 337, 'dialogu': 338, 'game': 339, 'small': 340, 'base': 341, 'flick': 342, 'written': 343, 'sequenc': 344, 'meet': 345, 'earli': 346, 'often': 347, 'other': 348, 'mother': 349, 'develop': 350, 'humor': 351, 'actress': 352, 'consid': 353, 'dark': 354, 'guess': 355, 'amaz': 356, 'unfortun': 357, 'lost': 358, 'light': 359, 'exampl': 360, 'cinema': 361, 'drama': 362, 'ye': 363, 'white': 364, 'experi': 365, 'imagin': 366, 'mention': 367, 'stop': 368, 'natur': 369, 'forc': 370, 'manag': 371, 'felt': 372, 'cut': 373, 'present': 374, 'children': 375, 'fail': 376, 'son': 377, 'car': 378, 'support': 379, 'qualiti': 380, 'ask': 381, 'hit': 382, 'side': 383, 'voic': 384, 'extrem': 385, 'impress': 386, 'wors': 387, 'evil': 388, 'stand': 389, 'went': 390, 'certainli': 391, 'basic': 392, 'oh': 393, 'overal': 394, 'favorit': 395, 'horribl': 396, 'mysteri': 397, 'number': 398, 'type': 399, 'danc': 400, 'wait': 401, 'hero': 402, 'alreadi': 403, '5': 404, 'learn': 405, 'matter': 406, '4': 407, 'michael': 408, 'genr': 409, 'fine': 410, 'despit': 411, 'throughout': 412, 'walk': 413, 'success': 414, 'histori': 415, 'question': 416, 'zombi': 417, 'town': 418, 'relationship': 419, 'realiz': 420, 'child': 421, 'past': 422, 'daughter': 423, 'late': 424, 'b': 425, 'wish': 426, 'hate': 427, 'credit': 428, 'event': 429, 'theme': 430, 'touch': 431, 'citi': 432, 'today': 433, 'sometim': 434, 'behind': 435, 'god': 436, 'twist': 437, 'sit': 438, 'stay': 439, 'deal': 440, 'annoy': 441, 'abl': 442, 'rent': 443, 'pleas': 444, 'edit': 445, 'blood': 446, 'deserv': 447, 'comic': 448, 'anyway': 449, 'appar': 450, 'soon': 451, 'gave': 452, 'etc': 453, 'level': 454, 'slow': 455, 'chanc': 456, 'score': 457, 'bodi': 458, 'brilliant': 459, 'incred': 460, 'figur': 461, 'situat': 462, 'major': 463, 'self': 464, 'stuff': 465, 'decent': 466, 'element': 467, 'dream': 468, 'return': 469, 'obvious': 470, 'continu': 471, 'order': 472, 'pace': 473, 'ridicul': 474, 'happi': 475, 'add': 476, 'highli': 477, 'group': 478, 'thank': 479, 'ladi': 480, 'novel': 481, 'speak': 482, 'pain': 483, 'career': 484, 'shoot': 485, 'strang': 486, 'heard': 487, 'sad': 488, 'husband': 489, 'polic': 490, 'import': 491, 'break': 492, 'took': 493, 'cannot': 494, 'strong': 495, 'predict': 496, 'robert': 497, 'violenc': 498, 'hilari': 499, 'recent': 500, 'countri': 501, 'known': 502, 'particularli': 503, 'pick': 504, 'documentari': 505, 'season': 506, 'critic': 507, 'jame': 508, 'compar': 509, 'obviou': 510, 'alon': 511, 'told': 512, 'state': 513, 'rock': 514, 'visual': 515, 'offer': 516, 'exist': 517, 'theater': 518, 'opinion': 519, 'gore': 520, 'crap': 521, 'hold': 522, 'result': 523, 'room': 524, 'hear': 525, 'realiti': 526, 'effort': 527, 'clich': 528, 'thriller': 529, 'caus': 530, 'explain': 531, 'serious': 532, 'sequel': 533, 'king': 534, 'local': 535, 'ago': 536, 'none': 537, 'hell': 538, 'note': 539, 'allow': 540, 'sister': 541, 'david': 542, 'simpl': 543, 'femal': 544, 'deliv': 545, 'ok': 546, 'class': 547, 'convinc': 548, 'check': 549, 'suspens': 550, 'win': 551, 'buy': 552, 'oscar': 553, 'huge': 554, 'valu': 555, 'sexual': 556, 'scari': 557, 'cool': 558, 'similar': 559, 'excit': 560, 'exactli': 561, 'provid': 562, 'apart': 563, 'shown': 564, 'avoid': 565, 'seriou': 566, 'english': 567, 'taken': 568, 'whose': 569, 'cinematographi': 570, 'shock': 571, 'polit': 572, 'spoiler': 573, 'offic': 574, 'across': 575, 'middl': 576, 'street': 577, 'pass': 578, 'messag': 579, 'somewhat': 580, 'charm': 581, 'silli': 582, 'modern': 583, 'filmmak': 584, 'confus': 585, 'form': 586, 'tale': 587, 'singl': 588, 'jack': 589, 'mostli': 590, 'carri': 591, 'william': 592, 'attent': 593, 'sing': 594, 'subject': 595, 'five': 596, 'prove': 597, 'richard': 598, 'team': 599, 'stage': 600, 'unlik': 601, 'cop': 602, 'georg': 603, 'televis': 604, 'monster': 605, 'earth': 606, 'cover': 607, 'villain': 608, 'pay': 609, 'marri': 610, 'toward': 611, 'build': 612, 'parent': 613, 'pull': 614, 'due': 615, 'fill': 616, 'respect': 617, 'dialog': 618, 'four': 619, 'remind': 620, 'futur': 621, 'typic': 622, 'weak': 623, '7': 624, 'cheap': 625, 'intellig': 626, 'atmospher': 627, 'british': 628, 'clearli': 629, '80': 630, 'non': 631, 'dog': 632, 'paul': 633, 'artist': 634, '8': 635, 'knew': 636, 'fast': 637, 'crime': 638, 'easili': 639, 'escap': 640, 'adult': 641, 'doubt': 642, 'detail': 643, 'date': 644, 'romant': 645, 'member': 646, 'fire': 647, 'gun': 648, 'drive': 649, 'straight': 650, 'beyond': 651, 'fit': 652, 'attack': 653, 'imag': 654, 'upon': 655, 'posit': 656, 'whether': 657, 'fantast': 658, 'peter': 659, 'captur': 660, 'appreci': 661, 'aspect': 662, 'ten': 663, 'plan': 664, 'discov': 665, 'remain': 666, 'near': 667, 'period': 668, 'air': 669, 'realist': 670, 'mark': 671, 'red': 672, 'dull': 673, 'adapt': 674, 'within': 675, 'lose': 676, 'spend': 677, 'color': 678, 'materi': 679, 'chase': 680, 'mari': 681, 'storylin': 682, 'forget': 683, 'bunch': 684, 'clear': 685, 'lee': 686, 'victim': 687, 'nearli': 688, 'box': 689, 'york': 690, 'inspir': 691, 'match': 692, 'mess': 693, 'finish': 694, 'standard': 695, 'easi': 696, 'truth': 697, 'busi': 698, 'suffer': 699, 'dramat': 700, 'space': 701, 'bill': 702, 'western': 703, 'e': 704, 'list': 705, 'battl': 706, 'notic': 707, 'de': 708, 'french': 709, 'ad': 710, '9': 711, 'tom': 712, 'larg': 713, 'among': 714, 'eventu': 715, 'train': 716, 'accept': 717, 'agre': 718, 'spirit': 719, 'soundtrack': 720, 'third': 721, 'teenag': 722, 'adventur': 723, 'soldier': 724, 'famou': 725, 'drug': 726, 'suggest': 727, 'sorri': 728, 'normal': 729, 'cri': 730, 'babi': 731, 'ultim': 732, 'troubl': 733, 'contain': 734, 'certain': 735, 'cultur': 736, 'romanc': 737, 'rare': 738, 'lame': 739, 'somehow': 740, 'mix': 741, 'disney': 742, 'gone': 743, 'cartoon': 744, 'student': 745, 'reveal': 746, 'fear': 747, 'suck': 748, 'kept': 749, 'attract': 750, 'appeal': 751, 'premis': 752, 'design': 753, 'greatest': 754, 'secret': 755, 'shame': 756, 'throw': 757, 'copi': 758, 'scare': 759, 'wit': 760, 'america': 761, 'admit': 762, 'particular': 763, 'relat': 764, 'brought': 765, 'screenplay': 766, 'whatev': 767, 'pure': 768, '70': 769, 'harri': 770, 'averag': 771, 'master': 772, 'describ': 773, 'treat': 774, 'male': 775, '20': 776, 'issu': 777, 'fantasi': 778, 'warn': 779, 'inde': 780, 'background': 781, 'forward': 782, 'project': 783, 'free': 784, 'japanes': 785, 'memor': 786, 'poorli': 787, 'award': 788, 'locat': 789, 'potenti': 790, 'amus': 791, 'struggl': 792, 'weird': 793, 'magic': 794, 'societi': 795, 'okay': 796, 'imdb': 797, 'doctor': 798, 'accent': 799, 'hot': 800, 'water': 801, 'dr': 802, 'express': 803, 'alien': 804, '30': 805, 'odd': 806, 'crazi': 807, 'choic': 808, 'studio': 809, 'fiction': 810, 'becam': 811, 'control': 812, 'masterpiec': 813, 'difficult': 814, 'fli': 815, 'joe': 816, 'scream': 817, 'costum': 818, 'lover': 819, 'uniqu': 820, 'refer': 821, 'remak': 822, 'girlfriend': 823, 'vampir': 824, 'prison': 825, 'execut': 826, 'wear': 827, 'jump': 828, 'unless': 829, 'wood': 830, 'creepi': 831, 'cheesi': 832, 'superb': 833, 'otherwis': 834, 'parti': 835, 'ghost': 836, 'roll': 837, 'public': 838, 'mad': 839, 'depict': 840, 'badli': 841, 'earlier': 842, 'jane': 843, 'moral': 844, 'week': 845, 'fi': 846, 'dumb': 847, 'flaw': 848, 'grow': 849, 'sci': 850, 'deep': 851, 'maker': 852, 'cat': 853, 'older': 854, 'footag': 855, 'connect': 856, 'plenti': 857, 'bother': 858, 'outsid': 859, 'stick': 860, 'gay': 861, 'catch': 862, 'plu': 863, 'co': 864, 'popular': 865, 'equal': 866, 'social': 867, 'disturb': 868, 'quickli': 869, 'perfectli': 870, 'dress': 871, '90': 872, 'era': 873, 'mistak': 874, 'lie': 875, 'ride': 876, 'previou': 877, 'combin': 878, 'concept': 879, 'band': 880, 'answer': 881, 'rich': 882, 'surviv': 883, 'front': 884, 'sweet': 885, 'christma': 886, 'insid': 887, 'concern': 888, 'eat': 889, 'bare': 890, 'beat': 891, 'ben': 892, 'listen': 893, 'c': 894, 'term': 895, 'serv': 896, 'german': 897, 'meant': 898, 'la': 899, 'stereotyp': 900, 'hardli': 901, 'law': 902, 'innoc': 903, 'desper': 904, 'memori': 905, 'promis': 906, 'intent': 907, 'cute': 908, 'steal': 909, 'variou': 910, 'inform': 911, 'brain': 912, 'post': 913, 'tone': 914, 'island': 915, 'amount': 916, 'nuditi': 917, 'track': 918, 'compani': 919, 'claim': 920, 'store': 921, 'flat': 922, 'hair': 923, '50': 924, 'univers': 925, 'land': 926, 'fairli': 927, 'kick': 928, 'danger': 929, 'scott': 930, 'player': 931, 'step': 932, 'crew': 933, 'plain': 934, 'toni': 935, 'share': 936, 'tast': 937, 'centuri': 938, 'engag': 939, 'achiev': 940, 'travel': 941, 'cold': 942, 'record': 943, 'rip': 944, 'suit': 945, 'sadli': 946, 'manner': 947, 'tension': 948, 'wrote': 949, 'spot': 950, 'intens': 951, 'fascin': 952, 'familiar': 953, 'remark': 954, 'depth': 955, 'burn': 956, 'destroy': 957, 'histor': 958, 'sleep': 959, 'purpos': 960, 'languag': 961, 'ruin': 962, 'ignor': 963, 'delight': 964, 'unbeliev': 965, 'italian': 966, 'abil': 967, 'soul': 968, 'collect': 969, 'detect': 970, 'clever': 971, 'violent': 972, 'rape': 973, 'reach': 974, 'door': 975, 'trash': 976, 'liter': 977, 'scienc': 978, 'commun': 979, 'reveng': 980, 'caught': 981, 'creatur': 982, 'approach': 983, 'trip': 984, 'fashion': 985, 'intrigu': 986, 'paint': 987, 'skill': 988, 'introduc': 989, 'channel': 990, 'complex': 991, 'camp': 992, 'christian': 993, 'extra': 994, 'hole': 995, 'ann': 996, 'mental': 997, 'limit': 998, 'immedi': 999, 'comput': 1000, 'mere': 1001, '6': 1002, 'slightli': 1003, 'million': 1004, 'conclus': 1005, 'slasher': 1006, 'imposs': 1007, 'suddenli': 1008, 'crimin': 1009, 'neither': 1010, 'teen': 1011, 'nation': 1012, 'spent': 1013, 'physic': 1014, 'respons': 1015, 'planet': 1016, 'receiv': 1017, 'fake': 1018, 'sick': 1019, 'blue': 1020, 'bizarr': 1021, 'embarrass': 1022, 'indian': 1023, '15': 1024, 'ring': 1025, 'drop': 1026, 'pop': 1027, 'drag': 1028, 'haunt': 1029, 'suspect': 1030, 'pointless': 1031, 'edg': 1032, 'search': 1033, 'handl': 1034, 'common': 1035, 'biggest': 1036, 'faith': 1037, 'arriv': 1038, 'hurt': 1039, 'technic': 1040, 'angel': 1041, 'genuin': 1042, 'dad': 1043, 'solid': 1044, 'awesom': 1045, 'f': 1046, 'former': 1047, 'colleg': 1048, 'focu': 1049, 'van': 1050, 'count': 1051, 'heavi': 1052, 'tear': 1053, 'wall': 1054, 'rais': 1055, 'younger': 1056, 'laughabl': 1057, 'visit': 1058, 'sign': 1059, 'excus': 1060, 'fair': 1061, 'cult': 1062, 'key': 1063, 'motion': 1064, 'tough': 1065, 'super': 1066, 'desir': 1067, 'addit': 1068, 'stun': 1069, 'cloth': 1070, 'exploit': 1071, 'tortur': 1072, 'smith': 1073, 'davi': 1074, 'race': 1075, 'cross': 1076, 'author': 1077, 'jim': 1078, 'compel': 1079, 'consist': 1080, 'minor': 1081, 'focus': 1082, 'chemistri': 1083, 'pathet': 1084, 'commit': 1085, 'park': 1086, 'tradit': 1087, 'obsess': 1088, 'frank': 1089, 'grade': 1090, 'asid': 1091, '60': 1092, 'brutal': 1093, 'steve': 1094, 'somewher': 1095, 'u': 1096, 'explor': 1097, 'depress': 1098, 'grant': 1099, 'rule': 1100, 'opportun': 1101, 'besid': 1102, 'honest': 1103, 'dub': 1104, 'anti': 1105, 'trailer': 1106, 'intend': 1107, 'bar': 1108, 'regard': 1109, 'longer': 1110, 'scientist': 1111, 'west': 1112, 'decad': 1113, 'judg': 1114, 'silent': 1115, 'creativ': 1116, 'armi': 1117, 'wild': 1118, 'g': 1119, 'stewart': 1120, 'south': 1121, 'draw': 1122, 'road': 1123, 'govern': 1124, 'ex': 1125, 'boss': 1126, 'practic': 1127, 'festiv': 1128, 'surprisingli': 1129, 'motiv': 1130, 'gang': 1131, 'club': 1132, 'london': 1133, 'green': 1134, 'redeem': 1135, 'page': 1136, 'display': 1137, 'idiot': 1138, 'aliv': 1139, 'machin': 1140, 'militari': 1141, 'repeat': 1142, 'thrill': 1143, '100': 1144, 'folk': 1145, 'nobodi': 1146, 'yeah': 1147, '40': 1148, 'garbag': 1149, 'journey': 1150, 'tire': 1151, 'ground': 1152, 'smile': 1153, 'bought': 1154, 'mood': 1155, 'stone': 1156, 'cost': 1157, 'sam': 1158, 'noir': 1159, 'mouth': 1160, 'terrif': 1161, 'agent': 1162, 'requir': 1163, 'utterli': 1164, 'honestli': 1165, 'sexi': 1166, 'area': 1167, 'geniu': 1168, 'report': 1169, 'investig': 1170, 'enter': 1171, 'humour': 1172, 'glad': 1173, 'serial': 1174, 'occasion': 1175, 'passion': 1176, 'narr': 1177, 'marriag': 1178, 'climax': 1179, 'industri': 1180, 'studi': 1181, 'demon': 1182, 'nowher': 1183, 'ship': 1184, 'center': 1185, 'charli': 1186, 'loos': 1187, 'hors': 1188, 'bear': 1189, 'wow': 1190, 'hang': 1191, 'graphic': 1192, 'admir': 1193, 'giant': 1194, 'send': 1195, 'damn': 1196, 'loud': 1197, 'rel': 1198, 'subtl': 1199, 'profession': 1200, 'nake': 1201, 'blow': 1202, 'bottom': 1203, 'insult': 1204, 'batman': 1205, 'boyfriend': 1206, 'doubl': 1207, 'r': 1208, 'kelli': 1209, 'initi': 1210, 'frame': 1211, 'gem': 1212, 'opera': 1213, 'drawn': 1214, 'affect': 1215, 'church': 1216, 'challeng': 1217, 'cinemat': 1218, 'seek': 1219, 'l': 1220, 'evid': 1221, 'fulli': 1222, 'j': 1223, 'nightmar': 1224, 'essenti': 1225, 'arm': 1226, 'conflict': 1227, 'wind': 1228, 'henri': 1229, 'grace': 1230, 'christoph': 1231, 'witch': 1232, 'assum': 1233, 'narrat': 1234, 'hunt': 1235, 'push': 1236, 'chri': 1237, 'wise': 1238, 'month': 1239, 'nomin': 1240, 'repres': 1241, 'hide': 1242, 'affair': 1243, 'avail': 1244, 'sceneri': 1245, 'justic': 1246, 'smart': 1247, 'thu': 1248, 'bond': 1249, 'flashback': 1250, 'interview': 1251, 'outstand': 1252, 'presenc': 1253, 'satisfi': 1254, 'constantli': 1255, 'central': 1256, 'bed': 1257, 'content': 1258, 'iron': 1259, 'sell': 1260, 'gag': 1261, 'everybodi': 1262, 'slowli': 1263, 'hotel': 1264, 'hire': 1265, 'system': 1266, 'thrown': 1267, 'charl': 1268, 'individu': 1269, 'hey': 1270, 'adam': 1271, 'allen': 1272, 'jone': 1273, 'mediocr': 1274, 'billi': 1275, 'lesson': 1276, 'ray': 1277, 'cameo': 1278, 'photographi': 1279, 'pari': 1280, 'fellow': 1281, 'strike': 1282, 'independ': 1283, 'rise': 1284, 'absurd': 1285, 'brief': 1286, 'neg': 1287, 'phone': 1288, 'impact': 1289, 'model': 1290, 'ill': 1291, 'born': 1292, 'fresh': 1293, 'angl': 1294, 'spoil': 1295, 'abus': 1296, 'likabl': 1297, 'hill': 1298, 'discuss': 1299, 'sight': 1300, 'ahead': 1301, 'sent': 1302, 'photograph': 1303, 'blame': 1304, 'shine': 1305, 'occur': 1306, 'logic': 1307, 'bruce': 1308, 'mainli': 1309, 'skip': 1310, 'commerci': 1311, 'forev': 1312, 'surround': 1313, 'held': 1314, 'segment': 1315, 'teacher': 1316, 'zero': 1317, 'blond': 1318, 'satir': 1319, 'summer': 1320, 'trap': 1321, 'resembl': 1322, 'fool': 1323, 'six': 1324, 'queen': 1325, 'ball': 1326, 'sub': 1327, 'twice': 1328, 'tragedi': 1329, 'pack': 1330, 'reaction': 1331, 'bomb': 1332, 'will': 1333, 'protagonist': 1334, 'hospit': 1335, 'sport': 1336, 'mile': 1337, 'mom': 1338, 'drink': 1339, 'jerri': 1340, 'vote': 1341, 'trust': 1342, 'encount': 1343, 'plane': 1344, 'program': 1345, 'al': 1346, 'current': 1347, 'station': 1348, 'choos': 1349, 'celebr': 1350, 'martin': 1351, 'join': 1352, 'round': 1353, 'lord': 1354, 'favourit': 1355, 'field': 1356, 'tragic': 1357, 'robot': 1358, 'vision': 1359, 'jean': 1360, 'arthur': 1361, 'tie': 1362, 'random': 1363, 'fortun': 1364, 'roger': 1365, 'dread': 1366, 'intern': 1367, 'psycholog': 1368, 'epic': 1369, 'nonsens': 1370, 'improv': 1371, 'prefer': 1372, 'formula': 1373, 'highlight': 1374, 'legend': 1375, 'pleasur': 1376, '11': 1377, 'tape': 1378, 'dollar': 1379, 'porn': 1380, 'wide': 1381, 'thin': 1382, 'object': 1383, 'fox': 1384, 'gorgeou': 1385, 'ugli': 1386, 'influenc': 1387, 'buddi': 1388, 'nasti': 1389, 'prepar': 1390, 'ii': 1391, 'warm': 1392, 'supposedli': 1393, 'reflect': 1394, 'progress': 1395, 'youth': 1396, 'worthi': 1397, 'length': 1398, 'unusu': 1399, 'latter': 1400, 'crash': 1401, 'superior': 1402, 'childhood': 1403, 'shop': 1404, 'seven': 1405, 'remot': 1406, 'theatr': 1407, 'paid': 1408, 'funniest': 1409, 'pilot': 1410, 'disgust': 1411, 'trick': 1412, 'fell': 1413, 'convers': 1414, 'castl': 1415, 'gangster': 1416, 'disast': 1417, 'rob': 1418, 'establish': 1419, 'mine': 1420, 'disappear': 1421, 'suicid': 1422, 'ident': 1423, 'heaven': 1424, 'decis': 1425, 'singer': 1426, 'tend': 1427, 'forgotten': 1428, 'heroin': 1429, 'mask': 1430, 'brian': 1431, 'partner': 1432, 'desert': 1433, 'recogn': 1434, 'alan': 1435, 'stuck': 1436, 'sky': 1437, 'p': 1438, 'thoroughli': 1439, 'ms': 1440, 'replac': 1441, 'accur': 1442, 'market': 1443, 'clue': 1444, 'danni': 1445, 'seemingli': 1446, 'uncl': 1447, 'andi': 1448, 'commentari': 1449, 'eddi': 1450, 'devil': 1451, 'jackson': 1452, 'therefor': 1453, 'pair': 1454, 'refus': 1455, 'that': 1456, 'accid': 1457, 'fault': 1458, 'ed': 1459, 'river': 1460, 'fate': 1461, 'unit': 1462, 'afraid': 1463, 'tune': 1464, 'clean': 1465, 'hidden': 1466, 'russian': 1467, 'stephen': 1468, 'irrit': 1469, 'captain': 1470, 'readi': 1471, 'instanc': 1472, 'quick': 1473, 'test': 1474, 'convey': 1475, 'european': 1476, 'frustrat': 1477, 'insan': 1478, 'daniel': 1479, '1950': 1480, 'chines': 1481, 'food': 1482, 'rescu': 1483, 'wed': 1484, 'angri': 1485, 'lock': 1486, 'dirti': 1487, 'joy': 1488, 'price': 1489, 'steven': 1490, 'cage': 1491, 'bland': 1492, 'anymor': 1493, 'rang': 1494, 'wooden': 1495, 'rush': 1496, 'news': 1497, 'jason': 1498, 'n': 1499, 'martial': 1500, '12': 1501, 'worri': 1502, 'board': 1503, 'led': 1504, 'twenti': 1505, 'cgi': 1506, 'transform': 1507, 'symbol': 1508, 'hunter': 1509, 'piti': 1510, 'onto': 1511, 'sentiment': 1512, 'x': 1513, 'invent': 1514, 'johnni': 1515, 'explan': 1516, 'process': 1517, 'attitud': 1518, 'owner': 1519, 'awar': 1520, 'aim': 1521, 'target': 1522, 'necessari': 1523, 'floor': 1524, 'favor': 1525, 'energi': 1526, 'religi': 1527, 'opposit': 1528, 'chick': 1529, 'insight': 1530, 'window': 1531, 'blind': 1532, 'movement': 1533, 'possess': 1534, 'deepli': 1535, 'research': 1536, 'mountain': 1537, 'comparison': 1538, 'whatsoev': 1539, 'grand': 1540, 'comed': 1541, 'rain': 1542, 'mid': 1543, 'began': 1544, 'bank': 1545, 'shadow': 1546, 'parodi': 1547, 'princ': 1548, 'pre': 1549, 'weapon': 1550, 'credibl': 1551, 'friendship': 1552, 'taylor': 1553, 'teach': 1554, 'flesh': 1555, 'dougla': 1556, 'protect': 1557, 'terror': 1558, 'bloodi': 1559, 'hint': 1560, 'marvel': 1561, 'anybodi': 1562, 'load': 1563, 'watchabl': 1564, 'accord': 1565, 'superman': 1566, 'drunk': 1567, 'leader': 1568, 'brown': 1569, 'freddi': 1570, 'tim': 1571, 'hitler': 1572, 'appropri': 1573, 'seat': 1574, 'jeff': 1575, 'knock': 1576, 'charg': 1577, 'villag': 1578, 'unknown': 1579, 'keaton': 1580, 'unnecessari': 1581, 'enemi': 1582, 'empti': 1583, 'media': 1584, 'england': 1585, 'utter': 1586, 'wave': 1587, 'perspect': 1588, 'craft': 1589, 'dare': 1590, 'buck': 1591, 'strength': 1592, 'contrast': 1593, 'correct': 1594, 'kiss': 1595, 'ford': 1596, 'nativ': 1597, 'distract': 1598, 'anywher': 1599, 'nazi': 1600, 'magnific': 1601, 'knowledg': 1602, 'chill': 1603, 'speed': 1604, 'soap': 1605, 'mission': 1606, '1980': 1607, 'breath': 1608, 'ice': 1609, 'fred': 1610, 'jr': 1611, 'joan': 1612, 'crowd': 1613, 'moon': 1614, 'frighten': 1615, '000': 1616, 'soft': 1617, 'kate': 1618, 'nick': 1619, 'dick': 1620, 'hundr': 1621, 'dan': 1622, 'simon': 1623, 'dozen': 1624, 'radio': 1625, 'somebodi': 1626, 'thousand': 1627, 'shakespear': 1628, 'andrew': 1629, 'loss': 1630, 'academi': 1631, 'quot': 1632, 'account': 1633, 'sum': 1634, 'root': 1635, 'vehicl': 1636, 'behavior': 1637, 'leg': 1638, 'convent': 1639, '1970': 1640, 'gold': 1641, 'regular': 1642, 'demand': 1643, 'worker': 1644, 'pretenti': 1645, 'compet': 1646, 'stretch': 1647, 'lynch': 1648, 'notabl': 1649, 'privat': 1650, 'candi': 1651, 'interpret': 1652, 'explos': 1653, 'japan': 1654, 'tarzan': 1655, 'constant': 1656, 'debut': 1657, 'sea': 1658, 'spi': 1659, 'revolv': 1660, 'translat': 1661, 'prais': 1662, 'technolog': 1663, 'franc': 1664, 'ass': 1665, 'jesu': 1666, 'threaten': 1667, 'quiet': 1668, 'sat': 1669, 'failur': 1670, 'higher': 1671, 'toy': 1672, 'aid': 1673, 'met': 1674, 'kevin': 1675, 'punch': 1676, 'mike': 1677, 'abandon': 1678, 'vh': 1679, 'interact': 1680, 'bet': 1681, 'confront': 1682, 'separ': 1683, 'command': 1684, 'belong': 1685, 'recal': 1686, 'site': 1687, 'gotten': 1688, 'servic': 1689, 'techniqu': 1690, 'stunt': 1691, 'freak': 1692, 'bug': 1693, 'foot': 1694, 'cabl': 1695, 'fu': 1696, 'jimmi': 1697, 'capabl': 1698, 'african': 1699, 'bright': 1700, 'clark': 1701, 'boat': 1702, 'presid': 1703, 'fat': 1704, 'stock': 1705, 'succeed': 1706, 'structur': 1707, 'spanish': 1708, 'gene': 1709, 'paper': 1710, 'kidnap': 1711, 'whilst': 1712, 'factor': 1713, 'belief': 1714, 'realis': 1715, 'witti': 1716, 'realism': 1717, 'tree': 1718, 'attend': 1719, 'bob': 1720, 'complic': 1721, 'educ': 1722, 'broken': 1723, 'santa': 1724, 'assist': 1725, 'finest': 1726, 'observ': 1727, 'up': 1728, 'v': 1729, 'determin': 1730, 'depart': 1731, 'smoke': 1732, 'fame': 1733, 'lewi': 1734, 'oper': 1735, 'hat': 1736, 'domin': 1737, 'routin': 1738, 'rubbish': 1739, 'foreign': 1740, 'lone': 1741, 'safe': 1742, 'hook': 1743, 'kinda': 1744, 'advanc': 1745, 'morgan': 1746, 'rank': 1747, 'numer': 1748, 'shallow': 1749, 'rose': 1750, 'vs': 1751, 'civil': 1752, 'shape': 1753, 'washington': 1754, 'werewolf': 1755, 'morn': 1756, 'gari': 1757, 'ordinari': 1758, 'accomplish': 1759, 'kong': 1760, 'winner': 1761, 'whenev': 1762, 'grab': 1763, 'peac': 1764, 'virtual': 1765, 'offens': 1766, 'h': 1767, 'luck': 1768, 'bigger': 1769, 'complain': 1770, 'welcom': 1771, 'contriv': 1772, 'patient': 1773, 'unfunni': 1774, 'activ': 1775, 'con': 1776, 'dimension': 1777, 'pretend': 1778, 'trek': 1779, 'flash': 1780, 'eric': 1781, 'wake': 1782, 'lesbian': 1783, 'code': 1784, 'cain': 1785, 'dri': 1786, 'corrupt': 1787, 'dancer': 1788, 'manipul': 1789, 'statu': 1790, 'albert': 1791, 'guard': 1792, 'awkward': 1793, 'context': 1794, 'gain': 1795, 'signific': 1796, 'sourc': 1797, 'speech': 1798, 'clip': 1799, '13': 1800, 'psycho': 1801, 'anthoni': 1802, 'corni': 1803, 'sean': 1804, 'curiou': 1805, 'theatric': 1806, 'priest': 1807, 'reli': 1808, 'w': 1809, 'advic': 1810, 'religion': 1811, 'addict': 1812, 'flow': 1813, 'secur': 1814, 'howard': 1815, 'asian': 1816, 'jennif': 1817, 'specif': 1818, 'skin': 1819, 'organ': 1820, 'promot': 1821, 'comfort': 1822, 'core': 1823, 'golden': 1824, 'luke': 1825, 'cash': 1826, 'cheat': 1827, 'lucki': 1828, 'lower': 1829, 'associ': 1830, 'dislik': 1831, 'balanc': 1832, 'frequent': 1833, 'wing': 1834, 'frankli': 1835, 'spell': 1836, 'contribut': 1837, 'degre': 1838, 'regret': 1839, 'devic': 1840, 'lake': 1841, 'forgiv': 1842, 'sake': 1843, 'print': 1844, 'thoma': 1845, 'mass': 1846, 'betti': 1847, 'crack': 1848, 'unexpect': 1849, 'gordon': 1850, 'amateur': 1851, 'grown': 1852, 'invit': 1853, 'depend': 1854, 'construct': 1855, 'unfold': 1856, 'categori': 1857, 'grew': 1858, 'anna': 1859, 'intellectu': 1860, 'honor': 1861, 'walter': 1862, 'matur': 1863, 'condit': 1864, 'spectacular': 1865, 'mirror': 1866, 'sudden': 1867, 'sole': 1868, 'veteran': 1869, 'gift': 1870, 'grip': 1871, 'experienc': 1872, 'demonstr': 1873, 'card': 1874, 'freedom': 1875, 'overli': 1876, 'robin': 1877, 'liner': 1878, 'meanwhil': 1879, 'oliv': 1880, 'drew': 1881, 'crappi': 1882, 'brilliantli': 1883, 'colour': 1884, 'section': 1885, 'circumst': 1886, 'subtitl': 1887, 'sheriff': 1888, 'unabl': 1889, 'theori': 1890, 'pile': 1891, 'cook': 1892, 'matt': 1893, 'altern': 1894, 'sheer': 1895, 'laughter': 1896, 'path': 1897, 'parker': 1898, 'relief': 1899, 'accident': 1900, 'treatment': 1901, 'defin': 1902, 'lawyer': 1903, 'wander': 1904, 'hall': 1905, 'sinatra': 1906, 'dragon': 1907, 'captiv': 1908, 'hank': 1909, 'gratuit': 1910, 'moor': 1911, 'halloween': 1912, 'kung': 1913, 'jacki': 1914, 'wayn': 1915, 'unintent': 1916, 'broadway': 1917, 'cowboy': 1918, 'barbara': 1919, 'k': 1920, 'wound': 1921, 'surreal': 1922, 'canadian': 1923, 'statement': 1924, 'spoof': 1925, 'winter': 1926, 'cheer': 1927, 'gonna': 1928, 'treasur': 1929, 'compos': 1930, 'fare': 1931, 'fish': 1932, 'unrealist': 1933, 'emerg': 1934, 'sensit': 1935, 'woodi': 1936, 'victor': 1937, 'neighbor': 1938, 'driven': 1939, 'ran': 1940, 'sympathet': 1941, 'menac': 1942, 'expos': 1943, 'glass': 1944, 'overlook': 1945, 'authent': 1946, 'topic': 1947, 'chief': 1948, 'gross': 1949, 'handsom': 1950, 'ancient': 1951, 'michel': 1952, 'feet': 1953, 'network': 1954, 'stranger': 1955, 'contemporari': 1956, 'built': 1957, 'nevertheless': 1958, 'comedian': 1959, 'russel': 1960, 'pleasant': 1961, 'cinderella': 1962, 'blockbust': 1963, 'letter': 1964, 'underr': 1965, 'endless': 1966, 'consider': 1967, 'earn': 1968, 'miser': 1969, 'gori': 1970, 'solv': 1971, 'brook': 1972, 'switch': 1973, 'virgin': 1974, 'bullet': 1975, 'convict': 1976, 'edward': 1977, 'victoria': 1978, 'joseph': 1979, 'cynic': 1980, 'scenario': 1981, 'scale': 1982, '0': 1983, 'alex': 1984, 'chosen': 1985, 'outrag': 1986, 'sword': 1987, 'gut': 1988, 'com': 1989, 'curs': 1990, 'screenwrit': 1991, 'monkey': 1992, 'substanc': 1993, 'uk': 1994, 'driver': 1995, 'proper': 1996, 'juli': 1997, 'wrap': 1998, 'par': 1999, 'bird': 2000, 'remov': 2001, 'indic': 2002, 'court': 2003, 'advertis': 2004, 'naiv': 2005, 'grave': 2006, 'rental': 2007, 'consequ': 2008, 'loser': 2009, 'inevit': 2010, 'roy': 2011, 'nanci': 2012, 'slap': 2013, 'fatal': 2014, 'bridg': 2015, 'germani': 2016, 'invis': 2017, 'brave': 2018, 'le': 2019, 'provok': 2020, 'anger': 2021, 'ador': 2022, 'footbal': 2023, 'loui': 2024, 'chan': 2025, 'alcohol': 2026, 'anderson': 2027, 'stumbl': 2028, 'willi': 2029, 'professor': 2030, 'ryan': 2031, 'sharp': 2032, 'bat': 2033, 'australian': 2034, 'assassin': 2035, 'patrick': 2036, '1930': 2037, 'saturday': 2038, 'heck': 2039, 'amateurish': 2040, 'lousi': 2041, 'strongli': 2042, 'deni': 2043, 'refresh': 2044, 'eight': 2045, 'ape': 2046, 'liber': 2047, 'cell': 2048, 'trilog': 2049, 'sin': 2050, 'justifi': 2051, 'resid': 2052, 'san': 2053, 'vagu': 2054, 'sympathi': 2055, 'defeat': 2056, 'reput': 2057, 'indi': 2058, 'mini': 2059, 'creator': 2060, 'terrifi': 2061, 'expert': 2062, 'endur': 2063, 'tabl': 2064, 'task': 2065, 'prevent': 2066, 'tediou': 2067, 'imit': 2068, 'offend': 2069, 'basebal': 2070, 'che': 2071, 'trial': 2072, 'employ': 2073, 'rival': 2074, 'pitch': 2075, 'complaint': 2076, 'europ': 2077, 'weekend': 2078, 'fairi': 2079, 'dig': 2080, 'max': 2081, 'beach': 2082, 'format': 2083, 'murphi': 2084, 'purchas': 2085, 'risk': 2086, 'harsh': 2087, 'tini': 2088, 'glimps': 2089, 'bite': 2090, 'titan': 2091, 'reminisc': 2092, 'powel': 2093, 'hype': 2094, 'nois': 2095, 'strip': 2096, 'prime': 2097, 'asleep': 2098, 'fals': 2099, 'till': 2100, 'north': 2101, '14': 2102, 'descript': 2103, 'revel': 2104, 'destruct': 2105, 'texa': 2106, 'africa': 2107, 'inner': 2108, 'spin': 2109, 'semi': 2110, 'sitcom': 2111, 'excess': 2112, 'surfac': 2113, 'arrest': 2114, 'uninterest': 2115, 'argu': 2116, 'massiv': 2117, 'maintain': 2118, 'hitchcock': 2119, 'makeup': 2120, 'twin': 2121, 'controversi': 2122, 'dinosaur': 2123, 'expens': 2124, 'stare': 2125, 'kim': 2126, 'melodrama': 2127, 'ideal': 2128, 'ludicr': 2129, 'insist': 2130, 'reject': 2131, 'supernatur': 2132, 'atroci': 2133, 'host': 2134, 'nail': 2135, 'forest': 2136, 'ga': 2137, 'press': 2138, 'erot': 2139, 'ala': 2140, 'subplot': 2141, 'columbo': 2142, 'dude': 2143, 'cant': 2144, 'presum': 2145, 'notch': 2146, 'identifi': 2147, 'character': 2148, 'crude': 2149, 'plagu': 2150, 'guest': 2151, 'method': 2152, 'forgett': 2153, 'closer': 2154, 'ear': 2155, 'lion': 2156, 'border': 2157, 'princess': 2158, 'foster': 2159, 'landscap': 2160, 'beast': 2161, 'storytel': 2162, 'pacino': 2163, 'aunt': 2164, 'birth': 2165, 'accus': 2166, 'damag': 2167, 'jungl': 2168, 'bound': 2169, 'previous': 2170, 'urban': 2171, 'propaganda': 2172, 'guid': 2173, 'nude': 2174, 'thirti': 2175, 'emma': 2176, 'doll': 2177, 'chose': 2178, 'jess': 2179, 'pet': 2180, 'mate': 2181, '25': 2182, 'whoever': 2183, 'mainstream': 2184, 'warrior': 2185, 'friday': 2186, 'latest': 2187, 'merit': 2188, 'exact': 2189, 'gritti': 2190, 'poster': 2191, 'deadli': 2192, 'size': 2193, 'upset': 2194, 'cooper': 2195, 'contest': 2196, 'ton': 2197, '1990': 2198, 'contact': 2199, 'rough': 2200, 'sun': 2201, 'warner': 2202, 'buff': 2203, 'settl': 2204, 'corps': 2205, 'citizen': 2206, 'popul': 2207, 'blend': 2208, 'wilson': 2209, 'overcom': 2210, 'widow': 2211, 'bu': 2212, 'select': 2213, 'environ': 2214, 'metal': 2215, 'alic': 2216, 'pitt': 2217, 'rat': 2218, 'mgm': 2219, 'particip': 2220, 'guilti': 2221, 'lift': 2222, 'link': 2223, 'revolut': 2224, 'ted': 2225, 'johnson': 2226, 'prostitut': 2227, 'moron': 2228, 'accompani': 2229, 'exagger': 2230, 'corpor': 2231, 'corner': 2232, 'afternoon': 2233, '1960': 2234, 'matrix': 2235, 'instal': 2236, 'multipl': 2237, 'leagu': 2238, 'sincer': 2239, 'friendli': 2240, 'doom': 2241, 'holm': 2242, 'hood': 2243, 'clair': 2244, 'sunday': 2245, 'hip': 2246, 'string': 2247, 'advis': 2248, 'blah': 2249, 'irish': 2250, 'examin': 2251, 'grim': 2252, 'aka': 2253, 'defend': 2254, 'junk': 2255, 'campi': 2256, 'lugosi': 2257, 'shut': 2258, 'confid': 2259, 'shake': 2260, 'pro': 2261, 'icon': 2262, 'varieti': 2263, 'rachel': 2264, 'tight': 2265, 'mexican': 2266, 'sullivan': 2267, 'denni': 2268, 'medic': 2269, 'goal': 2270, 'directli': 2271, 'attach': 2272, 'jaw': 2273, 'terrorist': 2274, 'sentenc': 2275, 'courag': 2276, 'dean': 2277, 'legendari': 2278, 'breast': 2279, 'vietnam': 2280, 'truck': 2281, 'sarah': 2282, 'duke': 2283, 'prior': 2284, 'bourn': 2285, 'yell': 2286, 'split': 2287, 'behav': 2288, 'nose': 2289, 'donald': 2290, 'un': 2291, 'entri': 2292, 'proceed': 2293, 'hong': 2294, 'stolen': 2295, 'buri': 2296, 'borrow': 2297, 'gather': 2298, 'concentr': 2299, 'forth': 2300, 'confess': 2301, 'unconvinc': 2302, 'lifetim': 2303, 'swim': 2304, 'everywher': 2305, 'jerk': 2306, 'crush': 2307, 'pan': 2308, 'deliveri': 2309, 'lip': 2310, 'spite': 2311, 'california': 2312, 'julia': 2313, 'turkey': 2314, 'offici': 2315, 'downright': 2316, 'flight': 2317, 'proud': 2318, 'quest': 2319, 'hoffman': 2320, 'china': 2321, 'freeman': 2322, 'reward': 2323, 'notori': 2324, 'betray': 2325, 'encourag': 2326, 'worthwhil': 2327, 'inept': 2328, 'jail': 2329, 'fabul': 2330, 'jon': 2331, 'sink': 2332, 'sir': 2333, 'lazi': 2334, 'fade': 2335, 'retard': 2336, 'bag': 2337, 'cousin': 2338, 'survivor': 2339, 'teeth': 2340, 'storm': 2341, 'imageri': 2342, 'lisa': 2343, 'shower': 2344, 'bell': 2345, 'relev': 2346, 'susan': 2347, 'branagh': 2348, 'facial': 2349, 'summari': 2350, 'trade': 2351, 'mexico': 2352, 'hugh': 2353, 'toler': 2354, 'tremend': 2355, 'quirki': 2356, 'alright': 2357, 'finger': 2358, 'stab': 2359, 'shark': 2360, 'bride': 2361, 'bitter': 2362, 'hyster': 2363, 'pose': 2364, 'blown': 2365, 'von': 2366, 'ha': 2367, 'ron': 2368, 'afterward': 2369, 'scheme': 2370, 'larri': 2371, 'christ': 2372, 'address': 2373, 'bone': 2374, 'ned': 2375, 'cruel': 2376, 'pursu': 2377, 'distinct': 2378, 'snake': 2379, 'feed': 2380, 'beg': 2381, 'thumb': 2382, 'traci': 2383, 'tour': 2384, 'screw': 2385, 'swear': 2386, 'obscur': 2387, 'occas': 2388, 'raw': 2389, 'chair': 2390, 'stomach': 2391, 'mechan': 2392, 'photo': 2393, 'chain': 2394, 'hardi': 2395, 'resist': 2396, 'holiday': 2397, 'cabin': 2398, 'gruesom': 2399, 'southern': 2400, 'necessarili': 2401, 'render': 2402, 'heavili': 2403, 'argument': 2404, 'sidney': 2405, 'understood': 2406, 'satan': 2407, 'racist': 2408, 'indulg': 2409, 'india': 2410, 'philip': 2411, 'forgot': 2412, 'lay': 2413, 'fourth': 2414, 'stalk': 2415, 'belov': 2416, 'midnight': 2417, 'obnoxi': 2418, 'integr': 2419, 'pregnant': 2420, 'outfit': 2421, 'tongu': 2422, '17': 2423, 'deeper': 2424, 'restor': 2425, 'magazin': 2426, 'ticket': 2427, 'carol': 2428, 'garden': 2429, 'slapstick': 2430, 'inhabit': 2431, 'shoe': 2432, 'incid': 2433, 'devot': 2434, 'brad': 2435, 'lincoln': 2436, 'benefit': 2437, 'underground': 2438, 'disbelief': 2439, 'anticip': 2440, 'guarante': 2441, 'divorc': 2442, 'lili': 2443, 'sandler': 2444, 'elizabeth': 2445, 'maria': 2446, 'mildli': 2447, 'greater': 2448, 'cring': 2449, 'creation': 2450, 'capit': 2451, 'princip': 2452, 'explod': 2453, 'amazingli': 2454, 'bbc': 2455, 'slave': 2456, 'funnier': 2457, 'lesli': 2458, 'halfway': 2459, 'introduct': 2460, 'extraordinari': 2461, 'punish': 2462, 'wreck': 2463, 'transfer': 2464, 'overwhelm': 2465, 'enhanc': 2466, 'extent': 2467, 'text': 2468, 'advantag': 2469, 'tap': 2470, 'dynam': 2471, 'error': 2472, 'lo': 2473, 'preview': 2474, 'horrif': 2475, 'lane': 2476, 'jessica': 2477, 'east': 2478, 'plant': 2479, 'deliber': 2480, 'homosexu': 2481, 'basi': 2482, 'vincent': 2483, 'miller': 2484, 'miscast': 2485, 'ensu': 2486, '2000': 2487, 'appli': 2488, 'sophist': 2489, 'vacat': 2490, 'reed': 2491, 'uncomfort': 2492, 'sleazi': 2493, 'measur': 2494, 'via': 2495, 'bollywood': 2496, 'extend': 2497, 'steel': 2498, 'elev': 2499, 'mansion': 2500, 'spoken': 2501, 'beer': 2502, 'stanley': 2503, 'hippi': 2504, 'dentist': 2505, 'fix': 2506, 'breathtak': 2507, 'blair': 2508, 'goofi': 2509, 'alter': 2510, 'melt': 2511, 'savag': 2512, 'mous': 2513, 'assign': 2514, 'daili': 2515, 'conceiv': 2516, 'cathol': 2517, 'overact': 2518, 'nowaday': 2519, 'subsequ': 2520, 'oppos': 2521, 'everyday': 2522, 'succe': 2523, 'burt': 2524, 'carpent': 2525, 'sacrific': 2526, 'inspector': 2527, 'properli': 2528, 'neck': 2529, 'circl': 2530, 'laura': 2531, 'block': 2532, 'massacr': 2533, 'access': 2534, 'fallen': 2535, 'concert': 2536, 'mob': 2537, 'pool': 2538, 'lesser': 2539, 'portrait': 2540, 'christi': 2541, 'fay': 2542, 'grey': 2543, 'seagal': 2544, 'react': 2545, 'isol': 2546, 'sinist': 2547, 'competit': 2548, 'relax': 2549, 'jewish': 2550, 'chees': 2551, 'usa': 2552, 'jake': 2553, 'nonetheless': 2554, 'appal': 2555, 'stink': 2556, 'chop': 2557, '2006': 2558, 'immens': 2559, 'creep': 2560, 'suitabl': 2561, 'spiritu': 2562, 'nine': 2563, 'ironi': 2564, 'lyric': 2565, 'adopt': 2566, 'franchis': 2567, 'user': 2568, 'retir': 2569, 'spring': 2570, 'shirt': 2571, 'sold': 2572, 'rage': 2573, 'navi': 2574, 'needless': 2575, 'reduc': 2576, 'showcas': 2577, 'nut': 2578, 'luci': 2579, 'jay': 2580, 'bath': 2581, 'digit': 2582, 'bulli': 2583, 'per': 2584, 'asham': 2585, 'nurs': 2586, 'uninspir': 2587, 'zone': 2588, 'stanwyck': 2589, 'laid': 2590, 'illustr': 2591, 'sutherland': 2592, '2001': 2593, 'upper': 2594, 'oddli': 2595, '1940': 2596, 'broadcast': 2597, 'amongst': 2598, 'throat': 2599, 'fulfil': 2600, 'aspir': 2601, 'stylish': 2602, 'baker': 2603, 'disguis': 2604, 'brando': 2605, 'endear': 2606, 'em': 2607, 'impli': 2608, 'wanna': 2609, '18': 2610, 'wwii': 2611, 'pound': 2612, 'pride': 2613, 'neighborhood': 2614, 'nobl': 2615, 'thief': 2616, 'distribut': 2617, 'shoulder': 2618, 'bett': 2619, 'coher': 2620, 'shift': 2621, '16': 2622, 'albeit': 2623, 'tens': 2624, 'rochest': 2625, 'diseas': 2626, 'bo': 2627, 'dawn': 2628, 'cinematograph': 2629, 'dinner': 2630, 'prop': 2631, 'shout': 2632, 'contract': 2633, 'silenc': 2634, 'wash': 2635, 'function': 2636, 'snow': 2637, 'poignant': 2638, 'knife': 2639, 'surf': 2640, 'forti': 2641, 'matthau': 2642, 'rebel': 2643, 'internet': 2644, 'heat': 2645, 'silver': 2646, 'cannib': 2647, 'horrend': 2648, 'cancel': 2649, 'height': 2650, 'widmark': 2651, 'instinct': 2652, 'reunion': 2653, 'henc': 2654, 'proof': 2655, 'duti': 2656, 'elvira': 2657, 'chuck': 2658, 'derek': 2659, 'mindless': 2660, 'eeri': 2661, 'elvi': 2662, 'repetit': 2663, 'pie': 2664, 'premier': 2665, 'torn': 2666, 'incoher': 2667, 'neat': 2668, 'mill': 2669, 'glori': 2670, 'innov': 2671, 'absorb': 2672, 'alik': 2673, 'greatli': 2674, 'etern': 2675, 'spielberg': 2676, 'musician': 2677, 'burton': 2678, 'redempt': 2679, 'nelson': 2680, 'lovabl': 2681, 'blank': 2682, 'infam': 2683, 'crisi': 2684, 'horrifi': 2685, 'precis': 2686, 'homag': 2687, 'wealthi': 2688, 'announc': 2689, 'bang': 2690, 'itali': 2691, 'fbi': 2692, 'trite': 2693, 'racism': 2694, 'britain': 2695, 'diamond': 2696, 'parallel': 2697, 'dedic': 2698, 'flop': 2699, 'hammer': 2700, 'ensembl': 2701, 'chaplin': 2702, 'happili': 2703, 'pat': 2704, 'helen': 2705, 'wilder': 2706, 'streisand': 2707, 'resolut': 2708, 'plastic': 2709, 'conclud': 2710, 'disagre': 2711, 'carter': 2712, 'oil': 2713, 'broke': 2714, 'cube': 2715, 'triumph': 2716, 'mar': 2717, 'factori': 2718, 'st': 2719, 'fighter': 2720, 'chuckl': 2721, 'rocket': 2722, 'weight': 2723, 'bush': 2724, 'climb': 2725, 'row': 2726, 'own': 2727, 'march': 2728, 'vega': 2729, 'unforgett': 2730, 'meaning': 2731, 'enorm': 2732, 'thug': 2733, 'sensibl': 2734, 'wherea': 2735, 'boot': 2736, 'kurt': 2737, 'luca': 2738, 'lust': 2739, 'dane': 2740, 'dump': 2741, 'spare': 2742, 'mst3k': 2743, 'caricatur': 2744, 'bobbi': 2745, 'rap': 2746, 'dear': 2747, 'fifti': 2748, 'brand': 2749, 'difficulti': 2750, 'adequ': 2751, 'engin': 2752, 'karloff': 2753, 'arnold': 2754, 'stress': 2755, 'butt': 2756, 'threat': 2757, 'journalist': 2758, 'homeless': 2759, 'swing': 2760, 'arrog': 2761, 'fest': 2762, 'elabor': 2763, 'barri': 2764, 'flynn': 2765, 'polish': 2766, 'secretari': 2767, 'ego': 2768, 'ralph': 2769, 'hamlet': 2770, 'conspiraci': 2771, 'arrang': 2772, 'tool': 2773, 'puppet': 2774, 'fanci': 2775, 'unbear': 2776, 'resort': 2777, 'induc': 2778, 'spike': 2779, 'float': 2780, 'simpson': 2781, 'grate': 2782, 'exercis': 2783, 'pig': 2784, 'phillip': 2785, 'guilt': 2786, 'basement': 2787, 'tribut': 2788, 'cruis': 2789, 'muppet': 2790, 'choreograph': 2791, 'boll': 2792, '24': 2793, 'editor': 2794, 'stan': 2795, 'file': 2796, 'layer': 2797, 'toilet': 2798, 'document': 2799, 'puzzl': 2800, 'slip': 2801, 'ham': 2802, 'scarecrow': 2803, 'fianc': 2804, 'item': 2805, 'ward': 2806, 'tower': 2807, 'babe': 2808, 'korean': 2809, 'medium': 2810, 'minim': 2811, 'territori': 2812, 'larger': 2813, 'inexplic': 2814, 'superfici': 2815, 'transit': 2816, 'librari': 2817, 'spark': 2818, 'persona': 2819, 'assur': 2820, 'doc': 2821, 'denzel': 2822, 'glover': 2823, 'catherin': 2824, 'slaughter': 2825, 'portion': 2826, 'philosoph': 2827, 'orient': 2828, 'sneak': 2829, 'wolf': 2830, 'jet': 2831, 'pg': 2832, 'financi': 2833, 'owe': 2834, 'jeremi': 2835, 'shi': 2836, 'curti': 2837, 'ban': 2838, 'walken': 2839, 'dorothi': 2840, 'boredom': 2841, 'cusack': 2842, 'eleph': 2843, 'backdrop': 2844, 'metaphor': 2845, 'profound': 2846, 'multi': 2847, 'whale': 2848, 'hudson': 2849, 'ambigu': 2850, 'union': 2851, 'implaus': 2852, 'stiff': 2853, 'rave': 2854, '2005': 2855, 'birthday': 2856, 'ultra': 2857, 'notion': 2858, 'viru': 2859, 'elsewher': 2860, 'hack': 2861, 'gadget': 2862, 'superhero': 2863, 'squar': 2864, 'deriv': 2865, 'lloyd': 2866, 'afford': 2867, '1st': 2868, 'eastwood': 2869, 'pad': 2870, 'bibl': 2871, 'poison': 2872, 'hawk': 2873, 'distanc': 2874, 'urg': 2875, 'reader': 2876, 'newspap': 2877, 'disc': 2878, 'canada': 2879, 'slight': 2880, 'eva': 2881, 'drown': 2882, 'charisma': 2883, 'sadist': 2884, 'spread': 2885, 'montag': 2886, 'health': 2887, 'heston': 2888, 'essenc': 2889, 'restaur': 2890, 'skit': 2891, 'cure': 2892, 'huh': 2893, 'button': 2894, 'scoobi': 2895, 'maniac': 2896, 'gradual': 2897, 'invest': 2898, 'lab': 2899, 'fetch': 2900, 'muslim': 2901, 'dealt': 2902, 'peak': 2903, 'estat': 2904, 'companion': 2905, 'godfath': 2906, 'ritter': 2907, 'cup': 2908, 'tea': 2909, 'alli': 2910, 'miik': 2911, 'subtleti': 2912, 'kane': 2913, 'gothic': 2914, 'servant': 2915, 'countless': 2916, 'briefli': 2917, 'iii': 2918, 'heroic': 2919, 'charismat': 2920, 'salli': 2921, 'electr': 2922, 'elect': 2923, 'wannab': 2924, 'reel': 2925, 'admittedli': 2926, 'tender': 2927, 'grandmoth': 2928, 'nuanc': 2929, 'ingredi': 2930, 'resourc': 2931, 'bud': 2932, 'neil': 2933, 'toss': 2934, 'cole': 2935, 'pauli': 2936, 'stood': 2937, 'mafia': 2938, 'carrey': 2939, 'gate': 2940, 'pit': 2941, 'mild': 2942, 'reev': 2943, 'poverti': 2944, 'kubrick': 2945, 'label': 2946, 'shall': 2947, 'stronger': 2948, 'dawson': 2949, 'punk': 2950, 'smash': 2951, 'cox': 2952, 'cardboard': 2953, 'updat': 2954, 'fond': 2955, 'useless': 2956, 'ian': 2957, 'terri': 2958, 'outcom': 2959, 'smooth': 2960, 'assault': 2961, 'burst': 2962, 'tag': 2963, 'easier': 2964, 'astair': 2965, 'bakshi': 2966, 'sketch': 2967, 'coincid': 2968, 'resolv': 2969, 'qualifi': 2970, 'rex': 2971, 'divers': 2972, '2002': 2973, 'exchang': 2974, 'melodramat': 2975, 'vulner': 2976, 'increasingli': 2977, 'fist': 2978, 'samurai': 2979, 'vari': 2980, 'be': 2981, 'insert': 2982, 'templ': 2983, 'suspend': 2984, 'tame': 2985, 'brillianc': 2986, 'luckili': 2987, 'reynold': 2988, 'blast': 2989, 'conveni': 2990, 'scratch': 2991, 'nuclear': 2992, 'soprano': 2993, 'jami': 2994, 'ambiti': 2995, 'seventi': 2996, 'hamilton': 2997, 'farm': 2998, 'meat': 2999, 'fisher': 3000, 'coach': 3001, 'strictli': 3002, 'walker': 3003, 'pin': 3004, 'gotta': 3005, 'matthew': 3006, 'kudo': 3007, 'clock': 3008, 'struck': 3009, 'joey': 3010, 'monk': 3011, 'closet': 3012, 'eccentr': 3013, 'recreat': 3014, 'empir': 3015, 'grasp': 3016, 'spooki': 3017, 'revers': 3018, 'convolut': 3019, 'timeless': 3020, 'instantli': 3021, 'butcher': 3022, 'cave': 3023, 'worthless': 3024, 'discoveri': 3025, 'ninja': 3026, 'brosnan': 3027, 'declar': 3028, 'sidekick': 3029, 'bleak': 3030, 'selfish': 3031, 'clown': 3032, 'wipe': 3033, 'fifteen': 3034, 'pal': 3035, 'evok': 3036, 'communist': 3037, 'importantli': 3038, 'cliff': 3039, 'inconsist': 3040, 'mitchel': 3041, 'gray': 3042, 'eighti': 3043, 'sloppi': 3044, 'seller': 3045, 'miracl': 3046, 'partli': 3047, 'norman': 3048, 'superbl': 3049, 'websit': 3050, 'psychiatrist': 3051, 'piano': 3052, 'flawless': 3053, 'seed': 3054, 'chew': 3055, 'enthusiast': 3056, '45': 3057, 'debat': 3058, 'destin': 3059, 'aforement': 3060, 'australia': 3061, 'farc': 3062, 'lifestyl': 3063, 'stoog': 3064, 'cheek': 3065, 'ho': 3066, 'emili': 3067, 'pressur': 3068, 'slice': 3069, 'soviet': 3070, 'regardless': 3071, 'incompet': 3072, 'splatter': 3073, 'anni': 3074, 'kitchen': 3075, 'bash': 3076, 'wrestl': 3077, 'akshay': 3078, 'dash': 3079, 'wick': 3080, 'drivel': 3081, 'dire': 3082, 'directori': 3083, 'abc': 3084, 'doo': 3085, 'beaten': 3086, 'recov': 3087, 'duo': 3088, 'mann': 3089, 'cagney': 3090, 'judi': 3091, 'seduc': 3092, 'pleasantli': 3093, 'suppli': 3094, 'dave': 3095, 'lou': 3096, 'ken': 3097, 'prize': 3098, 'jar': 3099, 'cameron': 3100, 'helicopt': 3101, 'curios': 3102, 'increas': 3103, 'cia': 3104, 'chapter': 3105, 'distant': 3106, 'flower': 3107, 'boil': 3108, 'glow': 3109, 'blob': 3110, 'artifici': 3111, 'laurel': 3112, 'web': 3113, 'ranger': 3114, 'perri': 3115, 'ellen': 3116, 'francisco': 3117, 'turner': 3118, 'craig': 3119, 'goldberg': 3120, 'glenn': 3121, 'panic': 3122, 'psychot': 3123, 'favour': 3124, 'drunken': 3125, 'craven': 3126, 'splendid': 3127, 'combat': 3128, 'hop': 3129, 'eleg': 3130, 'ruth': 3131, 'rid': 3132, 'greek': 3133, '20th': 3134, 'gandhi': 3135, 'wizard': 3136, 'flip': 3137, 'slightest': 3138, 'modesti': 3139, 'alexand': 3140, 'fx': 3141, 'shortli': 3142, 'gentl': 3143, 'philosophi': 3144, 'graduat': 3145, 'hatr': 3146, 'plausibl': 3147, 'falk': 3148, 'min': 3149, 'fund': 3150, 'jealou': 3151, 'lend': 3152, 'harm': 3153, 'knight': 3154, 'legal': 3155, 'holi': 3156, 'unpleas': 3157, 'tall': 3158, 'futurist': 3159, 'ocean': 3160, 'dracula': 3161, 'we': 3162, 'manhattan': 3163, 'preciou': 3164, 'felix': 3165, 'childish': 3166, 'mock': 3167, 'explicit': 3168, 'overdon': 3169, 'ami': 3170, 'giallo': 3171, 'forbidden': 3172, 'bless': 3173, 'tank': 3174, 'nod': 3175, 'scientif': 3176, 'digniti': 3177, 'reviv': 3178, 'thread': 3179, 'repeatedli': 3180, 'eve': 3181, 'yesterday': 3182, 'elderli': 3183, 'awaken': 3184, 'broad': 3185, 'thick': 3186, 'mel': 3187, 'verhoeven': 3188, 'nerv': 3189, 'unwatch': 3190, 'awe': 3191, 'torment': 3192, '99': 3193, '2004': 3194, 'margaret': 3195, 'fever': 3196, 'pirat': 3197, 'rivet': 3198, 'bin': 3199, 'stiller': 3200, 'automat': 3201, 'ambit': 3202, 'royal': 3203, 'eas': 3204, 'absenc': 3205, 'griffith': 3206, 'custom': 3207, 'publish': 3208, 'timothi': 3209, 'acclaim': 3210, 'romero': 3211, 'kay': 3212, 'launch': 3213, 'ah': 3214, 'roman': 3215, 'lean': 3216, 'uniform': 3217, 'politician': 3218, 'bathroom': 3219, 'termin': 3220, 'transport': 3221, 'stinker': 3222, 'warren': 3223, 'sunshin': 3224, 'purpl': 3225, 'crook': 3226, 'phrase': 3227, 'gabriel': 3228, 'antic': 3229, 'foul': 3230, 'tomato': 3231, 'darker': 3232, 'pulp': 3233, 'homicid': 3234, 'pierc': 3235, 'wallac': 3236, 'evolv': 3237, 'choreographi': 3238, 'packag': 3239, 'karen': 3240, 'q': 3241, 'marin': 3242, 'pray': 3243, '2003': 3244, 'hollow': 3245, 'horrid': 3246, 'donna': 3247, 'brazil': 3248, 'prom': 3249, 'awak': 3250, 'juvenil': 3251, 'contrari': 3252, 'kenneth': 3253, 'rambo': 3254, 'album': 3255, 'revolutionari': 3256, 'sixti': 3257, 'eyr': 3258, 'li': 3259, 'saint': 3260, 'viciou': 3261, 'ought': 3262, 'coloni': 3263, 'blade': 3264, 'mummi': 3265, 'boast': 3266, 'mildr': 3267, 'overr': 3268, 'ireland': 3269, 'beatti': 3270, 'dose': 3271, 'nerd': 3272, 'twelv': 3273, 'stole': 3274, 'candid': 3275, 'ramon': 3276, 'option': 3277, 'conserv': 3278, 'defi': 3279, 'kapoor': 3280, 'funer': 3281, 'astonish': 3282, 'confirm': 3283, 'protest': 3284, 'trio': 3285, 'detract': 3286, 'flame': 3287, 'collabor': 3288, 'kirk': 3289, 'jazz': 3290, 'altman': 3291, 'global': 3292, 'natali': 3293, 'fulci': 3294, 'yellow': 3295, 'bottl': 3296, 'leap': 3297, 'audio': 3298, 'shade': 3299, 'tommi': 3300, 'destini': 3301, 'blake': 3302, 'nicholson': 3303, 'spit': 3304, 'racial': 3305, 'delici': 3306, 'bull': 3307, 'mystic': 3308, 'enterpris': 3309, 'whip': 3310, 'merci': 3311, 'fonda': 3312, 'visibl': 3313, 'pseudo': 3314, 'altogeth': 3315, 'bedroom': 3316, 'enchant': 3317, 'harder': 3318, 'swedish': 3319, 'adolesc': 3320, 'threw': 3321, 'reunit': 3322, 'inherit': 3323, 'meaningless': 3324, 'popcorn': 3325, 'neo': 3326, 'todd': 3327, 'vivid': 3328, 'staff': 3329, 'befriend': 3330, 'kennedi': 3331, 'await': 3332, 'uneven': 3333, 'exhibit': 3334, 'fanat': 3335, 'madonna': 3336, 'roommat': 3337, 'voight': 3338, 'decor': 3339, 'reserv': 3340, 'atlanti': 3341, 'ruthless': 3342, 'suspici': 3343, 'bust': 3344, 'jew': 3345, 'moodi': 3346, 'tip': 3347, 'lawrenc': 3348, 'synopsi': 3349, 'respond': 3350, 'leonard': 3351, 'lemmon': 3352, 'edi': 3353, 'crocodil': 3354, 'wire': 3355, 'bargain': 3356, 'carl': 3357, 'clumsi': 3358, 'dimens': 3359, 'bold': 3360, 'garner': 3361, 'chao': 3362, 'rural': 3363, 'audit': 3364, 'ventur': 3365, 'centr': 3366, '2007': 3367, 'unsettl': 3368, 'incident': 3369, 'voyag': 3370, 'abysm': 3371, 'bradi': 3372, 'holli': 3373, 'clint': 3374, 'palma': 3375, 'nearbi': 3376, 'immigr': 3377, 'acknowledg': 3378, 'humili': 3379, 'lit': 3380, 'neglect': 3381, 'imperson': 3382, 'versu': 3383, 'mall': 3384, 'troop': 3385, '2nd': 3386, 'elimin': 3387, 'echo': 3388, 'ant': 3389, 'cd': 3390, 'trail': 3391, 'daddi': 3392, 'cuba': 3393, 'characterist': 3394, 'tiger': 3395, 'hart': 3396, 'cari': 3397, 'poetic': 3398, 'timon': 3399, 'wealth': 3400, 'celluloid': 3401, 'marshal': 3402, 'mistaken': 3403, 'domest': 3404, 'repuls': 3405, 'jeffrey': 3406, 'paus': 3407, 'saga': 3408, 'prejudic': 3409, 'mickey': 3410, 'solo': 3411, 'collaps': 3412, 'homer': 3413, 'pun': 3414, 'infect': 3415, 'coffe': 3416, 'milk': 3417, 'chest': 3418, 'coat': 3419, 'equip': 3420, 'leon': 3421, 'assembl': 3422, 'inan': 3423, 'interrupt': 3424, 'harvey': 3425, 'hbo': 3426, 'apolog': 3427, 'gear': 3428, 'inappropri': 3429, 'tribe': 3430, 'olivi': 3431, 'cake': 3432, 'sore': 3433, 'undoubtedli': 3434, '1996': 3435, 'pant': 3436, 'ginger': 3437, 'promin': 3438, 'instant': 3439, 'florida': 3440, 'trace': 3441, 'aveng': 3442, 'primari': 3443, 'colleagu': 3444, 'highest': 3445, 'consum': 3446, 'institut': 3447, 'humbl': 3448, 'solut': 3449, 'furthermor': 3450, 'jenni': 3451, 'retain': 3452, 'devast': 3453, 'vulgar': 3454, 'embrac': 3455, 'maggi': 3456, 'pen': 3457, 'airplan': 3458, 'colonel': 3459, 'exot': 3460, 'polanski': 3461, 'pot': 3462, 'brooklyn': 3463, 'dian': 3464, 'descend': 3465, 'strain': 3466, 'illog': 3467, 'seduct': 3468, 'dutch': 3469, 'poke': 3470, 'wive': 3471, 'gender': 3472, 'outer': 3473, 'cope': 3474, 'linda': 3475, '3rd': 3476, 'smaller': 3477, 'bowl': 3478, 'godzilla': 3479, 'rick': 3480, '1999': 3481, 'sale': 3482, 'ya': 3483, 'principl': 3484, 'disabl': 3485, 'inferior': 3486, 'beneath': 3487, 'bubbl': 3488, 'gundam': 3489, 'lol': 3490, 'glamor': 3491, 'rabbit': 3492, 'blatant': 3493, 'scope': 3494, 'yard': 3495, 'dive': 3496, 'predecessor': 3497, 'gloriou': 3498, 'secondli': 3499, 'dud': 3500, 'mixtur': 3501, 'primarili': 3502, 'devoid': 3503, 'hal': 3504, 'vast': 3505, 'cue': 3506, 'invas': 3507, 'trademark': 3508, 'alert': 3509, 'shirley': 3510, 'hideou': 3511, 'aggress': 3512, 'alfr': 3513, 'casual': 3514, 'domino': 3515, 'breed': 3516, 'talki': 3517, 'z': 3518, 'arab': 3519, 'simplist': 3520, 'disjoint': 3521, 'april': 3522, 'countrysid': 3523, 'streep': 3524, 'museum': 3525, 'myer': 3526, 'senseless': 3527, 'et': 3528, 'pearl': 3529, 'grinch': 3530, 'shelf': 3531, 'garbo': 3532, 'applaud': 3533, 'illeg': 3534, 'defens': 3535, 'robinson': 3536, 'stir': 3537, 'khan': 3538, 'experiment': 3539, 'oz': 3540, 'hopeless': 3541, 'stellar': 3542, 'maci': 3543, 'unhappi': 3544, 'robberi': 3545, 'obtain': 3546, 'rendit': 3547, 'boom': 3548, 'uwe': 3549, 'acid': 3550, 'slide': 3551, 'sh': 3552, 'vanish': 3553, 'mail': 3554, 'hardcor': 3555, 'mayor': 3556, 'loyal': 3557, 'stack': 3558, 'disgrac': 3559, 'soccer': 3560, 'fri': 3561, 'counter': 3562, 'dismiss': 3563, 'psychic': 3564, 'incomprehens': 3565, 'craze': 3566, 'amanda': 3567, 'diana': 3568, 'rifl': 3569, 'blew': 3570, 'tempt': 3571, 'berlin': 3572, 'grandfath': 3573, 'wont': 3574, 'emphasi': 3575, 'dicken': 3576, 'scroog': 3577, 'topless': 3578, 'spider': 3579, 'recruit': 3580, 'span': 3581, 'tenant': 3582, 'hartley': 3583, 'declin': 3584, 'ethnic': 3585, 'porno': 3586, 'sibl': 3587, 'riot': 3588, 'goer': 3589, 'revolt': 3590, 'shed': 3591, 'intim': 3592, 'parad': 3593, 'niro': 3594, 'faster': 3595, 'shaw': 3596, 'woo': 3597, 'resurrect': 3598, 'bitch': 3599, 'trashi': 3600, 'justin': 3601, 'ration': 3602, 'wet': 3603, 'sympath': 3604, 'lumet': 3605, 'steam': 3606, 'nephew': 3607, 'gap': 3608, 'enlighten': 3609, 'feminist': 3610, 'eager': 3611, 'farmer': 3612, 'choru': 3613, 'honesti': 3614, 'hesit': 3615, 'rider': 3616, 'partial': 3617, 'wendi': 3618, 'patriot': 3619, 'weakest': 3620, 'commend': 3621, 'lena': 3622, 'region': 3623, 'jonathan': 3624, 'unreal': 3625, 'biographi': 3626, 'ballet': 3627, 'ensur': 3628, 'mario': 3629, 'immort': 3630, 'andr': 3631, 'slick': 3632, 'hopper': 3633, 'dealer': 3634, 'wheel': 3635, '00': 3636, 'worm': 3637, 'vice': 3638, 'confin': 3639, 'nostalg': 3640, 'util': 3641, 'blunt': 3642, 'hung': 3643, 'victori': 3644, 'composit': 3645, 'safeti': 3646, 'sappi': 3647, 'franco': 3648, 'psychopath': 3649, 'leo': 3650, 'repress': 3651, 'owen': 3652, 'morri': 3653, 'mutant': 3654, 'wore': 3655, 'snap': 3656, 'sandra': 3657, 'charlott': 3658, 'properti': 3659, 'similarli': 3660, 'prequel': 3661, 'skull': 3662, 'kingdom': 3663, 'macarthur': 3664, 'drum': 3665, 'bonu': 3666, 'montana': 3667, 'recycl': 3668, 'despair': 3669, 'miseri': 3670, 'bumbl': 3671, 'bergman': 3672, 'valuabl': 3673, 'speci': 3674, '1972': 3675, 'thru': 3676, 'kyle': 3677, 'heartbreak': 3678, 'compass': 3679, 'deed': 3680, 'hyde': 3681, 'whoopi': 3682, 'dust': 3683, 'strand': 3684, 'cg': 3685, 'farrel': 3686, 'exit': 3687, 'bow': 3688, 'nervou': 3689, 'repli': 3690, 'del': 3691, 'snl': 3692, 'rambl': 3693, 'dalton': 3694, 'latin': 3695, 'pattern': 3696, 'rocki': 3697, 'tail': 3698, 'compens': 3699, 'campbel': 3700, 'rope': 3701, 'emperor': 3702, 'tad': 3703, 'acquir': 3704, 'drain': 3705, 'contempl': 3706, 'olli': 3707, 'wacki': 3708, 'chess': 3709, 'gimmick': 3710, 'airport': 3711, 'oppress': 3712, 'radic': 3713, '35': 3714, 'tonight': 3715, 'rotten': 3716, 'percept': 3717, 'rapist': 3718, 'carradin': 3719, 'da': 3720, 'pour': 3721, 'orson': 3722, 'romp': 3723, 'mistress': 3724, 'downhil': 3725, 'martian': 3726, 'bleed': 3727, 'roth': 3728, 'gal': 3729, 'slug': 3730, 'slash': 3731, 'taught': 3732, 'mislead': 3733, 'preach': 3734, 'heal': 3735, 'tooth': 3736, 'tackl': 3737, 'belt': 3738, 'arc': 3739, 'arguabl': 3740, 'attorney': 3741, 'unpredict': 3742, 'stilt': 3743, 'shelley': 3744, 'edgar': 3745, 'banal': 3746, 'dazzl': 3747, 'melodi': 3748, 'champion': 3749, 'pervers': 3750, 'programm': 3751, 'paltrow': 3752, 'pervert': 3753, 'pursuit': 3754, '1983': 3755, 'maid': 3756, 'uplift': 3757, 'franki': 3758, 'orang': 3759, 'closest': 3760, 'gambl': 3761, 'conneri': 3762, 'graham': 3763, 'passeng': 3764, 'duval': 3765, 'chicken': 3766, 'mesmer': 3767, 'rubi': 3768, 'employe': 3769, 'sensat': 3770, 'marti': 3771, 'vocal': 3772, 'raymond': 3773, 'tiresom': 3774, 'plight': 3775, 'bela': 3776, 'poem': 3777, 'virginia': 3778, 'cleverli': 3779, 'vengeanc': 3780, 'dixon': 3781, 'abraham': 3782, 'giggl': 3783, 'swallow': 3784, 'climact': 3785, 'iran': 3786, 'calm': 3787, 'scottish': 3788, 'quarter': 3789, 'outing': 3790, 'lundgren': 3791, 'convincingli': 3792, 'suffic': 3793, 'profan': 3794, 'mute': 3795, 'yawn': 3796, 'monologu': 3797, 'crystal': 3798, 'whine': 3799, 'numb': 3800, 'gerard': 3801, 'bay': 3802, 'habit': 3803, 'engross': 3804, 'pokemon': 3805, 'clone': 3806, '1968': 3807, 'inject': 3808, 'volum': 3809, 'tube': 3810, 'secretli': 3811, 'extens': 3812, 'paranoia': 3813, 'sirk': 3814, 'amitabh': 3815, 'nichola': 3816, 'grotesqu': 3817, 'bend': 3818, 'backward': 3819, 'richardson': 3820, 'poetri': 3821, 'plod': 3822, 'taxi': 3823, 'septemb': 3824, 'dispos': 3825, 'expand': 3826, 'ethan': 3827, 'fed': 3828, 'earl': 3829, 'surpass': 3830, 'franci': 3831, 'abort': 3832, 'underst': 3833, 'profess': 3834, 'frankenstein': 3835, 'trend': 3836, 'austen': 3837, 'lowest': 3838, 'meander': 3839, 'junior': 3840, 'chicago': 3841, 'im': 3842, 'linger': 3843, 'spock': 3844, 'hum': 3845, 'spoke': 3846, 'econom': 3847, 'eugen': 3848, 'waitress': 3849, 'instrument': 3850, 'descent': 3851, 'catchi': 3852, 'der': 3853, 'dysfunct': 3854, 'myth': 3855, 'greedi': 3856, 'literatur': 3857, 'mundan': 3858, 'rant': 3859, 'compliment': 3860, 'household': 3861, 'muddl': 3862, 'tourist': 3863, 'lure': 3864, 'simplic': 3865, 'rubber': 3866, 'cannon': 3867, 'nostalgia': 3868, 'sue': 3869, 'stallon': 3870, 'stale': 3871, 'recognit': 3872, 'deaf': 3873, 'map': 3874, 'carel': 3875, 'eaten': 3876, 'firstli': 3877, 'phoni': 3878, 'occupi': 3879, 'irrelev': 3880, 'alongsid': 3881, 'damon': 3882, 'hello': 3883, 'sissi': 3884, 'lang': 3885, 'crucial': 3886, 'mortal': 3887, 'louis': 3888, 'coast': 3889, 'flee': 3890, 'duck': 3891, 'equival': 3892, 'dement': 3893, 'dictat': 3894, 'june': 3895, 'insur': 3896, 'randi': 3897, 'cent': 3898, 'recognis': 3899, 'phantom': 3900, 'omen': 3901, 'furi': 3902, 'bacal': 3903, 'mankind': 3904, 'molli': 3905, 'likewis': 3906, 'dreari': 3907, 'blackmail': 3908, 'wisdom': 3909, 'newli': 3910, 'drake': 3911, 'heel': 3912, 'reign': 3913, 'freez': 3914, 'daisi': 3915, 'rude': 3916, 'ashley': 3917, 'distinguish': 3918, 'lengthi': 3919, 'rooney': 3920, 'twilight': 3921, 'antwon': 3922, 'bike': 3923, 'cyborg': 3924, '1973': 3925, 'grayson': 3926, 'bump': 3927, 'onlin': 3928, 'biko': 3929, 'loyalti': 3930, 'damm': 3931, 'labor': 3932, 'buffalo': 3933, 'pink': 3934, 'provoc': 3935, 'approv': 3936, 'baddi': 3937, 'interior': 3938, 'inher': 3939, 'worn': 3940, 'attribut': 3941, 'basketbal': 3942, 'boxer': 3943, 'vein': 3944, 'unorigin': 3945, 'barrymor': 3946, 'nineti': 3947, 'butler': 3948, 'startl': 3949, 'proce': 3950, 'analysi': 3951, 'incorpor': 3952, 'chronicl': 3953, 'ridden': 3954, 'prey': 3955, 'keith': 3956, 'emphas': 3957, 'exposur': 3958, 'sailor': 3959, 'tunnel': 3960, 'mighti': 3961, 'drift': 3962, 'fleet': 3963, 'bunni': 3964, 'nicol': 3965, 'stalker': 3966, 'unrel': 3967, 'carla': 3968, 'degrad': 3969, 'er': 3970, 'substitut': 3971, 'hypnot': 3972, 'barrel': 3973, 'othello': 3974, 'belushi': 3975, 'simmon': 3976, 'condemn': 3977, 'walsh': 3978, 'meg': 3979, 'robbin': 3980, 'elm': 3981, 'indiffer': 3982, 'improvis': 3983, 'undeni': 3984, 'millionair': 3985, 'underli': 3986, 'predat': 3987, 'julian': 3988, 'meyer': 3989, 'mormon': 3990, 'hay': 3991, 'exquisit': 3992, '3d': 3993, 'edgi': 3994, 'shove': 3995, 'palac': 3996, 'firm': 3997, 'greed': 3998, 'disord': 3999, 'vital': 4000, 'priceless': 4001, 'alarm': 4002, 'unawar': 4003, 'marion': 4004, 'dolph': 4005, 'errol': 4006, 'enthusiasm': 4007, 'mtv': 4008, 'warmth': 4009, 'nyc': 4010, 'novak': 4011, 'agenda': 4012, 'lampoon': 4013, 'roof': 4014, 'reid': 4015, 'alison': 4016, 'watson': 4017, 'rukh': 4018, 'iraq': 4019, 'simultan': 4020, 'minimum': 4021, 'gestur': 4022, 'beatl': 4023, 'what': 4024, 'angela': 4025, 'championship': 4026, 'glanc': 4027, 'thompson': 4028, 'valentin': 4029, 'showdown': 4030, '1933': 4031, 'campaign': 4032, 'crown': 4033, 'drip': 4034, 'profit': 4035, 'ponder': 4036, 'petti': 4037, 'eastern': 4038, 'peril': 4039, 'session': 4040, 'randomli': 4041, 'orlean': 4042, '13th': 4043, 'coup': 4044, 'unleash': 4045, 'testament': 4046, 'spain': 4047, 'peck': 4048, 'israel': 4049, 'distort': 4050, 'preserv': 4051, 'sergeant': 4052, 'pamela': 4053, 'cassidi': 4054, 'nun': 4055, 'zizek': 4056, 'fido': 4057, 'calib': 4058, 'perpetu': 4059, 'cooki': 4060, 'crawl': 4061, 'travesti': 4062, 'han': 4063, 'wig': 4064, 'stroke': 4065, 'shootout': 4066, 'represent': 4067, 'valley': 4068, 'buster': 4069, 'brenda': 4070, 'restrain': 4071, 'cream': 4072, 'crow': 4073, 'empathi': 4074, 'rout': 4075, 'regist': 4076, 'gentleman': 4077, '1984': 4078, 'stake': 4079, 'contradict': 4080, 'reson': 4081, 'unimagin': 4082, 'realm': 4083, 'exposit': 4084, 'din': 4085, 'climat': 4086, 'scotland': 4087, 'kurosawa': 4088, 'miyazaki': 4089, 'quinn': 4090, 'mon': 4091, 'jan': 4092, 'bro': 4093, 'sabrina': 4094, 'femm': 4095, 'cloud': 4096, 'absent': 4097, 'darren': 4098, 'passabl': 4099, 'crawford': 4100, 'sucker': 4101, 'baldwin': 4102, 'compromis': 4103, 'fuller': 4104, 'mclaglen': 4105, 'shaki': 4106, 'derang': 4107, 'tacki': 4108, 'josh': 4109, 'delic': 4110, 'perceiv': 4111, 'stargat': 4112, '1997': 4113, 'unsatisfi': 4114, 'painter': 4115, 'pretens': 4116, '1987': 4117, 'businessman': 4118, 'shoddi': 4119, 'censor': 4120, 'pole': 4121, 'soderbergh': 4122, 'abomin': 4123, 'unseen': 4124, 'geek': 4125, 'warrant': 4126, 'meryl': 4127, 'wax': 4128, 'ustinov': 4129, 'traumat': 4130, 'greg': 4131, 'monoton': 4132, 'demis': 4133, 'spacey': 4134, 'ross': 4135, 'sammi': 4136, 'dana': 4137, 'distress': 4138, 'deniro': 4139, 'deceas': 4140, 'antonioni': 4141, 'norm': 4142, 'primit': 4143, 'judgment': 4144, 'wholli': 4145, 'furiou': 4146, 'sid': 4147, 'correctli': 4148, 'austin': 4149, 'exclus': 4150, 'kumar': 4151, 'accuraci': 4152, 'jewel': 4153, 'seal': 4154, 'clash': 4155, 'dee': 4156, 'polici': 4157, 'nathan': 4158, 'fog': 4159, 'reluct': 4160, 'uncov': 4161, 'valid': 4162, 'fenc': 4163, 'tech': 4164, 'unravel': 4165, 'expedit': 4166, 'tarantino': 4167, '1993': 4168, 'verbal': 4169, 'click': 4170, 'anchor': 4171, 'fart': 4172, 'pocket': 4173, 'temper': 4174, 'fought': 4175, 'ritual': 4176, 'roller': 4177, '2008': 4178, 'sheet': 4179, 'crippl': 4180, 'darn': 4181, 'tax': 4182, 'wang': 4183, 'behold': 4184, 'enforc': 4185, 'seldom': 4186, 'conduct': 4187, 'patienc': 4188, 'joel': 4189, 'logan': 4190, 'clerk': 4191, 'fabric': 4192, 'vanc': 4193, 'debt': 4194, 'hallucin': 4195, 'slam': 4196, 'wretch': 4197, 'malon': 4198, 'sunni': 4199, '3000': 4200, 'sand': 4201, 'shanghai': 4202, 'sustain': 4203, 'nicola': 4204, 'dreck': 4205, 'trait': 4206, 'alec': 4207, 'mode': 4208, '1995': 4209, 'bake': 4210, 'murray': 4211, 'unfair': 4212, '1971': 4213, 'stark': 4214, 'phil': 4215, 'conscious': 4216, 'bridget': 4217, 'fundament': 4218, 'canyon': 4219, 'clau': 4220, 'pete': 4221, 'schedul': 4222, 'legaci': 4223, 'critiqu': 4224, 'divid': 4225, 'penni': 4226, 'preston': 4227, 'stuart': 4228, 'sweep': 4229, 'exhaust': 4230, 'scriptwrit': 4231, 'technicolor': 4232, 'guitar': 4233, 'outlin': 4234, 'runner': 4235, 'despis': 4236, 'robber': 4237, 'rita': 4238, 'soup': 4239, 'isabel': 4240, 'shell': 4241, 'squad': 4242, 'bias': 4243, 'helpless': 4244, 'grief': 4245, 'preposter': 4246, 'tactic': 4247, 'agenc': 4248, 'passag': 4249, 'rear': 4250, 'unexpectedli': 4251, 'drove': 4252, 'propos': 4253, 'implic': 4254, 'vomit': 4255, 'boyl': 4256, 'liberti': 4257, 'restrict': 4258, 'kansa': 4259, 'culmin': 4260, 'alicia': 4261, 'marc': 4262, 'consciou': 4263, 'invad': 4264, 'delv': 4265, 'inabl': 4266, 'bloom': 4267, 'sentinel': 4268, 'flair': 4269, 'cigarett': 4270, 'russia': 4271, 'jacket': 4272, 'alley': 4273, 'gregori': 4274, 'sugar': 4275, 'sniper': 4276, 'downey': 4277, 'lacklust': 4278, 'connor': 4279, 'jodi': 4280, 'rehash': 4281, 'palanc': 4282, 'newman': 4283, 'tripe': 4284, 'behaviour': 4285, 'asylum': 4286, 'rehears': 4287, 'kolchak': 4288, '1936': 4289, 'bacon': 4290, 'lush': 4291, 'rod': 4292, 'chainsaw': 4293, 'delet': 4294, 'aesthet': 4295, 'rampag': 4296, 'tendenc': 4297, 'arrow': 4298, 'foxx': 4299, '22': 4300, 'horn': 4301, 'yeti': 4302, 'vet': 4303, 'sharon': 4304, 'ladder': 4305, 'feat': 4306, 'cap': 4307, 'karl': 4308, 'wrench': 4309, 'pale': 4310, 'awhil': 4311, 'improb': 4312, 'mccoy': 4313, 'el': 4314, 'tasteless': 4315, '1920': 4316, 'hungri': 4317, 'paradis': 4318, 'coaster': 4319, 'basing': 4320, 'tomorrow': 4321, 'suspicion': 4322, 'visitor': 4323, 'hulk': 4324, 'loneli': 4325, 'rhythm': 4326, 'underneath': 4327, 'scoop': 4328, 'minu': 4329, 'filler': 4330, 'rumor': 4331, 'hackney': 4332, 'prank': 4333, 'fright': 4334, 'conscienc': 4335, 'suffici': 4336, 'wildli': 4337, 'shortcom': 4338, '19th': 4339, 'aristocrat': 4340, '1988': 4341, '1978': 4342, 'amazon': 4343, 'stream': 4344, 'spice': 4345, 'wagner': 4346, 'elit': 4347, 'newcom': 4348, 'globe': 4349, 'weav': 4350, 'financ': 4351, 'sung': 4352, 'lurk': 4353, 'paramount': 4354, 'thunderbird': 4355, 'standout': 4356, 'leigh': 4357, 'heist': 4358, '1939': 4359, 'dirt': 4360, 'inmat': 4361, 'rub': 4362, 'lectur': 4363, 'minist': 4364, 'en': 4365, 'counterpart': 4366, 'teas': 4367, 'beverli': 4368, 'cancer': 4369, 'impos': 4370, 'choppi': 4371, 'straightforward': 4372, 'smell': 4373, 'couch': 4374, 'grudg': 4375, 'ingeni': 4376, 'abrupt': 4377, 'recogniz': 4378, 'atroc': 4379, 'penn': 4380, 'worship': 4381, 'chamberlain': 4382, '1989': 4383, 'posey': 4384, '75': 4385, 'tierney': 4386, 'wwe': 4387, 'entranc': 4388, 'quietli': 4389, 'secondari': 4390, 'ram': 4391, 'literari': 4392, 'springer': 4393, 'curli': 4394, 'immers': 4395, 'hopkin': 4396, 'naughti': 4397, 'paxton': 4398, 'bread': 4399, 'iv': 4400, 'brit': 4401, 'chavez': 4402, 'heartfelt': 4403, 'watcher': 4404, 'variat': 4405, 'enthral': 4406, '1986': 4407, 'transcend': 4408, 'sublim': 4409, 'bernard': 4410, 'misguid': 4411, 'nolan': 4412, 'entitl': 4413, 'nemesi': 4414, 'laurenc': 4415, 'attenborough': 4416, 'convert': 4417, 'policeman': 4418, 'yearn': 4419, 'missil': 4420, 'moreov': 4421, 'skeptic': 4422, 'injuri': 4423, 'quaid': 4424, 'ratso': 4425, 'sassi': 4426, 'geni': 4427, 'ace': 4428, 'esther': 4429, 'morbid': 4430, 'cattl': 4431, 'duel': 4432, 'net': 4433, 'lindsay': 4434, 'clan': 4435, 'unexplain': 4436, 'characteris': 4437, 'brood': 4438, '1979': 4439, 'egg': 4440, 'kitti': 4441, 'puppi': 4442, 'steadi': 4443, 'tyler': 4444, 'obstacl': 4445, 'kidman': 4446, 'dont': 4447, 'buzz': 4448, 'poe': 4449, 'uncut': 4450, 'spiral': 4451, 'rosemari': 4452, 'facil': 4453, 'reliabl': 4454, 'graini': 4455, 'setup': 4456, 'bean': 4457, 'hopelessli': 4458, 'hk': 4459, 'out': 4460, 'carlito': 4461, 'grin': 4462, 'cruelti': 4463, 'mytholog': 4464, 'artsi': 4465, 'diari': 4466, 'youngest': 4467, 'bye': 4468, 'moder': 4469, 'enabl': 4470, 'vader': 4471, 'clueless': 4472, 'gina': 4473, 'bronson': 4474, 'sweat': 4475, 'christin': 4476, 'brendan': 4477, 'niec': 4478, 'spontan': 4479, 'fuel': 4480, 'athlet': 4481, 'gillian': 4482, 'effici': 4483, 'oblig': 4484, 'hammi': 4485, 'heap': 4486, 'exterior': 4487, 'kline': 4488, 'weather': 4489, 'despic': 4490, '1969': 4491, 'underworld': 4492, 'decept': 4493, 'narrow': 4494, 'bounc': 4495, 'bewar': 4496, 'baffl': 4497, 'hain': 4498, 'patricia': 4499, 'disastr': 4500, 'acquaint': 4501, 'preming': 4502, 'martha': 4503, 'candl': 4504, '73': 4505, 'lester': 4506, 'enlist': 4507, 'outlaw': 4508, 'tick': 4509, 'scar': 4510, 'goof': 4511, 'loi': 4512, 'sleepwalk': 4513, 'headach': 4514, 'housewif': 4515, 'preachi': 4516, 'rome': 4517, '19': 4518, 'mayhem': 4519, 'dandi': 4520, 'suprem': 4521, 'dilemma': 4522, 'astound': 4523, 'loath': 4524, 'sooner': 4525, 'trigger': 4526, 'harmless': 4527, 'renaiss': 4528, 'uh': 4529, 'injur': 4530, 'angst': 4531, 'biker': 4532, 'shatter': 4533, 'viewpoint': 4534, 'circu': 4535, 'mermaid': 4536, 'hepburn': 4537, 'analyz': 4538, 'virtu': 4539, 'taboo': 4540, 'insipid': 4541, 'fontain': 4542, 'immatur': 4543, 'redund': 4544, 'overlong': 4545, 'stair': 4546, 'bent': 4547, 'steer': 4548, 'surgeri': 4549, 'salt': 4550, 'dismal': 4551, 'intric': 4552, 'macho': 4553, 'ebert': 4554, 'oldest': 4555, 'scorses': 4556, 'corbett': 4557, 'fluff': 4558, 'phenomenon': 4559, 'foolish': 4560, 'idol': 4561, 'dish': 4562, 'whore': 4563, 'hooker': 4564, 'hokey': 4565, 'contempt': 4566, 'amor': 4567, 'tripl': 4568, 'zoom': 4569, 'claustrophob': 4570, 'filth': 4571, 'slimi': 4572, 'glorifi': 4573, 'boston': 4574, 'gere': 4575, 'spade': 4576, 'guin': 4577, 'camcord': 4578, 'ariel': 4579, 'hostag': 4580, 'stimul': 4581, 'cassavet': 4582, 'sox': 4583, 'keen': 4584, 'shred': 4585, 'margin': 4586, 'harold': 4587, 'flirt': 4588, 'spree': 4589, 'perman': 4590, 'assert': 4591, 'down': 4592, 'dwarf': 4593, 'nolt': 4594, '1981': 4595, 'obligatori': 4596, 'shield': 4597, '1976': 4598, 'trivia': 4599, 'conquer': 4600, 'mutual': 4601, 'antagonist': 4602, 'frantic': 4603, 'rhyme': 4604, 'flashi': 4605, 'corman': 4606, 'widescreen': 4607, 'faint': 4608, 'schlock': 4609, 'gasp': 4610, 'alvin': 4611, 'radiat': 4612, 'joker': 4613, 'fascist': 4614, 'mount': 4615, 'remad': 4616, 'proport': 4617, 'muscl': 4618, 'cush': 4619, 'astronaut': 4620, 'transplant': 4621, 'gabl': 4622, 'strongest': 4623, 'preced': 4624, 'cohen': 4625, 'flag': 4626, 'zane': 4627, 'cow': 4628, 'spinal': 4629, 'beard': 4630, 'messi': 4631, 'naschi': 4632, 'instruct': 4633, 'mobil': 4634, 'carey': 4635, 'archiv': 4636, 'someday': 4637, 'bachelor': 4638, 'claud': 4639, 'repris': 4640, 'neurot': 4641, 'fishburn': 4642, 'departur': 4643, 'mol': 4644, 'strive': 4645, 'off': 4646, '95': 4647, 'discern': 4648, 'brush': 4649, 'vaniti': 4650, 'info': 4651, 'bitten': 4652, 'persuad': 4653, 'flock': 4654, 'inflict': 4655, 'danish': 4656, 'aborigin': 4657, 'boob': 4658, 'barn': 4659, '28': 4660, 'divin': 4661, 'ritchi': 4662, 'interestingli': 4663, 'raj': 4664, 'resum': 4665, 'deer': 4666, 'scandal': 4667, 'triangl': 4668, 'www': 4669, '1945': 4670, 'sensual': 4671, 'wield': 4672, 'hara': 4673, 'senior': 4674, 'ish': 4675, 'clad': 4676, 'dim': 4677, 'loretta': 4678, 'heartwarm': 4679, 'hug': 4680, 'miracul': 4681, 'helm': 4682, 'dame': 4683, 'anton': 4684, 'colin': 4685, 'axe': 4686, 'vibrant': 4687, 'pickford': 4688, 'casino': 4689, 'luka': 4690, 'traffic': 4691, 'cb': 4692, 'fragil': 4693, 'rot': 4694, 'earnest': 4695, 'hilar': 4696, 'parson': 4697, 'cycl': 4698, 'pacif': 4699, 'recit': 4700, 'mobster': 4701, 'banter': 4702, 'neill': 4703, 'wendigo': 4704, 'hapless': 4705, 'pixar': 4706, 'submit': 4707, 'artwork': 4708, 'carlo': 4709, 'undermin': 4710, 'jade': 4711, 'kathryn': 4712, 'cher': 4713, 'dylan': 4714, 'europa': 4715, 'biblic': 4716, 'prophet': 4717, 'timberlak': 4718, 'cliffhang': 4719, 'proclaim': 4720, 'frontier': 4721, 'melissa': 4722, 'bate': 4723, 'harrison': 4724, 'razor': 4725, 'bikini': 4726, 'seedi': 4727, 'winchest': 4728, 'lui': 4729, 'akin': 4730, 'aris': 4731, 'mason': 4732, 'cerebr': 4733, 'bondag': 4734, 'milo': 4735, 'foil': 4736, 'misfortun': 4737, 'http': 4738, 'venom': 4739, 'jo': 4740, 'choke': 4741, 'legitim': 4742, 'jordan': 4743, 'static': 4744, 'toronto': 4745, 'isra': 4746, 'blatantli': 4747, 'vile': 4748, 'trier': 4749, 'pc': 4750, 'illus': 4751, 'antholog': 4752, 'wardrob': 4753, 'lucil': 4754, 'nope': 4755, 'sicken': 4756, 'northern': 4757, 'estrang': 4758, 'orphan': 4759, 'marlon': 4760, 'breakfast': 4761, 'electron': 4762, 'articl': 4763, 'vanessa': 4764, 'holocaust': 4765, 'uma': 4766, 'shepherd': 4767, 'eli': 4768, 'feast': 4769, 'flavor': 4770, 'token': 4771, 'rooki': 4772, 'mathieu': 4773, 'redneck': 4774, 'alexandr': 4775, 'cartoonish': 4776, 'nightclub': 4777, 'smack': 4778, 'comprehend': 4779, 'peer': 4780, 'shorter': 4781, 'huston': 4782, 'retriev': 4783, 'howl': 4784, 'dudley': 4785, 'glare': 4786, 'abund': 4787, 'highway': 4788, 'deem': 4789, 'swept': 4790, 'magician': 4791, 'oppon': 4792, 'charlton': 4793, 'fifth': 4794, 'turd': 4795, 'styliz': 4796, 'frog': 4797, 'ceremoni': 4798, 'wrestler': 4799, 'outdat': 4800, 'audrey': 4801, 'gilbert': 4802, 'clinic': 4803, 'gunga': 4804, 'disregard': 4805, 'psych': 4806, 'linear': 4807, 'leather': 4808, 'ideolog': 4809, 'affleck': 4810, 'tack': 4811, 'knightley': 4812, 'boyer': 4813, 'feminin': 4814, 'chip': 4815, 'uniformli': 4816, 'evolut': 4817, 'moe': 4818, 'energet': 4819, 'collector': 4820, 'boo': 4821, '4th': 4822, 'salman': 4823, 'lighter': 4824, 'compris': 4825, 'potter': 4826, 'monument': 4827, 'durat': 4828, 'deliver': 4829, 'corn': 4830, 'lavish': 4831, 'client': 4832, 'bastard': 4833, 'snatch': 4834, 'toe': 4835, 'summar': 4836, 'greet': 4837, 'cemeteri': 4838, 'bogu': 4839, '1994': 4840, 'newer': 4841, 'spawn': 4842, 'conrad': 4843, 'einstein': 4844, 'tara': 4845, 'lifeless': 4846, 'cuban': 4847, '1991': 4848, 'breakdown': 4849, 'spine': 4850, 'btw': 4851, 'phenomen': 4852, 'senat': 4853, 'plate': 4854, 'braveheart': 4855, 'mitch': 4856, 'goldsworthi': 4857, 'sleaz': 4858, 'whack': 4859, 'fluid': 4860, 'lex': 4861, 'alleg': 4862, 'judd': 4863, 'belli': 4864, 'kent': 4865, 'trauma': 4866, 'bulk': 4867, 'evelyn': 4868, 'healthi': 4869, 'inaccuraci': 4870, 'constitut': 4871, 'appl': 4872, 'gilliam': 4873, 'armstrong': 4874, 'eleven': 4875, 'sorrow': 4876, '1977': 4877, 'signal': 4878, 'spectacl': 4879, 'bori': 4880, 'ol': 4881, 'creek': 4882, 'capot': 4883, 'ie': 4884, 'liu': 4885, 'historian': 4886, 'jare': 4887, 'undead': 4888, 'outright': 4889, 'cecil': 4890, 'pronounc': 4891, 'undertak': 4892, 'firmli': 4893, 'neatli': 4894, 'occup': 4895, 'luxuri': 4896, 'wtf': 4897, 'jule': 4898, 'mcqueen': 4899, 'jam': 4900, 'replay': 4901, 'clara': 4902, 'randolph': 4903, 'embark': 4904, '1974': 4905, 'kazan': 4906, 'jedi': 4907, 'nina': 4908, 'bsg': 4909, 'galaxi': 4910, 'sidewalk': 4911, 'id': 4912, 'abound': 4913, 'poker': 4914, 'kiddi': 4915, 'antonio': 4916, 'vignett': 4917, 'comprehens': 4918, 'mum': 4919, 'palm': 4920, 'relentless': 4921, 'roar': 4922, 'miami': 4923, 'aussi': 4924, 'carmen': 4925, 'basket': 4926, 'curtain': 4927, 'bait': 4928, 'unattract': 4929, 'comb': 4930, 'walt': 4931, 'blur': 4932, 'cape': 4933, 'knee': 4934, '1985': 4935, 'congratul': 4936, 'conan': 4937, 'forgiven': 4938, 'miniseri': 4939, 'tokyo': 4940, 'truman': 4941, 'genet': 4942, 'goldblum': 4943, 'vain': 4944, 'porter': 4945, 'pepper': 4946, 'inclus': 4947, 'inaccur': 4948, 'decapit': 4949, 'sacrif': 4950, 'spray': 4951, 'meal': 4952, 'rosario': 4953, 'ash': 4954, 'lanc': 4955, 'fruit': 4956, 'unsuspect': 4957, 'propheci': 4958, 'groan': 4959, 'paula': 4960, 'subtli': 4961, 'lauren': 4962, 'pioneer': 4963, 'handicap': 4964, 'incorrect': 4965, 'frontal': 4966, 'assort': 4967, 'epitom': 4968, 'verg': 4969, 'vastli': 4970, 'rapidli': 4971, 'turtl': 4972, 'weari': 4973, 'bach': 4974, 'weaker': 4975, 'scarfac': 4976, 'bravo': 4977, 'monti': 4978, 'substanti': 4979, 'scariest': 4980, 'growth': 4981, 'detach': 4982, 'optimist': 4983, 'macabr': 4984, 'sparkl': 4985, 'omin': 4986, 'hackman': 4987, 'orchestr': 4988, 'hostil': 4989, 'reincarn': 4990, 'victorian': 4991, 'ingrid': 4992, 'sophi': 4993, 'playboy': 4994, 'motorcycl': 4995, 'modest': 4996, 'dubiou': 4997, 'masterson': 4998, 'mice': 4999}\n"
     ]
    }
   ],
   "source": [
    "word_dict = build_dict(train_X)\n",
    "print(word_dict)"
   ]
  },
  {
   "cell_type": "markdown",
   "metadata": {},
   "source": [
    "**Question:** What are the five most frequently appearing (tokenized) words in the training set? Does it makes sense that these words appear frequently in the training set?"
   ]
  },
  {
   "cell_type": "markdown",
   "metadata": {},
   "source": [
    "**Answer:**\n",
    "**Most Frequent Words:** Movi, film, one, like, time, \n",
    "\n",
    "Yes It makes sense. Movi and film should definitely be there since we are doing a sentiment analysis of movies.\n",
    "Like should be there as well since that is basically what a sentiment is; Whether one likes a movie or not.\n",
    "One can be thought of as a means of ranking so it makes sense to be there too.\n",
    "Time is somewhat vague given the analysis. It will be interesting to see its usecase.\n"
   ]
  },
  {
   "cell_type": "code",
   "execution_count": 14,
   "metadata": {},
   "outputs": [
    {
     "name": "stdout",
     "output_type": "stream",
     "text": [
      "['movi', 'film', 'one', 'like', 'time']\n",
      "51695\n",
      "48190\n",
      "27741\n",
      "22799\n",
      "16191\n"
     ]
    }
   ],
   "source": [
    "# TODO: Use this space to determine the five most frequently appearing words in the training set.\n",
    "\n",
    "word_count = Counter(np.concatenate(train_X, axis=0))\n",
    "sorted_words = sorted(word_count, key=word_count.get, reverse=True)\n",
    "print(sorted_words[:5])\n",
    "\n",
    "print(word_count['movi'])\n",
    "print(word_count['film'])\n",
    "print(word_count['one'])\n",
    "print(word_count['like'])\n",
    "print(word_count['time'])"
   ]
  },
  {
   "cell_type": "markdown",
   "metadata": {},
   "source": [
    "### Save `word_dict`\n",
    "\n",
    "Later on when we construct an endpoint which processes a submitted review we will need to make use of the `word_dict` which we have created. As such, we will save it to a file now for future use."
   ]
  },
  {
   "cell_type": "code",
   "execution_count": 15,
   "metadata": {},
   "outputs": [],
   "source": [
    "data_dir = '../data/pytorch' # The folder we will use for storing data\n",
    "if not os.path.exists(data_dir): # Make sure that the folder exists\n",
    "    os.makedirs(data_dir)"
   ]
  },
  {
   "cell_type": "code",
   "execution_count": 16,
   "metadata": {},
   "outputs": [],
   "source": [
    "with open(os.path.join(data_dir, 'word_dict.pkl'), \"wb\") as f:\n",
    "    pickle.dump(word_dict, f)"
   ]
  },
  {
   "cell_type": "markdown",
   "metadata": {},
   "source": [
    "### Transform the reviews\n",
    "\n",
    "Now that we have our word dictionary which allows us to transform the words appearing in the reviews into integers, it is time to make use of it and convert our reviews to their integer sequence representation, making sure to pad or truncate to a fixed length, which in our case is `500`."
   ]
  },
  {
   "cell_type": "code",
   "execution_count": 17,
   "metadata": {},
   "outputs": [],
   "source": [
    "def convert_and_pad(word_dict, sentence, pad=500):\n",
    "    NOWORD = 0 # We will use 0 to represent the 'no word' category\n",
    "    INFREQ = 1 # and we use 1 to represent the infrequent words, i.e., words not appearing in word_dict\n",
    "    \n",
    "    working_sentence = [NOWORD] * pad\n",
    "    \n",
    "    for word_index, word in enumerate(sentence[:pad]):\n",
    "        if word in word_dict:\n",
    "            working_sentence[word_index] = word_dict[word]\n",
    "        else:\n",
    "            working_sentence[word_index] = INFREQ\n",
    "            \n",
    "    return working_sentence, min(len(sentence), pad)\n",
    "\n",
    "def convert_and_pad_data(word_dict, data, pad=500):\n",
    "    result = []\n",
    "    lengths = []\n",
    "    \n",
    "    for sentence in data:\n",
    "        converted, leng = convert_and_pad(word_dict, sentence, pad)\n",
    "        result.append(converted)\n",
    "        lengths.append(leng)\n",
    "        \n",
    "    return np.array(result), np.array(lengths)"
   ]
  },
  {
   "cell_type": "code",
   "execution_count": 18,
   "metadata": {},
   "outputs": [],
   "source": [
    "train_X, train_X_len = convert_and_pad_data(word_dict, train_X)\n",
    "test_X, test_X_len = convert_and_pad_data(word_dict, test_X)"
   ]
  },
  {
   "cell_type": "markdown",
   "metadata": {},
   "source": [
    "As a quick check to make sure that things are working as intended, check to see what one of the reviews in the training set looks like after having been processeed. Does this look reasonable? What is the length of a review in the training set?"
   ]
  },
  {
   "cell_type": "code",
   "execution_count": 19,
   "metadata": {},
   "outputs": [
    {
     "name": "stdout",
     "output_type": "stream",
     "text": [
      "500\n",
      "[ 601    2 3760   35  509 1936 1272    3 1936 1272 1255    1  220    1\n",
      "    1    1  185   54  461   31   10 1871    4 4180    1 1427 1902   97\n",
      "   58  387  326 3096 1635  530    1 3441   64    1  421 2243 4866  746\n",
      " 1780   64   46  486 4641   23   92   94  447  456 2679  188 2972  220\n",
      "    9    8   92  986  145  203 2506    1 1493 2506 2289 2279 2058    3\n",
      "  150  114    1  217  555 2355 3494    3   62    5 2356 1212  464  163\n",
      " 1443   16   19  782   11  584  323   36  366  484  314  117 1936 1272\n",
      " 1791 1972  188  275   78    5  492  194    8 1513  283 3448 2356   90\n",
      "  451 1428 1513  283    1  684 1692  254 4148    0    0    0    0    0\n",
      "    0    0    0    0    0    0    0    0    0    0    0    0    0    0\n",
      "    0    0    0    0    0    0    0    0    0    0    0    0    0    0\n",
      "    0    0    0    0    0    0    0    0    0    0    0    0    0    0\n",
      "    0    0    0    0    0    0    0    0    0    0    0    0    0    0\n",
      "    0    0    0    0    0    0    0    0    0    0    0    0    0    0\n",
      "    0    0    0    0    0    0    0    0    0    0    0    0    0    0\n",
      "    0    0    0    0    0    0    0    0    0    0    0    0    0    0\n",
      "    0    0    0    0    0    0    0    0    0    0    0    0    0    0\n",
      "    0    0    0    0    0    0    0    0    0    0    0    0    0    0\n",
      "    0    0    0    0    0    0    0    0    0    0    0    0    0    0\n",
      "    0    0    0    0    0    0    0    0    0    0    0    0    0    0\n",
      "    0    0    0    0    0    0    0    0    0    0    0    0    0    0\n",
      "    0    0    0    0    0    0    0    0    0    0    0    0    0    0\n",
      "    0    0    0    0    0    0    0    0    0    0    0    0    0    0\n",
      "    0    0    0    0    0    0    0    0    0    0    0    0    0    0\n",
      "    0    0    0    0    0    0    0    0    0    0    0    0    0    0\n",
      "    0    0    0    0    0    0    0    0    0    0    0    0    0    0\n",
      "    0    0    0    0    0    0    0    0    0    0    0    0    0    0\n",
      "    0    0    0    0    0    0    0    0    0    0    0    0    0    0\n",
      "    0    0    0    0    0    0    0    0    0    0    0    0    0    0\n",
      "    0    0    0    0    0    0    0    0    0    0    0    0    0    0\n",
      "    0    0    0    0    0    0    0    0    0    0    0    0    0    0\n",
      "    0    0    0    0    0    0    0    0    0    0    0    0    0    0\n",
      "    0    0    0    0    0    0    0    0    0    0    0    0    0    0\n",
      "    0    0    0    0    0    0    0    0    0    0    0    0    0    0\n",
      "    0    0    0    0    0    0    0    0    0    0    0    0    0    0\n",
      "    0    0    0    0    0    0    0    0    0    0]\n"
     ]
    }
   ],
   "source": [
    "# Use this cell to examine one of the processed reviews to make sure everything is working as intended.\n",
    "print(len(train_X[0]))\n",
    "print(train_X[100])"
   ]
  },
  {
   "cell_type": "markdown",
   "metadata": {},
   "source": [
    "**Question:** In the cells above we use the `preprocess_data` and `convert_and_pad_data` methods to process both the training and testing set. Why or why not might this be a problem?"
   ]
  },
  {
   "cell_type": "markdown",
   "metadata": {},
   "source": [
    "**Answer:**\n",
    "\n",
    "The __preprocess_data__ function is executed once and the results saved to a file. This is good because should we have our connection broken, we can skip the preprocess step and load in data from our saved file.\n",
    "\n",
    "The __convert_and_pad_data__ function pads short reviews with zeros and truncates long reviews ensuring that we have a consistent length of words for each review, which is what is required for LSTMs to work perfectly."
   ]
  },
  {
   "cell_type": "markdown",
   "metadata": {},
   "source": [
    "## Step 3: Upload the data to S3\n",
    "\n",
    "As in the XGBoost notebook, we will need to upload the training dataset to S3 in order for our training code to access it. For now we will save it locally and we will upload to S3 later on.\n",
    "\n",
    "### Save the processed training dataset locally\n",
    "\n",
    "It is important to note the format of the data that we are saving as we will need to know it when we write the training code. In our case, each row of the dataset has the form `label`, `length`, `review[500]` where `review[500]` is a sequence of `500` integers representing the words in the review."
   ]
  },
  {
   "cell_type": "code",
   "execution_count": 20,
   "metadata": {},
   "outputs": [],
   "source": [
    "import pandas as pd\n",
    "    \n",
    "pd.concat([pd.DataFrame(train_y), pd.DataFrame(train_X_len), pd.DataFrame(train_X)], axis=1) \\\n",
    "        .to_csv(os.path.join(data_dir, 'train.csv'), header=False, index=False)"
   ]
  },
  {
   "cell_type": "markdown",
   "metadata": {},
   "source": [
    "### Uploading the training data\n",
    "\n",
    "\n",
    "Next, we need to upload the training data to the SageMaker default S3 bucket so that we can provide access to it while training our model."
   ]
  },
  {
   "cell_type": "code",
   "execution_count": 21,
   "metadata": {},
   "outputs": [],
   "source": [
    "import sagemaker\n",
    "\n",
    "sagemaker_session = sagemaker.Session()\n",
    "\n",
    "bucket = sagemaker_session.default_bucket()\n",
    "prefix = 'sagemaker/sentiment_rnn'\n",
    "\n",
    "role = sagemaker.get_execution_role()"
   ]
  },
  {
   "cell_type": "code",
   "execution_count": 22,
   "metadata": {},
   "outputs": [],
   "source": [
    "input_data = sagemaker_session.upload_data(path=data_dir, bucket=bucket, key_prefix=prefix)"
   ]
  },
  {
   "cell_type": "markdown",
   "metadata": {},
   "source": [
    "**NOTE:** The cell above uploads the entire contents of our data directory. This includes the `word_dict.pkl` file. This is fortunate as we will need this later on when we create an endpoint that accepts an arbitrary review. For now, we will just take note of the fact that it resides in the data directory (and so also in the S3 training bucket) and that we will need to make sure it gets saved in the model directory."
   ]
  },
  {
   "cell_type": "markdown",
   "metadata": {},
   "source": [
    "## Step 4: Build and Train the PyTorch Model\n",
    "\n",
    "In the XGBoost notebook we discussed what a model is in the SageMaker framework. In particular, a model comprises three objects\n",
    "\n",
    " - Model Artifacts,\n",
    " - Training Code, and\n",
    " - Inference Code,\n",
    " \n",
    "each of which interact with one another. In the XGBoost example we used training and inference code that was provided by Amazon. Here we will still be using containers provided by Amazon with the added benefit of being able to include our own custom code.\n",
    "\n",
    "We will start by implementing our own neural network in PyTorch along with a training script. For the purposes of this project we have provided the necessary model object in the `model.py` file, inside of the `train` folder. You can see the provided implementation by running the cell below."
   ]
  },
  {
   "cell_type": "code",
   "execution_count": 23,
   "metadata": {},
   "outputs": [
    {
     "name": "stdout",
     "output_type": "stream",
     "text": [
      "\u001b[34mimport\u001b[39;49;00m \u001b[04m\u001b[36mtorch.nn\u001b[39;49;00m \u001b[34mas\u001b[39;49;00m \u001b[04m\u001b[36mnn\u001b[39;49;00m\n",
      "\n",
      "\u001b[34mclass\u001b[39;49;00m \u001b[04m\u001b[32mLSTMClassifier\u001b[39;49;00m(nn.Module):\n",
      "    \u001b[33m\"\"\"\u001b[39;49;00m\n",
      "\u001b[33m    This is the simple RNN model we will be using to perform Sentiment Analysis.\u001b[39;49;00m\n",
      "\u001b[33m    \"\"\"\u001b[39;49;00m\n",
      "\n",
      "    \u001b[34mdef\u001b[39;49;00m \u001b[32m__init__\u001b[39;49;00m(\u001b[36mself\u001b[39;49;00m, embedding_dim, hidden_dim, vocab_size):\n",
      "        \u001b[33m\"\"\"\u001b[39;49;00m\n",
      "\u001b[33m        Initialize the model by settingg up the various layers.\u001b[39;49;00m\n",
      "\u001b[33m        \"\"\"\u001b[39;49;00m\n",
      "        \u001b[36msuper\u001b[39;49;00m(LSTMClassifier, \u001b[36mself\u001b[39;49;00m).\u001b[32m__init__\u001b[39;49;00m()\n",
      "\n",
      "        \u001b[36mself\u001b[39;49;00m.embedding = nn.Embedding(vocab_size, embedding_dim, padding_idx=\u001b[34m0\u001b[39;49;00m)\n",
      "        \u001b[36mself\u001b[39;49;00m.lstm = nn.LSTM(embedding_dim, hidden_dim)\n",
      "        \u001b[36mself\u001b[39;49;00m.dense = nn.Linear(in_features=hidden_dim, out_features=\u001b[34m1\u001b[39;49;00m)\n",
      "        \u001b[36mself\u001b[39;49;00m.sig = nn.Sigmoid()\n",
      "        \n",
      "        \u001b[36mself\u001b[39;49;00m.word_dict = \u001b[36mNone\u001b[39;49;00m\n",
      "\n",
      "    \u001b[34mdef\u001b[39;49;00m \u001b[32mforward\u001b[39;49;00m(\u001b[36mself\u001b[39;49;00m, x):\n",
      "        \u001b[33m\"\"\"\u001b[39;49;00m\n",
      "\u001b[33m        Perform a forward pass of our model on some input.\u001b[39;49;00m\n",
      "\u001b[33m        \"\"\"\u001b[39;49;00m\n",
      "        x = x.t()\n",
      "        lengths = x[\u001b[34m0\u001b[39;49;00m,:]\n",
      "        reviews = x[\u001b[34m1\u001b[39;49;00m:,:]\n",
      "        embeds = \u001b[36mself\u001b[39;49;00m.embedding(reviews)\n",
      "        lstm_out, _ = \u001b[36mself\u001b[39;49;00m.lstm(embeds)\n",
      "        out = \u001b[36mself\u001b[39;49;00m.dense(lstm_out)\n",
      "        out = out[lengths - \u001b[34m1\u001b[39;49;00m, \u001b[36mrange\u001b[39;49;00m(\u001b[36mlen\u001b[39;49;00m(lengths))]\n",
      "        \u001b[34mreturn\u001b[39;49;00m \u001b[36mself\u001b[39;49;00m.sig(out.squeeze())\n"
     ]
    }
   ],
   "source": [
    "!pygmentize train/model.py"
   ]
  },
  {
   "cell_type": "markdown",
   "metadata": {},
   "source": [
    "The important takeaway from the implementation provided is that there are three parameters that we may wish to tweak to improve the performance of our model. These are the embedding dimension, the hidden dimension and the size of the vocabulary. We will likely want to make these parameters configurable in the training script so that if we wish to modify them we do not need to modify the script itself. We will see how to do this later on. To start we will write some of the training code in the notebook so that we can more easily diagnose any issues that arise.\n",
    "\n",
    "First we will load a small portion of the training data set to use as a sample. It would be very time consuming to try and train the model completely in the notebook as we do not have access to a gpu and the compute instance that we are using is not particularly powerful. However, we can work on a small bit of the data to get a feel for how our training script is behaving."
   ]
  },
  {
   "cell_type": "code",
   "execution_count": 24,
   "metadata": {},
   "outputs": [],
   "source": [
    "import torch\n",
    "import torch.utils.data\n",
    "\n",
    "# Read in only the first 250 rows\n",
    "train_sample = pd.read_csv(os.path.join(data_dir, 'train.csv'), header=None, names=None, nrows=250)\n",
    "\n",
    "# Turn the input pandas dataframe into tensors\n",
    "train_sample_y = torch.from_numpy(train_sample[[0]].values).float().squeeze()\n",
    "train_sample_X = torch.from_numpy(train_sample.drop([0], axis=1).values).long()\n",
    "\n",
    "# Build the dataset\n",
    "train_sample_ds = torch.utils.data.TensorDataset(train_sample_X, train_sample_y)\n",
    "# Build the dataloader\n",
    "train_sample_dl = torch.utils.data.DataLoader(train_sample_ds, batch_size=50)"
   ]
  },
  {
   "cell_type": "markdown",
   "metadata": {},
   "source": [
    "### (TODO) Writing the training method\n",
    "\n",
    "Next we need to write the training code itself. This should be very similar to training methods that you have written before to train PyTorch models. We will leave any difficult aspects such as model saving / loading and parameter loading until a little later."
   ]
  },
  {
   "cell_type": "code",
   "execution_count": 25,
   "metadata": {},
   "outputs": [],
   "source": [
    "def train(model, train_loader, epochs, optimizer, loss_fn, device):\n",
    "    for epoch in range(1, epochs + 1):\n",
    "        model.train()\n",
    "        total_loss = 0\n",
    "        for batch in train_loader:         \n",
    "            batch_X, batch_y = batch\n",
    "            \n",
    "            batch_X = batch_X.to(device)\n",
    "            batch_y = batch_y.to(device)\n",
    "            \n",
    "            # TODO: Complete this train method to train the model provided.\n",
    "            optimizer.zero_grad()\n",
    "            \n",
    "            output = model(batch_X)\n",
    "            \n",
    "            loss = loss_fn(output, batch_y)\n",
    "            \n",
    "            loss.backward()\n",
    "            \n",
    "            optimizer.step()\n",
    "            \n",
    "            total_loss += loss.data.item()\n",
    "        print(\"Epoch: {}, BCELoss: {}\".format(epoch, total_loss / len(train_loader)))"
   ]
  },
  {
   "cell_type": "markdown",
   "metadata": {},
   "source": [
    "Supposing we have the training method above, we will test that it is working by writing a bit of code in the notebook that executes our training method on the small sample training set that we loaded earlier. The reason for doing this in the notebook is so that we have an opportunity to fix any errors that arise early when they are easier to diagnose."
   ]
  },
  {
   "cell_type": "code",
   "execution_count": 26,
   "metadata": {},
   "outputs": [
    {
     "name": "stdout",
     "output_type": "stream",
     "text": [
      "Epoch: 1, BCELoss: 0.6921610236167908\n",
      "Epoch: 2, BCELoss: 0.6817004561424256\n",
      "Epoch: 3, BCELoss: 0.6725837588310242\n",
      "Epoch: 4, BCELoss: 0.6623295068740844\n",
      "Epoch: 5, BCELoss: 0.6495835423469544\n"
     ]
    }
   ],
   "source": [
    "import torch.optim as optim\n",
    "from train.model import LSTMClassifier\n",
    "\n",
    "device = torch.device(\"cuda\" if torch.cuda.is_available() else \"cpu\")\n",
    "model = LSTMClassifier(32, 100, 5000).to(device)\n",
    "optimizer = optim.Adam(model.parameters())\n",
    "loss_fn = torch.nn.BCELoss()\n",
    "\n",
    "train(model, train_sample_dl, 5, optimizer, loss_fn, device)"
   ]
  },
  {
   "cell_type": "markdown",
   "metadata": {},
   "source": [
    "In order to construct a PyTorch model using SageMaker we must provide SageMaker with a training script. We may optionally include a directory which will be copied to the container and from which our training code will be run. When the training container is executed it will check the uploaded directory (if there is one) for a `requirements.txt` file and install any required Python libraries, after which the training script will be run."
   ]
  },
  {
   "cell_type": "markdown",
   "metadata": {},
   "source": [
    "### (TODO) Training the model\n",
    "\n",
    "When a PyTorch model is constructed in SageMaker, an entry point must be specified. This is the Python file which will be executed when the model is trained. Inside of the `train` directory is a file called `train.py` which has been provided and which contains most of the necessary code to train our model. The only thing that is missing is the implementation of the `train()` method which you wrote earlier in this notebook.\n",
    "\n",
    "**TODO**: Copy the `train()` method written above and paste it into the `train/train.py` file where required.\n",
    "\n",
    "The way that SageMaker passes hyperparameters to the training script is by way of arguments. These arguments can then be parsed and used in the training script. To see how this is done take a look at the provided `train/train.py` file."
   ]
  },
  {
   "cell_type": "code",
   "execution_count": 27,
   "metadata": {},
   "outputs": [],
   "source": [
    "from sagemaker.pytorch import PyTorch\n",
    "\n",
    "estimator = PyTorch(entry_point=\"train.py\",\n",
    "                    source_dir=\"train\",\n",
    "                    role=role,\n",
    "                    framework_version='0.4.0',\n",
    "                    train_instance_count=1,\n",
    "                    train_instance_type='ml.p2.xlarge',\n",
    "                    hyperparameters={\n",
    "                        'epochs': 10,\n",
    "                        'hidden_dim': 200,\n",
    "                    })"
   ]
  },
  {
   "cell_type": "code",
   "execution_count": 28,
   "metadata": {},
   "outputs": [
    {
     "name": "stdout",
     "output_type": "stream",
     "text": [
      "2019-12-27 19:11:54 Starting - Starting the training job...\n",
      "2019-12-27 19:11:56 Starting - Launching requested ML instances...\n",
      "2019-12-27 19:12:52 Starting - Preparing the instances for training......\n",
      "2019-12-27 19:13:50 Downloading - Downloading input data......\n",
      "2019-12-27 19:14:28 Training - Downloading the training image..\u001b[34mbash: cannot set terminal process group (-1): Inappropriate ioctl for device\u001b[0m\n",
      "\u001b[34mbash: no job control in this shell\u001b[0m\n",
      "\u001b[34m2019-12-27 19:15:00,780 sagemaker-containers INFO     Imported framework sagemaker_pytorch_container.training\u001b[0m\n",
      "\u001b[34m2019-12-27 19:15:00,804 sagemaker_pytorch_container.training INFO     Block until all host DNS lookups succeed.\u001b[0m\n",
      "\u001b[34m2019-12-27 19:15:03,837 sagemaker_pytorch_container.training INFO     Invoking user training script.\u001b[0m\n",
      "\u001b[34m2019-12-27 19:15:04,073 sagemaker-containers INFO     Module train does not provide a setup.py. \u001b[0m\n",
      "\u001b[34mGenerating setup.py\u001b[0m\n",
      "\u001b[34m2019-12-27 19:15:04,074 sagemaker-containers INFO     Generating setup.cfg\u001b[0m\n",
      "\u001b[34m2019-12-27 19:15:04,074 sagemaker-containers INFO     Generating MANIFEST.in\u001b[0m\n",
      "\u001b[34m2019-12-27 19:15:04,074 sagemaker-containers INFO     Installing module with the following command:\u001b[0m\n",
      "\u001b[34m/usr/bin/python -m pip install -U . -r requirements.txt\u001b[0m\n",
      "\u001b[34mProcessing /opt/ml/code\u001b[0m\n",
      "\u001b[34mCollecting pandas (from -r requirements.txt (line 1))\n",
      "  Downloading https://files.pythonhosted.org/packages/74/24/0cdbf8907e1e3bc5a8da03345c23cbed7044330bb8f73bb12e711a640a00/pandas-0.24.2-cp35-cp35m-manylinux1_x86_64.whl (10.0MB)\u001b[0m\n",
      "\u001b[34mCollecting numpy (from -r requirements.txt (line 2))\n",
      "  Downloading https://files.pythonhosted.org/packages/eb/ec/d4b7855249ce87ece79783562dd6101b1f0abf461c25101c2e959d691e68/numpy-1.18.0-cp35-cp35m-manylinux1_x86_64.whl (19.9MB)\u001b[0m\n",
      "\u001b[34mCollecting nltk (from -r requirements.txt (line 3))\n",
      "  Downloading https://files.pythonhosted.org/packages/f6/1d/d925cfb4f324ede997f6d47bea4d9babba51b49e87a767c170b77005889d/nltk-3.4.5.zip (1.5MB)\u001b[0m\n",
      "\u001b[34mCollecting beautifulsoup4 (from -r requirements.txt (line 4))\n",
      "  Downloading https://files.pythonhosted.org/packages/cb/a1/c698cf319e9cfed6b17376281bd0efc6bfc8465698f54170ef60a485ab5d/beautifulsoup4-4.8.2-py3-none-any.whl (106kB)\u001b[0m\n",
      "\u001b[34mCollecting html5lib (from -r requirements.txt (line 5))\n",
      "  Downloading https://files.pythonhosted.org/packages/a5/62/bbd2be0e7943ec8504b517e62bab011b4946e1258842bc159e5dfde15b96/html5lib-1.0.1-py2.py3-none-any.whl (117kB)\u001b[0m\n",
      "\u001b[34mCollecting pytz>=2011k (from pandas->-r requirements.txt (line 1))\n",
      "  Downloading https://files.pythonhosted.org/packages/e7/f9/f0b53f88060247251bf481fa6ea62cd0d25bf1b11a87888e53ce5b7c8ad2/pytz-2019.3-py2.py3-none-any.whl (509kB)\u001b[0m\n",
      "\u001b[34mRequirement already satisfied, skipping upgrade: python-dateutil>=2.5.0 in /usr/local/lib/python3.5/dist-packages (from pandas->-r requirements.txt (line 1)) (2.7.5)\u001b[0m\n",
      "\u001b[34mRequirement already satisfied, skipping upgrade: six in /usr/local/lib/python3.5/dist-packages (from nltk->-r requirements.txt (line 3)) (1.11.0)\u001b[0m\n",
      "\u001b[34mCollecting soupsieve>=1.2 (from beautifulsoup4->-r requirements.txt (line 4))\n",
      "  Downloading https://files.pythonhosted.org/packages/81/94/03c0f04471fc245d08d0a99f7946ac228ca98da4fa75796c507f61e688c2/soupsieve-1.9.5-py2.py3-none-any.whl\u001b[0m\n",
      "\u001b[34mCollecting webencodings (from html5lib->-r requirements.txt (line 5))\n",
      "  Downloading https://files.pythonhosted.org/packages/f4/24/2a3e3df732393fed8b3ebf2ec078f05546de641fe1b667ee316ec1dcf3b7/webencodings-0.5.1-py2.py3-none-any.whl\u001b[0m\n",
      "\u001b[34mBuilding wheels for collected packages: nltk, train\n",
      "  Running setup.py bdist_wheel for nltk: started\u001b[0m\n",
      "\u001b[34m  Running setup.py bdist_wheel for nltk: finished with status 'done'\n",
      "  Stored in directory: /root/.cache/pip/wheels/96/86/f6/68ab24c23f207c0077381a5e3904b2815136b879538a24b483\n",
      "  Running setup.py bdist_wheel for train: started\n",
      "  Running setup.py bdist_wheel for train: finished with status 'done'\n",
      "  Stored in directory: /tmp/pip-ephem-wheel-cache-8rx3biu2/wheels/35/24/16/37574d11bf9bde50616c67372a334f94fa8356bc7164af8ca3\u001b[0m\n",
      "\u001b[34mSuccessfully built nltk train\u001b[0m\n",
      "\n",
      "2019-12-27 19:15:00 Training - Training image download completed. Training in progress.\u001b[34mInstalling collected packages: pytz, numpy, pandas, nltk, soupsieve, beautifulsoup4, webencodings, html5lib, train\n",
      "  Found existing installation: numpy 1.15.4\n",
      "    Uninstalling numpy-1.15.4:\n",
      "      Successfully uninstalled numpy-1.15.4\u001b[0m\n",
      "\u001b[34mSuccessfully installed beautifulsoup4-4.8.2 html5lib-1.0.1 nltk-3.4.5 numpy-1.18.0 pandas-0.24.2 pytz-2019.3 soupsieve-1.9.5 train-1.0.0 webencodings-0.5.1\u001b[0m\n",
      "\u001b[34mYou are using pip version 18.1, however version 19.3.1 is available.\u001b[0m\n",
      "\u001b[34mYou should consider upgrading via the 'pip install --upgrade pip' command.\u001b[0m\n",
      "\u001b[34m2019-12-27 19:15:15,987 sagemaker-containers INFO     Invoking user script\n",
      "\u001b[0m\n",
      "\u001b[34mTraining Env:\n",
      "\u001b[0m\n",
      "\u001b[34m{\n",
      "    \"num_gpus\": 1,\n",
      "    \"module_dir\": \"s3://sagemaker-eu-west-1-109097566252/sagemaker-pytorch-2019-12-27-19-11-54-052/source/sourcedir.tar.gz\",\n",
      "    \"model_dir\": \"/opt/ml/model\",\n",
      "    \"framework_module\": \"sagemaker_pytorch_container.training:main\",\n",
      "    \"resource_config\": {\n",
      "        \"current_host\": \"algo-1\",\n",
      "        \"hosts\": [\n",
      "            \"algo-1\"\n",
      "        ],\n",
      "        \"network_interface_name\": \"eth0\"\n",
      "    },\n",
      "    \"num_cpus\": 4,\n",
      "    \"current_host\": \"algo-1\",\n",
      "    \"output_dir\": \"/opt/ml/output\",\n",
      "    \"additional_framework_parameters\": {},\n",
      "    \"user_entry_point\": \"train.py\",\n",
      "    \"output_data_dir\": \"/opt/ml/output/data\",\n",
      "    \"input_config_dir\": \"/opt/ml/input/config\",\n",
      "    \"hyperparameters\": {\n",
      "        \"hidden_dim\": 200,\n",
      "        \"epochs\": 10\n",
      "    },\n",
      "    \"channel_input_dirs\": {\n",
      "        \"training\": \"/opt/ml/input/data/training\"\n",
      "    },\n",
      "    \"job_name\": \"sagemaker-pytorch-2019-12-27-19-11-54-052\",\n",
      "    \"network_interface_name\": \"eth0\",\n",
      "    \"log_level\": 20,\n",
      "    \"input_data_config\": {\n",
      "        \"training\": {\n",
      "            \"RecordWrapperType\": \"None\",\n",
      "            \"S3DistributionType\": \"FullyReplicated\",\n",
      "            \"TrainingInputMode\": \"File\"\n",
      "        }\n",
      "    },\n",
      "    \"hosts\": [\n",
      "        \"algo-1\"\n",
      "    ],\n",
      "    \"input_dir\": \"/opt/ml/input\",\n",
      "    \"output_intermediate_dir\": \"/opt/ml/output/intermediate\",\n",
      "    \"module_name\": \"train\"\u001b[0m\n",
      "\u001b[34m}\n",
      "\u001b[0m\n",
      "\u001b[34mEnvironment variables:\n",
      "\u001b[0m\n",
      "\u001b[34mSM_NUM_CPUS=4\u001b[0m\n",
      "\u001b[34mSM_CURRENT_HOST=algo-1\u001b[0m\n",
      "\u001b[34mSM_HPS={\"epochs\":10,\"hidden_dim\":200}\u001b[0m\n",
      "\u001b[34mSM_USER_ENTRY_POINT=train.py\u001b[0m\n",
      "\u001b[34mSM_USER_ARGS=[\"--epochs\",\"10\",\"--hidden_dim\",\"200\"]\u001b[0m\n",
      "\u001b[34mSM_INPUT_DATA_CONFIG={\"training\":{\"RecordWrapperType\":\"None\",\"S3DistributionType\":\"FullyReplicated\",\"TrainingInputMode\":\"File\"}}\u001b[0m\n",
      "\u001b[34mSM_OUTPUT_INTERMEDIATE_DIR=/opt/ml/output/intermediate\u001b[0m\n",
      "\u001b[34mPYTHONPATH=/usr/local/bin:/usr/lib/python35.zip:/usr/lib/python3.5:/usr/lib/python3.5/plat-x86_64-linux-gnu:/usr/lib/python3.5/lib-dynload:/usr/local/lib/python3.5/dist-packages:/usr/lib/python3/dist-packages\u001b[0m\n",
      "\u001b[34mSM_CHANNEL_TRAINING=/opt/ml/input/data/training\u001b[0m\n",
      "\u001b[34mSM_MODEL_DIR=/opt/ml/model\u001b[0m\n",
      "\u001b[34mSM_FRAMEWORK_PARAMS={}\u001b[0m\n",
      "\u001b[34mSM_INPUT_DIR=/opt/ml/input\u001b[0m\n",
      "\u001b[34mSM_OUTPUT_DATA_DIR=/opt/ml/output/data\u001b[0m\n",
      "\u001b[34mSM_INPUT_CONFIG_DIR=/opt/ml/input/config\u001b[0m\n",
      "\u001b[34mSM_LOG_LEVEL=20\u001b[0m\n",
      "\u001b[34mSM_HP_EPOCHS=10\u001b[0m\n",
      "\u001b[34mSM_NETWORK_INTERFACE_NAME=eth0\u001b[0m\n",
      "\u001b[34mSM_RESOURCE_CONFIG={\"current_host\":\"algo-1\",\"hosts\":[\"algo-1\"],\"network_interface_name\":\"eth0\"}\u001b[0m\n",
      "\u001b[34mSM_TRAINING_ENV={\"additional_framework_parameters\":{},\"channel_input_dirs\":{\"training\":\"/opt/ml/input/data/training\"},\"current_host\":\"algo-1\",\"framework_module\":\"sagemaker_pytorch_container.training:main\",\"hosts\":[\"algo-1\"],\"hyperparameters\":{\"epochs\":10,\"hidden_dim\":200},\"input_config_dir\":\"/opt/ml/input/config\",\"input_data_config\":{\"training\":{\"RecordWrapperType\":\"None\",\"S3DistributionType\":\"FullyReplicated\",\"TrainingInputMode\":\"File\"}},\"input_dir\":\"/opt/ml/input\",\"job_name\":\"sagemaker-pytorch-2019-12-27-19-11-54-052\",\"log_level\":20,\"model_dir\":\"/opt/ml/model\",\"module_dir\":\"s3://sagemaker-eu-west-1-109097566252/sagemaker-pytorch-2019-12-27-19-11-54-052/source/sourcedir.tar.gz\",\"module_name\":\"train\",\"network_interface_name\":\"eth0\",\"num_cpus\":4,\"num_gpus\":1,\"output_data_dir\":\"/opt/ml/output/data\",\"output_dir\":\"/opt/ml/output\",\"output_intermediate_dir\":\"/opt/ml/output/intermediate\",\"resource_config\":{\"current_host\":\"algo-1\",\"hosts\":[\"algo-1\"],\"network_interface_name\":\"eth0\"},\"user_entry_point\":\"train.py\"}\u001b[0m\n",
      "\u001b[34mSM_MODULE_NAME=train\u001b[0m\n",
      "\u001b[34mSM_MODULE_DIR=s3://sagemaker-eu-west-1-109097566252/sagemaker-pytorch-2019-12-27-19-11-54-052/source/sourcedir.tar.gz\u001b[0m\n",
      "\u001b[34mSM_HP_HIDDEN_DIM=200\u001b[0m\n",
      "\u001b[34mSM_NUM_GPUS=1\u001b[0m\n",
      "\u001b[34mSM_OUTPUT_DIR=/opt/ml/output\u001b[0m\n",
      "\u001b[34mSM_CHANNELS=[\"training\"]\u001b[0m\n",
      "\u001b[34mSM_FRAMEWORK_MODULE=sagemaker_pytorch_container.training:main\u001b[0m\n",
      "\u001b[34mSM_HOSTS=[\"algo-1\"]\n",
      "\u001b[0m\n",
      "\u001b[34mInvoking script with the following command:\n",
      "\u001b[0m\n",
      "\u001b[34m/usr/bin/python -m train --epochs 10 --hidden_dim 200\n",
      "\n",
      "\u001b[0m\n",
      "\u001b[34mUsing device cuda.\u001b[0m\n",
      "\u001b[34mGet train data loader.\u001b[0m\n",
      "\u001b[34mModel loaded with embedding_dim 32, hidden_dim 200, vocab_size 5000.\u001b[0m\n",
      "\u001b[34mEpoch: 1, BCELoss: 0.672293658159217\u001b[0m\n",
      "\u001b[34mEpoch: 2, BCELoss: 0.5918521175579149\u001b[0m\n",
      "\u001b[34mEpoch: 3, BCELoss: 0.5248831346326944\u001b[0m\n",
      "\u001b[34mEpoch: 4, BCELoss: 0.4550899613876732\u001b[0m\n",
      "\u001b[34mEpoch: 5, BCELoss: 0.40031422583424314\u001b[0m\n",
      "\u001b[34mEpoch: 6, BCELoss: 0.35245734453201294\u001b[0m\n",
      "\u001b[34mEpoch: 7, BCELoss: 0.3252277088408567\u001b[0m\n",
      "\u001b[34mEpoch: 8, BCELoss: 0.32803502496407955\u001b[0m\n",
      "\u001b[34mEpoch: 9, BCELoss: 0.29570869128314814\u001b[0m\n",
      "\n",
      "2019-12-27 19:18:24 Uploading - Uploading generated training model\n",
      "2019-12-27 19:18:24 Completed - Training job completed\n",
      "\u001b[34mEpoch: 10, BCELoss: 0.2706853580109927\u001b[0m\n",
      "\u001b[34m2019-12-27 19:18:14,453 sagemaker-containers INFO     Reporting training SUCCESS\u001b[0m\n",
      "Training seconds: 274\n",
      "Billable seconds: 274\n"
     ]
    }
   ],
   "source": [
    "estimator.fit({'training': input_data})"
   ]
  },
  {
   "cell_type": "markdown",
   "metadata": {},
   "source": [
    "## Step 5: Testing the model\n",
    "\n",
    "As mentioned at the top of this notebook, we will be testing this model by first deploying it and then sending the testing data to the deployed endpoint. We will do this so that we can make sure that the deployed model is working correctly.\n",
    "\n",
    "## Step 6: Deploy the model for testing\n",
    "\n",
    "Now that we have trained our model, we would like to test it to see how it performs. Currently our model takes input of the form `review_length, review[500]` where `review[500]` is a sequence of `500` integers which describe the words present in the review, encoded using `word_dict`. Fortunately for us, SageMaker provides built-in inference code for models with simple inputs such as this.\n",
    "\n",
    "There is one thing that we need to provide, however, and that is a function which loads the saved model. This function must be called `model_fn()` and takes as its only parameter a path to the directory where the model artifacts are stored. This function must also be present in the python file which we specified as the entry point. In our case the model loading function has been provided and so no changes need to be made.\n",
    "\n",
    "**NOTE**: When the built-in inference code is run it must import the `model_fn()` method from the `train.py` file. This is why the training code is wrapped in a main guard ( ie, `if __name__ == '__main__':` )\n",
    "\n",
    "Since we don't need to change anything in the code that was uploaded during training, we can simply deploy the current model as-is.\n",
    "\n",
    "**NOTE:** When deploying a model you are asking SageMaker to launch an compute instance that will wait for data to be sent to it. As a result, this compute instance will continue to run until *you* shut it down. This is important to know since the cost of a deployed endpoint depends on how long it has been running for.\n",
    "\n",
    "In other words **If you are no longer using a deployed endpoint, shut it down!**\n",
    "\n",
    "**TODO:** Deploy the trained model."
   ]
  },
  {
   "cell_type": "code",
   "execution_count": 29,
   "metadata": {},
   "outputs": [
    {
     "name": "stdout",
     "output_type": "stream",
     "text": [
      "--------------------------------------------------------------------------------------!"
     ]
    },
    {
     "data": {
      "text/plain": [
       "'sagemaker-pytorch-2019-12-27-19-11-54-052'"
      ]
     },
     "execution_count": 29,
     "metadata": {},
     "output_type": "execute_result"
    }
   ],
   "source": [
    "# TODO: Deploy the trained model\n",
    "predictor = estimator.deploy(initial_instance_count=1, instance_type='ml.m4.xlarge')\n",
    "predictor.endpoint"
   ]
  },
  {
   "cell_type": "markdown",
   "metadata": {},
   "source": [
    "## Step 7 - Use the model for testing\n",
    "\n",
    "Once deployed, we can read in the test data and send it off to our deployed model to get some results. Once we collect all of the results we can determine how accurate our model is."
   ]
  },
  {
   "cell_type": "code",
   "execution_count": 30,
   "metadata": {},
   "outputs": [],
   "source": [
    "test_X = pd.concat([pd.DataFrame(test_X_len), pd.DataFrame(test_X)], axis=1)"
   ]
  },
  {
   "cell_type": "code",
   "execution_count": 31,
   "metadata": {},
   "outputs": [],
   "source": [
    "# We split the data into chunks and send each chunk seperately, accumulating the results.\n",
    "\n",
    "def predict(data, rows=512):\n",
    "    split_array = np.array_split(data, int(data.shape[0] / float(rows) + 1))\n",
    "    predictions = np.array([])\n",
    "    for array in split_array:\n",
    "        predictions = np.append(predictions, predictor.predict(array))\n",
    "    \n",
    "    return predictions"
   ]
  },
  {
   "cell_type": "code",
   "execution_count": 32,
   "metadata": {},
   "outputs": [],
   "source": [
    "predictions = predict(test_X.values)\n",
    "predictions = [round(num) for num in predictions]"
   ]
  },
  {
   "cell_type": "code",
   "execution_count": 33,
   "metadata": {},
   "outputs": [
    {
     "data": {
      "text/plain": [
       "0.85132"
      ]
     },
     "execution_count": 33,
     "metadata": {},
     "output_type": "execute_result"
    }
   ],
   "source": [
    "from sklearn.metrics import accuracy_score\n",
    "accuracy_score(test_y, predictions)"
   ]
  },
  {
   "cell_type": "markdown",
   "metadata": {},
   "source": [
    "**Question:** How does this model compare to the XGBoost model you created earlier? Why might these two models perform differently on this dataset? Which do *you* think is better for sentiment analysis?"
   ]
  },
  {
   "cell_type": "markdown",
   "metadata": {},
   "source": [
    "**Answer:**\n",
    "\n",
    "Both models have almost similar performances. \n",
    "I think that the RNN model above should be able to outperform the XGBoost model considering that in the XGBoost model we ran a hyperparameter tuning process to achieve the same performance, which is not the case with this RNN model.\n",
    "\n",
    "Two, RNN's are particularly good at understanding the order of features as compared to XGBoost models. Under the same conditions, we should be able to achieve better performance with this RNN."
   ]
  },
  {
   "cell_type": "markdown",
   "metadata": {},
   "source": [
    "### (TODO) More testing\n",
    "\n",
    "We now have a trained model which has been deployed and which we can send processed reviews to and which returns the predicted sentiment. However, ultimately we would like to be able to send our model an unprocessed review. That is, we would like to send the review itself as a string. For example, suppose we wish to send the following review to our model."
   ]
  },
  {
   "cell_type": "code",
   "execution_count": 34,
   "metadata": {},
   "outputs": [],
   "source": [
    "test_review = 'The simplest pleasures in life are the best, and this film is one of them. Combining a rather basic storyline of love and adventure this movie transcends the usual weekend fair with wit and unmitigated charm.'"
   ]
  },
  {
   "cell_type": "markdown",
   "metadata": {},
   "source": [
    "The question we now need to answer is, how do we send this review to our model?\n",
    "\n",
    "Recall in the first section of this notebook we did a bunch of data processing to the IMDb dataset. In particular, we did two specific things to the provided reviews.\n",
    " - Removed any html tags and stemmed the input\n",
    " - Encoded the review as a sequence of integers using `word_dict`\n",
    " \n",
    "In order process the review we will need to repeat these two steps.\n",
    "\n",
    "**TODO**: Using the `review_to_words` and `convert_and_pad` methods from section one, convert `test_review` into a numpy array `test_data` suitable to send to our model. Remember that our model expects input of the form `review_length, review[500]`."
   ]
  },
  {
   "cell_type": "code",
   "execution_count": 35,
   "metadata": {},
   "outputs": [],
   "source": [
    "# TODO: Convert test_review into a form usable by the model and save the results in test_data\n",
    "test_words = [review_to_words(test_review)]\n",
    "test_X_data, len_test_data = convert_and_pad_data(word_dict, test_words)\n",
    "test_data = pd.concat([pd.DataFrame(len_test_data), pd.DataFrame(test_X_data)], axis=1)"
   ]
  },
  {
   "cell_type": "markdown",
   "metadata": {},
   "source": [
    "Now that we have processed the review, we can send the resulting array to our model to predict the sentiment of the review."
   ]
  },
  {
   "cell_type": "code",
   "execution_count": 36,
   "metadata": {},
   "outputs": [
    {
     "data": {
      "text/plain": [
       "array(0.7555866, dtype=float32)"
      ]
     },
     "execution_count": 36,
     "metadata": {},
     "output_type": "execute_result"
    }
   ],
   "source": [
    "predictor.predict(test_data)"
   ]
  },
  {
   "cell_type": "markdown",
   "metadata": {},
   "source": [
    "Since the return value of our model is close to `1`, we can be certain that the review we submitted is positive."
   ]
  },
  {
   "cell_type": "markdown",
   "metadata": {},
   "source": [
    "### Delete the endpoint\n",
    "\n",
    "Of course, just like in the XGBoost notebook, once we've deployed an endpoint it continues to run until we tell it to shut down. Since we are done using our endpoint for now, we can delete it."
   ]
  },
  {
   "cell_type": "code",
   "execution_count": 37,
   "metadata": {},
   "outputs": [],
   "source": [
    "estimator.delete_endpoint()"
   ]
  },
  {
   "cell_type": "markdown",
   "metadata": {},
   "source": [
    "## Step 6 (again) - Deploy the model for the web app\n",
    "\n",
    "Now that we know that our model is working, it's time to create some custom inference code so that we can send the model a review which has not been processed and have it determine the sentiment of the review.\n",
    "\n",
    "As we saw above, by default the estimator which we created, when deployed, will use the entry script and directory which we provided when creating the model. However, since we now wish to accept a string as input and our model expects a processed review, we need to write some custom inference code.\n",
    "\n",
    "We will store the code that we write in the `serve` directory. Provided in this directory is the `model.py` file that we used to construct our model, a `utils.py` file which contains the `review_to_words` and `convert_and_pad` pre-processing functions which we used during the initial data processing, and `predict.py`, the file which will contain our custom inference code. Note also that `requirements.txt` is present which will tell SageMaker what Python libraries are required by our custom inference code.\n",
    "\n",
    "When deploying a PyTorch model in SageMaker, you are expected to provide four functions which the SageMaker inference container will use.\n",
    " - `model_fn`: This function is the same function that we used in the training script and it tells SageMaker how to load our model.\n",
    " - `input_fn`: This function receives the raw serialized input that has been sent to the model's endpoint and its job is to de-serialize and make the input available for the inference code.\n",
    " - `output_fn`: This function takes the output of the inference code and its job is to serialize this output and return it to the caller of the model's endpoint.\n",
    " - `predict_fn`: The heart of the inference script, this is where the actual prediction is done and is the function which you will need to complete.\n",
    "\n",
    "For the simple website that we are constructing during this project, the `input_fn` and `output_fn` methods are relatively straightforward. We only require being able to accept a string as input and we expect to return a single value as output. You might imagine though that in a more complex application the input or output may be image data or some other binary data which would require some effort to serialize.\n",
    "\n",
    "### (TODO) Writing inference code\n",
    "\n",
    "Before writing our custom inference code, we will begin by taking a look at the code which has been provided."
   ]
  },
  {
   "cell_type": "code",
   "execution_count": 38,
   "metadata": {},
   "outputs": [
    {
     "name": "stdout",
     "output_type": "stream",
     "text": [
      "\u001b[34mimport\u001b[39;49;00m \u001b[04m\u001b[36margparse\u001b[39;49;00m\n",
      "\u001b[34mimport\u001b[39;49;00m \u001b[04m\u001b[36mjson\u001b[39;49;00m\n",
      "\u001b[34mimport\u001b[39;49;00m \u001b[04m\u001b[36mos\u001b[39;49;00m\n",
      "\u001b[34mimport\u001b[39;49;00m \u001b[04m\u001b[36mpickle\u001b[39;49;00m\n",
      "\u001b[34mimport\u001b[39;49;00m \u001b[04m\u001b[36msys\u001b[39;49;00m\n",
      "\u001b[34mimport\u001b[39;49;00m \u001b[04m\u001b[36msagemaker_containers\u001b[39;49;00m\n",
      "\u001b[34mimport\u001b[39;49;00m \u001b[04m\u001b[36mpandas\u001b[39;49;00m \u001b[34mas\u001b[39;49;00m \u001b[04m\u001b[36mpd\u001b[39;49;00m\n",
      "\u001b[34mimport\u001b[39;49;00m \u001b[04m\u001b[36mnumpy\u001b[39;49;00m \u001b[34mas\u001b[39;49;00m \u001b[04m\u001b[36mnp\u001b[39;49;00m\n",
      "\u001b[34mimport\u001b[39;49;00m \u001b[04m\u001b[36mtorch\u001b[39;49;00m\n",
      "\u001b[34mimport\u001b[39;49;00m \u001b[04m\u001b[36mtorch.nn\u001b[39;49;00m \u001b[34mas\u001b[39;49;00m \u001b[04m\u001b[36mnn\u001b[39;49;00m\n",
      "\u001b[34mimport\u001b[39;49;00m \u001b[04m\u001b[36mtorch.optim\u001b[39;49;00m \u001b[34mas\u001b[39;49;00m \u001b[04m\u001b[36moptim\u001b[39;49;00m\n",
      "\u001b[34mimport\u001b[39;49;00m \u001b[04m\u001b[36mtorch.utils.data\u001b[39;49;00m\n",
      "\n",
      "\u001b[34mfrom\u001b[39;49;00m \u001b[04m\u001b[36mmodel\u001b[39;49;00m \u001b[34mimport\u001b[39;49;00m LSTMClassifier\n",
      "\n",
      "\u001b[34mfrom\u001b[39;49;00m \u001b[04m\u001b[36mutils\u001b[39;49;00m \u001b[34mimport\u001b[39;49;00m review_to_words, convert_and_pad\n",
      "\n",
      "\u001b[34mdef\u001b[39;49;00m \u001b[32mmodel_fn\u001b[39;49;00m(model_dir):\n",
      "    \u001b[33m\"\"\"Load the PyTorch model from the `model_dir` directory.\"\"\"\u001b[39;49;00m\n",
      "    \u001b[34mprint\u001b[39;49;00m(\u001b[33m\"\u001b[39;49;00m\u001b[33mLoading model.\u001b[39;49;00m\u001b[33m\"\u001b[39;49;00m)\n",
      "\n",
      "    \u001b[37m# First, load the parameters used to create the model.\u001b[39;49;00m\n",
      "    model_info = {}\n",
      "    model_info_path = os.path.join(model_dir, \u001b[33m'\u001b[39;49;00m\u001b[33mmodel_info.pth\u001b[39;49;00m\u001b[33m'\u001b[39;49;00m)\n",
      "    \u001b[34mwith\u001b[39;49;00m \u001b[36mopen\u001b[39;49;00m(model_info_path, \u001b[33m'\u001b[39;49;00m\u001b[33mrb\u001b[39;49;00m\u001b[33m'\u001b[39;49;00m) \u001b[34mas\u001b[39;49;00m f:\n",
      "        model_info = torch.load(f)\n",
      "\n",
      "    \u001b[34mprint\u001b[39;49;00m(\u001b[33m\"\u001b[39;49;00m\u001b[33mmodel_info: {}\u001b[39;49;00m\u001b[33m\"\u001b[39;49;00m.format(model_info))\n",
      "\n",
      "    \u001b[37m# Determine the device and construct the model.\u001b[39;49;00m\n",
      "    device = torch.device(\u001b[33m\"\u001b[39;49;00m\u001b[33mcuda\u001b[39;49;00m\u001b[33m\"\u001b[39;49;00m \u001b[34mif\u001b[39;49;00m torch.cuda.is_available() \u001b[34melse\u001b[39;49;00m \u001b[33m\"\u001b[39;49;00m\u001b[33mcpu\u001b[39;49;00m\u001b[33m\"\u001b[39;49;00m)\n",
      "    model = LSTMClassifier(model_info[\u001b[33m'\u001b[39;49;00m\u001b[33membedding_dim\u001b[39;49;00m\u001b[33m'\u001b[39;49;00m], model_info[\u001b[33m'\u001b[39;49;00m\u001b[33mhidden_dim\u001b[39;49;00m\u001b[33m'\u001b[39;49;00m], model_info[\u001b[33m'\u001b[39;49;00m\u001b[33mvocab_size\u001b[39;49;00m\u001b[33m'\u001b[39;49;00m])\n",
      "\n",
      "    \u001b[37m# Load the store model parameters.\u001b[39;49;00m\n",
      "    model_path = os.path.join(model_dir, \u001b[33m'\u001b[39;49;00m\u001b[33mmodel.pth\u001b[39;49;00m\u001b[33m'\u001b[39;49;00m)\n",
      "    \u001b[34mwith\u001b[39;49;00m \u001b[36mopen\u001b[39;49;00m(model_path, \u001b[33m'\u001b[39;49;00m\u001b[33mrb\u001b[39;49;00m\u001b[33m'\u001b[39;49;00m) \u001b[34mas\u001b[39;49;00m f:\n",
      "        model.load_state_dict(torch.load(f))\n",
      "\n",
      "    \u001b[37m# Load the saved word_dict.\u001b[39;49;00m\n",
      "    word_dict_path = os.path.join(model_dir, \u001b[33m'\u001b[39;49;00m\u001b[33mword_dict.pkl\u001b[39;49;00m\u001b[33m'\u001b[39;49;00m)\n",
      "    \u001b[34mwith\u001b[39;49;00m \u001b[36mopen\u001b[39;49;00m(word_dict_path, \u001b[33m'\u001b[39;49;00m\u001b[33mrb\u001b[39;49;00m\u001b[33m'\u001b[39;49;00m) \u001b[34mas\u001b[39;49;00m f:\n",
      "        model.word_dict = pickle.load(f)\n",
      "\n",
      "    model.to(device).eval()\n",
      "\n",
      "    \u001b[34mprint\u001b[39;49;00m(\u001b[33m\"\u001b[39;49;00m\u001b[33mDone loading model.\u001b[39;49;00m\u001b[33m\"\u001b[39;49;00m)\n",
      "    \u001b[34mreturn\u001b[39;49;00m model\n",
      "\n",
      "\u001b[34mdef\u001b[39;49;00m \u001b[32minput_fn\u001b[39;49;00m(serialized_input_data, content_type):\n",
      "    \u001b[34mprint\u001b[39;49;00m(\u001b[33m'\u001b[39;49;00m\u001b[33mDeserializing the input data.\u001b[39;49;00m\u001b[33m'\u001b[39;49;00m)\n",
      "    \u001b[34mif\u001b[39;49;00m content_type == \u001b[33m'\u001b[39;49;00m\u001b[33mtext/plain\u001b[39;49;00m\u001b[33m'\u001b[39;49;00m:\n",
      "        data = serialized_input_data.decode(\u001b[33m'\u001b[39;49;00m\u001b[33mutf-8\u001b[39;49;00m\u001b[33m'\u001b[39;49;00m)\n",
      "        \u001b[34mreturn\u001b[39;49;00m data\n",
      "    \u001b[34mraise\u001b[39;49;00m \u001b[36mException\u001b[39;49;00m(\u001b[33m'\u001b[39;49;00m\u001b[33mRequested unsupported ContentType in content_type: \u001b[39;49;00m\u001b[33m'\u001b[39;49;00m + content_type)\n",
      "\n",
      "\u001b[34mdef\u001b[39;49;00m \u001b[32moutput_fn\u001b[39;49;00m(prediction_output, accept):\n",
      "    \u001b[34mprint\u001b[39;49;00m(\u001b[33m'\u001b[39;49;00m\u001b[33mSerializing the generated output.\u001b[39;49;00m\u001b[33m'\u001b[39;49;00m)\n",
      "    \u001b[34mreturn\u001b[39;49;00m \u001b[36mstr\u001b[39;49;00m(prediction_output)\n",
      "\n",
      "\u001b[34mdef\u001b[39;49;00m \u001b[32mpredict_fn\u001b[39;49;00m(input_data, model):\n",
      "    \u001b[34mprint\u001b[39;49;00m(\u001b[33m'\u001b[39;49;00m\u001b[33mInferring sentiment of input data.\u001b[39;49;00m\u001b[33m'\u001b[39;49;00m)\n",
      "\n",
      "    device = torch.device(\u001b[33m\"\u001b[39;49;00m\u001b[33mcuda\u001b[39;49;00m\u001b[33m\"\u001b[39;49;00m \u001b[34mif\u001b[39;49;00m torch.cuda.is_available() \u001b[34melse\u001b[39;49;00m \u001b[33m\"\u001b[39;49;00m\u001b[33mcpu\u001b[39;49;00m\u001b[33m\"\u001b[39;49;00m)\n",
      "    \n",
      "    \u001b[34mif\u001b[39;49;00m model.word_dict \u001b[35mis\u001b[39;49;00m \u001b[36mNone\u001b[39;49;00m:\n",
      "        \u001b[34mraise\u001b[39;49;00m \u001b[36mException\u001b[39;49;00m(\u001b[33m'\u001b[39;49;00m\u001b[33mModel has not been loaded properly, no word_dict.\u001b[39;49;00m\u001b[33m'\u001b[39;49;00m)\n",
      "    \n",
      "    \u001b[37m# TODO: Process input_data so that it is ready to be sent to our model.\u001b[39;49;00m\n",
      "    \u001b[37m#       You should produce two variables:\u001b[39;49;00m\n",
      "    \u001b[37m#         data_X   - A sequence of length 500 which represents the converted review\u001b[39;49;00m\n",
      "    \u001b[37m#         data_len - The length of the review\u001b[39;49;00m\n",
      "    \n",
      "    words = review_to_words(input_data)\n",
      "\n",
      "    data_X, data_len = convert_and_pad(model.word_dict, words)\n",
      "\n",
      "    \u001b[37m# Using data_X and data_len we construct an appropriate input tensor. Remember\u001b[39;49;00m\n",
      "    \u001b[37m# that our model expects input data of the form 'len, review[500]'.\u001b[39;49;00m\n",
      "    data_pack = np.hstack((data_len, data_X))\n",
      "    data_pack = data_pack.reshape(\u001b[34m1\u001b[39;49;00m, -\u001b[34m1\u001b[39;49;00m)\n",
      "    \n",
      "    data = torch.from_numpy(data_pack)\n",
      "    data = data.to(device)\n",
      "\n",
      "    \u001b[37m# Make sure to put the model into evaluation mode\u001b[39;49;00m\n",
      "    model.eval()\n",
      "\n",
      "    \u001b[37m# TODO: Compute the result of applying the model to the input data. The variable `result` should\u001b[39;49;00m\n",
      "    \u001b[37m#       be a numpy array which contains a single integer which is either 1 or 0\u001b[39;49;00m\n",
      "    \n",
      "    \u001b[34mwith\u001b[39;49;00m torch.no_grad():\n",
      "        output = model.forward(data)\n",
      "        \n",
      "    result = np.round(output.numpy())\n",
      "    \n",
      "    \u001b[34mreturn\u001b[39;49;00m result\n"
     ]
    }
   ],
   "source": [
    "!pygmentize serve/predict.py"
   ]
  },
  {
   "cell_type": "markdown",
   "metadata": {},
   "source": [
    "As mentioned earlier, the `model_fn` method is the same as the one provided in the training code and the `input_fn` and `output_fn` methods are very simple and your task will be to complete the `predict_fn` method. Make sure that you save the completed file as `predict.py` in the `serve` directory.\n",
    "\n",
    "**TODO**: Complete the `predict_fn()` method in the `serve/predict.py` file."
   ]
  },
  {
   "cell_type": "markdown",
   "metadata": {},
   "source": [
    "### Deploying the model\n",
    "\n",
    "Now that the custom inference code has been written, we will create and deploy our model. To begin with, we need to construct a new PyTorchModel object which points to the model artifacts created during training and also points to the inference code that we wish to use. Then we can call the deploy method to launch the deployment container.\n",
    "\n",
    "**NOTE**: The default behaviour for a deployed PyTorch model is to assume that any input passed to the predictor is a `numpy` array. In our case we want to send a string so we need to construct a simple wrapper around the `RealTimePredictor` class to accomodate simple strings. In a more complicated situation you may want to provide a serialization object, for example if you wanted to sent image data."
   ]
  },
  {
   "cell_type": "code",
   "execution_count": 39,
   "metadata": {},
   "outputs": [
    {
     "data": {
      "text/plain": [
       "'s3://sagemaker-eu-west-1-109097566252/sagemaker-pytorch-2019-12-27-19-11-54-052/output/model.tar.gz'"
      ]
     },
     "execution_count": 39,
     "metadata": {},
     "output_type": "execute_result"
    }
   ],
   "source": [
    "model_data = estimator.model_data\n",
    "model_data"
   ]
  },
  {
   "cell_type": "code",
   "execution_count": 40,
   "metadata": {},
   "outputs": [
    {
     "name": "stdout",
     "output_type": "stream",
     "text": [
      "--------------------------------------------------------------------------------------!"
     ]
    }
   ],
   "source": [
    "from sagemaker.predictor import RealTimePredictor\n",
    "from sagemaker.pytorch import PyTorchModel\n",
    "\n",
    "class StringPredictor(RealTimePredictor):\n",
    "    def __init__(self, endpoint_name, sagemaker_session):\n",
    "        super(StringPredictor, self).__init__(endpoint_name, sagemaker_session, content_type='text/plain')\n",
    "\n",
    "model = PyTorchModel(model_data=estimator.model_data,\n",
    "                     role = role,\n",
    "                     framework_version='0.4.0',\n",
    "                     entry_point='predict.py',\n",
    "                     source_dir='serve',\n",
    "                     predictor_cls=StringPredictor)\n",
    "predictor = model.deploy(initial_instance_count=1, instance_type='ml.m4.xlarge')"
   ]
  },
  {
   "cell_type": "markdown",
   "metadata": {},
   "source": [
    "### Testing the model\n",
    "\n",
    "Now that we have deployed our model with the custom inference code, we should test to see if everything is working. Here we test our model by loading the first `250` positive and negative reviews and send them to the endpoint, then collect the results. The reason for only sending some of the data is that the amount of time it takes for our model to process the input and then perform inference is quite long and so testing the entire data set would be prohibitive."
   ]
  },
  {
   "cell_type": "code",
   "execution_count": 41,
   "metadata": {},
   "outputs": [],
   "source": [
    "import glob\n",
    "\n",
    "def test_reviews(data_dir='../data/aclImdb', stop=250):\n",
    "    \n",
    "    results = []\n",
    "    ground = []\n",
    "    \n",
    "    # We make sure to test both positive and negative reviews    \n",
    "    for sentiment in ['pos', 'neg']:\n",
    "        \n",
    "        path = os.path.join(data_dir, 'test', sentiment, '*.txt')\n",
    "        files = glob.glob(path)\n",
    "        \n",
    "        files_read = 0\n",
    "        \n",
    "        print('Starting ', sentiment, ' files')\n",
    "        \n",
    "        # Iterate through the files and send them to the predictor\n",
    "        for f in files:\n",
    "            with open(f) as review:\n",
    "                # First, we store the ground truth (was the review positive or negative)\n",
    "                if sentiment == 'pos':\n",
    "                    ground.append(1)\n",
    "                else:\n",
    "                    ground.append(0)\n",
    "                # Read in the review and convert to 'utf-8' for transmission via HTTP\n",
    "                review_input = review.read().encode('utf-8')\n",
    "                # Send the review to the predictor and store the results\n",
    "                results.append(float(predictor.predict(review_input)))\n",
    "                \n",
    "            # Sending reviews to our endpoint one at a time takes a while so we\n",
    "            # only send a small number of reviews\n",
    "            files_read += 1\n",
    "            if files_read == stop:\n",
    "                break\n",
    "            \n",
    "    return ground, results"
   ]
  },
  {
   "cell_type": "code",
   "execution_count": 42,
   "metadata": {},
   "outputs": [
    {
     "name": "stdout",
     "output_type": "stream",
     "text": [
      "Starting  pos  files\n",
      "Starting  neg  files\n"
     ]
    }
   ],
   "source": [
    "ground, results = test_reviews()"
   ]
  },
  {
   "cell_type": "code",
   "execution_count": 43,
   "metadata": {},
   "outputs": [
    {
     "data": {
      "text/plain": [
       "0.878"
      ]
     },
     "execution_count": 43,
     "metadata": {},
     "output_type": "execute_result"
    }
   ],
   "source": [
    "from sklearn.metrics import accuracy_score\n",
    "accuracy_score(ground, results)"
   ]
  },
  {
   "cell_type": "markdown",
   "metadata": {},
   "source": [
    "As an additional test, we can try sending the `test_review` that we looked at earlier."
   ]
  },
  {
   "cell_type": "code",
   "execution_count": 44,
   "metadata": {},
   "outputs": [
    {
     "data": {
      "text/plain": [
       "b'1.0'"
      ]
     },
     "execution_count": 44,
     "metadata": {},
     "output_type": "execute_result"
    }
   ],
   "source": [
    "predictor.predict(test_review)"
   ]
  },
  {
   "cell_type": "markdown",
   "metadata": {},
   "source": [
    "Now that we know our endpoint is working as expected, we can set up the web page that will interact with it. If you don't have time to finish the project now, make sure to skip down to the end of this notebook and shut down your endpoint. You can deploy it again when you come back."
   ]
  },
  {
   "cell_type": "markdown",
   "metadata": {},
   "source": [
    "## Step 7 (again): Use the model for the web app\n",
    "\n",
    "> **TODO:** This entire section and the next contain tasks for you to complete, mostly using the AWS console.\n",
    "\n",
    "So far we have been accessing our model endpoint by constructing a predictor object which uses the endpoint and then just using the predictor object to perform inference. What if we wanted to create a web app which accessed our model? The way things are set up currently makes that not possible since in order to access a SageMaker endpoint the app would first have to authenticate with AWS using an IAM role which included access to SageMaker endpoints. However, there is an easier way! We just need to use some additional AWS services.\n",
    "\n",
    "<img src=\"Web App Diagram.svg\">\n",
    "\n",
    "The diagram above gives an overview of how the various services will work together. On the far right is the model which we trained above and which is deployed using SageMaker. On the far left is our web app that collects a user's movie review, sends it off and expects a positive or negative sentiment in return.\n",
    "\n",
    "In the middle is where some of the magic happens. We will construct a Lambda function, which you can think of as a straightforward Python function that can be executed whenever a specified event occurs. We will give this function permission to send and recieve data from a SageMaker endpoint.\n",
    "\n",
    "Lastly, the method we will use to execute the Lambda function is a new endpoint that we will create using API Gateway. This endpoint will be a url that listens for data to be sent to it. Once it gets some data it will pass that data on to the Lambda function and then return whatever the Lambda function returns. Essentially it will act as an interface that lets our web app communicate with the Lambda function.\n",
    "\n",
    "### Setting up a Lambda function\n",
    "\n",
    "The first thing we are going to do is set up a Lambda function. This Lambda function will be executed whenever our public API has data sent to it. When it is executed it will receive the data, perform any sort of processing that is required, send the data (the review) to the SageMaker endpoint we've created and then return the result.\n",
    "\n",
    "#### Part A: Create an IAM Role for the Lambda function\n",
    "\n",
    "Since we want the Lambda function to call a SageMaker endpoint, we need to make sure that it has permission to do so. To do this, we will construct a role that we can later give the Lambda function.\n",
    "\n",
    "Using the AWS Console, navigate to the **IAM** page and click on **Roles**. Then, click on **Create role**. Make sure that the **AWS service** is the type of trusted entity selected and choose **Lambda** as the service that will use this role, then click **Next: Permissions**.\n",
    "\n",
    "In the search box type `sagemaker` and select the check box next to the **AmazonSageMakerFullAccess** policy. Then, click on **Next: Review**.\n",
    "\n",
    "Lastly, give this role a name. Make sure you use a name that you will remember later on, for example `LambdaSageMakerRole`. Then, click on **Create role**.\n",
    "\n",
    "#### Part B: Create a Lambda function\n",
    "\n",
    "Now it is time to actually create the Lambda function.\n",
    "\n",
    "Using the AWS Console, navigate to the AWS Lambda page and click on **Create a function**. When you get to the next page, make sure that **Author from scratch** is selected. Now, name your Lambda function, using a name that you will remember later on, for example `sentiment_analysis_func`. Make sure that the **Python 3.6** runtime is selected and then choose the role that you created in the previous part. Then, click on **Create Function**.\n",
    "\n",
    "On the next page you will see some information about the Lambda function you've just created. If you scroll down you should see an editor in which you can write the code that will be executed when your Lambda function is triggered. In our example, we will use the code below. \n",
    "\n",
    "```python\n",
    "# We need to use the low-level library to interact with SageMaker since the SageMaker API\n",
    "# is not available natively through Lambda.\n",
    "import boto3\n",
    "\n",
    "def lambda_handler(event, context):\n",
    "\n",
    "    # The SageMaker runtime is what allows us to invoke the endpoint that we've created.\n",
    "    runtime = boto3.Session().client('sagemaker-runtime')\n",
    "\n",
    "    # Now we use the SageMaker runtime to invoke our endpoint, sending the review we were given\n",
    "    response = runtime.invoke_endpoint(EndpointName = '**ENDPOINT NAME HERE**',    # The name of the endpoint we created\n",
    "                                       ContentType = 'text/plain',                 # The data format that is expected\n",
    "                                       Body = event['body'])                       # The actual review\n",
    "\n",
    "    # The response is an HTTP response whose body contains the result of our inference\n",
    "    result = response['Body'].read().decode('utf-8')\n",
    "\n",
    "    return {\n",
    "        'statusCode' : 200,\n",
    "        'headers' : { 'Content-Type' : 'text/plain', 'Access-Control-Allow-Origin' : '*' },\n",
    "        'body' : result\n",
    "    }\n",
    "```\n",
    "\n",
    "Once you have copy and pasted the code above into the Lambda code editor, replace the `**ENDPOINT NAME HERE**` portion with the name of the endpoint that we deployed earlier. You can determine the name of the endpoint using the code cell below."
   ]
  },
  {
   "cell_type": "code",
   "execution_count": 45,
   "metadata": {},
   "outputs": [
    {
     "data": {
      "text/plain": [
       "'sagemaker-pytorch-2019-12-27-19-31-52-456'"
      ]
     },
     "execution_count": 45,
     "metadata": {},
     "output_type": "execute_result"
    }
   ],
   "source": [
    "predictor.endpoint"
   ]
  },
  {
   "cell_type": "markdown",
   "metadata": {},
   "source": [
    "Once you have added the endpoint name to the Lambda function, click on **Save**. Your Lambda function is now up and running. Next we need to create a way for our web app to execute the Lambda function.\n",
    "\n",
    "### Setting up API Gateway\n",
    "\n",
    "Now that our Lambda function is set up, it is time to create a new API using API Gateway that will trigger the Lambda function we have just created.\n",
    "\n",
    "Using AWS Console, navigate to **Amazon API Gateway** and then click on **Get started**.\n",
    "\n",
    "On the next page, make sure that **New API** is selected and give the new api a name, for example, `sentiment_analysis_api`. Then, click on **Create API**.\n",
    "\n",
    "Now we have created an API, however it doesn't currently do anything. What we want it to do is to trigger the Lambda function that we created earlier.\n",
    "\n",
    "Select the **Actions** dropdown menu and click **Create Method**. A new blank method will be created, select its dropdown menu and select **POST**, then click on the check mark beside it.\n",
    "\n",
    "For the integration point, make sure that **Lambda Function** is selected and click on the **Use Lambda Proxy integration**. This option makes sure that the data that is sent to the API is then sent directly to the Lambda function with no processing. It also means that the return value must be a proper response object as it will also not be processed by API Gateway.\n",
    "\n",
    "Type the name of the Lambda function you created earlier into the **Lambda Function** text entry box and then click on **Save**. Click on **OK** in the pop-up box that then appears, giving permission to API Gateway to invoke the Lambda function you created.\n",
    "\n",
    "The last step in creating the API Gateway is to select the **Actions** dropdown and click on **Deploy API**. You will need to create a new Deployment stage and name it anything you like, for example `prod`.\n",
    "\n",
    "You have now successfully set up a public API to access your SageMaker model. Make sure to copy or write down the URL provided to invoke your newly created public API as this will be needed in the next step. This URL can be found at the top of the page, highlighted in blue next to the text **Invoke URL**."
   ]
  },
  {
   "cell_type": "markdown",
   "metadata": {},
   "source": [
    "## Step 4: Deploying our web app\n",
    "\n",
    "Now that we have a publicly available API, we can start using it in a web app. For our purposes, we have provided a simple static html file which can make use of the public api you created earlier.\n",
    "\n",
    "In the `website` folder there should be a file called `index.html`. Download the file to your computer and open that file up in a text editor of your choice. There should be a line which contains **\\*\\*REPLACE WITH PUBLIC API URL\\*\\***. Replace this string with the url that you wrote down in the last step and then save the file.\n",
    "\n",
    "Now, if you open `index.html` on your local computer, your browser will behave as a local web server and you can use the provided site to interact with your SageMaker model.\n",
    "\n",
    "If you'd like to go further, you can host this html file anywhere you'd like, for example using github or hosting a static site on Amazon's S3. Once you have done this you can share the link with anyone you'd like and have them play with it too!\n",
    "\n",
    "> **Important Note** In order for the web app to communicate with the SageMaker endpoint, the endpoint has to actually be deployed and running. This means that you are paying for it. Make sure that the endpoint is running when you want to use the web app but that you shut it down when you don't need it, otherwise you will end up with a surprisingly large AWS bill.\n",
    "\n",
    "**TODO:** Make sure that you include the edited `index.html` file in your project submission."
   ]
  },
  {
   "cell_type": "markdown",
   "metadata": {},
   "source": [
    "Now that your web app is working, trying playing around with it and see how well it works.\n",
    "\n",
    "**Question**: Give an example of a review that you entered into your web app. What was the predicted sentiment of your example review?"
   ]
  },
  {
   "cell_type": "markdown",
   "metadata": {},
   "source": [
    "**Answer:**\n",
    "Some tested reviews include:\n",
    "\n",
    "\"This movie!! aaaahhhggg\" : Your review is NEGATIVE\n",
    "\"This movie is awesome\" : Your review is POSITIVE\n"
   ]
  },
  {
   "cell_type": "markdown",
   "metadata": {},
   "source": [
    "### Delete the endpoint\n",
    "\n",
    "Remember to always shut down your endpoint if you are no longer using it. You are charged for the length of time that the endpoint is running so if you forget and leave it on you could end up with an unexpectedly large bill."
   ]
  },
  {
   "cell_type": "code",
   "execution_count": 46,
   "metadata": {},
   "outputs": [],
   "source": [
    "predictor.delete_endpoint()"
   ]
  },
  {
   "cell_type": "code",
   "execution_count": null,
   "metadata": {},
   "outputs": [],
   "source": []
  }
 ],
 "metadata": {
  "kernelspec": {
   "display_name": "conda_pytorch_p36",
   "language": "python",
   "name": "conda_pytorch_p36"
  },
  "language_info": {
   "codemirror_mode": {
    "name": "ipython",
    "version": 3
   },
   "file_extension": ".py",
   "mimetype": "text/x-python",
   "name": "python",
   "nbconvert_exporter": "python",
   "pygments_lexer": "ipython3",
   "version": "3.6.5"
  }
 },
 "nbformat": 4,
 "nbformat_minor": 2
}
